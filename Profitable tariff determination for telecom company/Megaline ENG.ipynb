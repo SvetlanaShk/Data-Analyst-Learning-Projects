{
 "cells": [
  {
   "cell_type": "markdown",
   "metadata": {},
   "source": [
    "<h1>Content</h1>\n",
    "\n",
    "1. Research data from files\n",
    "2. Data preparation\n",
    "    * 2.1. Processing NaNs\n",
    "    * 2.2. Data types conversion\n",
    "    * 2.3. Checking for duplicates\n",
    "    * 2.4. Preparing data for the analysis\n",
    "3. Data Analysis & Description\n",
    "4. Tests of hypotheses\n",
    "5. General conclusion"
   ]
  },
  {
   "cell_type": "markdown",
   "metadata": {},
   "source": [
    "# Finding out of a profitable tariff for the telecom company"
   ]
  },
  {
   "cell_type": "markdown",
   "metadata": {},
   "source": [
    "We have at our disposal the data of 500 users of telecom company \"Megaline\": who they are, where they are from, what tariff they use, how many calls and messages each sent in 2018. We have to analyze the behavior of customers and draw a conclusion - which tariff is better.\n",
    "\n",
    "**Tariff description**\n",
    "\n",
    "<u>Tariff «Smart»</u>\n",
    "\n",
    "Monthly charge: 550 RUB<br>\n",
    "Include 500 minutes to call, 50 SMS and 15 Gb internet traffic.<br>\n",
    "Additional charges over tariff limits:\n",
    "1. 1 minute to call: 3 RUB («Megaline» always rounds up minutes and Mbs. If the user spoke for only 1 second, a whole minute is counted in the tariff);\n",
    "2. 1 SMS: 3 RUB;\n",
    "3. 1 Gb internet: 200 RUB.\n",
    "\n",
    "<br>\n",
    "<u>Tariff «Ultra»</u>\n",
    "\n",
    "Monthly charge: 1950 RUB<br>\n",
    "Include 3000 minutes to call, 1000 SMS and 30 Gb internet traffic.<br>\n",
    "Additional charges over tariff limits:\n",
    "1. 1 minute to call: 1 RUB;\n",
    "2. 1 SMS: 1 RUB;\n",
    "3. 1 Gb internet:: 150 RUB.\n",
    "\n",
    "*Please note:\n",
    "Megaline always rounds seconds to minutes, and megabytes to gigabytes. Each call is rounded up separately: even if it lasted only 1 second, it will be counted as 1 minute.\n",
    "For web traffic, individual sessions are not counted. Instead, the monthly total is rounded up. If a subscriber uses 1025 megabytes this month, they will be charged for 2 gigabytes.*\n",
    "<br><br>\n",
    "\n",
    "**Data description**\n",
    "\n",
    "<u>1. Table users (users' information):</u>\n",
    "- user_id — unique user's id;\n",
    "- first_name — user's first name;\n",
    "- last_name — user's last name;\n",
    "- age — user's age (years);\n",
    "- reg_date — start date of using the tariff (day, month, year);\n",
    "- churn_date — termination date of using the tariff (if the value is omitted, then the tariff was still valid at the time of uploading the data);\n",
    "- city — city where user lives;\n",
    "- tariff — name of tariff.\n",
    "\n",
    "<u>2. Table calls (users' calls information):</u>\n",
    "- id — unique call's id;\n",
    "- call_date — date of call;\n",
    "- duration — call's duration in minutes (value 0 means missed call);\n",
    "- user_id — id of user, which made the call.\n",
    "\n",
    "<u>3. Table messages (SMS's information):</u>\n",
    "- id — unique SMS id;\n",
    "- message_date — date of SMS;\n",
    "- user_id — id of user, which sent the SMS.\n",
    "    \n",
    "<u>4. Table internet (internet sessions' information):</u>\n",
    "- id — unique session's id;\n",
    "- mb_used — the amount of Internet traffic spent per session (in megabytes);\n",
    "- session_date — date of session;\n",
    "- user_id — id of user.\n",
    "    \n",
    "<u>5. Table tariffs (tariff's information):</u>\n",
    "- tariff_name — name of tariff;\n",
    "- rub_monthly_fee — Monthly charge in RUB;\n",
    "- minutes_included — the number of minutes of calls per month included in the monthly charge;\n",
    "- messages_included — number of messages per month included in the monthly charge;\n",
    "- mb_per_month_included — the amount of Internet traffic included in the monthly charge (in megabytes);\n",
    "- rub_per_minute — the cost of a minute of calls over the tariff package (for example, if the tariff includes 100 minutes of conversation per month, then a fee will be charged from 101st minutes);\n",
    "- rub_per_message — cost of sending a message over the tariff package;\n",
    "- rub_per_gb — the cost of an additional gigabyte of Internet traffic over the tariff package (1 gigabyte = 1024 megabytes)."
   ]
  },
  {
   "cell_type": "markdown",
   "metadata": {},
   "source": [
    "## Research data from files"
   ]
  },
  {
   "cell_type": "markdown",
   "metadata": {},
   "source": [
    "Import of libraries:"
   ]
  },
  {
   "cell_type": "code",
   "execution_count": 1,
   "metadata": {},
   "outputs": [],
   "source": [
    "from matplotlib import pyplot as plt\n",
    "from scipy import stats as st\n",
    "import pandas as pd\n",
    "import numpy as np"
   ]
  },
  {
   "cell_type": "markdown",
   "metadata": {},
   "source": [
    "Reading a data file, viewing dataframe information and displaying 5 random lines:"
   ]
  },
  {
   "cell_type": "code",
   "execution_count": 2,
   "metadata": {},
   "outputs": [
    {
     "name": "stdout",
     "output_type": "stream",
     "text": [
      "<class 'pandas.core.frame.DataFrame'>\n",
      "RangeIndex: 500 entries, 0 to 499\n",
      "Data columns (total 8 columns):\n",
      " #   Column      Non-Null Count  Dtype \n",
      "---  ------      --------------  ----- \n",
      " 0   user_id     500 non-null    int64 \n",
      " 1   age         500 non-null    int64 \n",
      " 2   churn_date  38 non-null     object\n",
      " 3   city        500 non-null    object\n",
      " 4   first_name  500 non-null    object\n",
      " 5   last_name   500 non-null    object\n",
      " 6   reg_date    500 non-null    object\n",
      " 7   tariff      500 non-null    object\n",
      "dtypes: int64(2), object(6)\n",
      "memory usage: 31.4+ KB\n"
     ]
    },
    {
     "data": {
      "text/html": [
       "<div>\n",
       "<style scoped>\n",
       "    .dataframe tbody tr th:only-of-type {\n",
       "        vertical-align: middle;\n",
       "    }\n",
       "\n",
       "    .dataframe tbody tr th {\n",
       "        vertical-align: top;\n",
       "    }\n",
       "\n",
       "    .dataframe thead th {\n",
       "        text-align: right;\n",
       "    }\n",
       "</style>\n",
       "<table border=\"1\" class=\"dataframe\">\n",
       "  <thead>\n",
       "    <tr style=\"text-align: right;\">\n",
       "      <th></th>\n",
       "      <th>user_id</th>\n",
       "      <th>age</th>\n",
       "      <th>churn_date</th>\n",
       "      <th>city</th>\n",
       "      <th>first_name</th>\n",
       "      <th>last_name</th>\n",
       "      <th>reg_date</th>\n",
       "      <th>tariff</th>\n",
       "    </tr>\n",
       "  </thead>\n",
       "  <tbody>\n",
       "    <tr>\n",
       "      <th>304</th>\n",
       "      <td>1304</td>\n",
       "      <td>68</td>\n",
       "      <td>NaN</td>\n",
       "      <td>Владимир</td>\n",
       "      <td>Илья</td>\n",
       "      <td>Соловьёв</td>\n",
       "      <td>2018-11-05</td>\n",
       "      <td>ultra</td>\n",
       "    </tr>\n",
       "    <tr>\n",
       "      <th>340</th>\n",
       "      <td>1340</td>\n",
       "      <td>50</td>\n",
       "      <td>NaN</td>\n",
       "      <td>Пенза</td>\n",
       "      <td>Тимофей</td>\n",
       "      <td>Алютин</td>\n",
       "      <td>2018-01-30</td>\n",
       "      <td>smart</td>\n",
       "    </tr>\n",
       "    <tr>\n",
       "      <th>47</th>\n",
       "      <td>1047</td>\n",
       "      <td>67</td>\n",
       "      <td>NaN</td>\n",
       "      <td>Саратов</td>\n",
       "      <td>Милица</td>\n",
       "      <td>Меркулова</td>\n",
       "      <td>2018-10-29</td>\n",
       "      <td>smart</td>\n",
       "    </tr>\n",
       "    <tr>\n",
       "      <th>67</th>\n",
       "      <td>1067</td>\n",
       "      <td>45</td>\n",
       "      <td>NaN</td>\n",
       "      <td>Москва</td>\n",
       "      <td>Юзефа</td>\n",
       "      <td>Абашкина</td>\n",
       "      <td>2018-04-09</td>\n",
       "      <td>smart</td>\n",
       "    </tr>\n",
       "    <tr>\n",
       "      <th>479</th>\n",
       "      <td>1479</td>\n",
       "      <td>40</td>\n",
       "      <td>NaN</td>\n",
       "      <td>Хабаровск</td>\n",
       "      <td>Игорь</td>\n",
       "      <td>Богданов</td>\n",
       "      <td>2018-07-03</td>\n",
       "      <td>smart</td>\n",
       "    </tr>\n",
       "  </tbody>\n",
       "</table>\n",
       "</div>"
      ],
      "text/plain": [
       "     user_id  age churn_date       city first_name  last_name    reg_date  \\\n",
       "304     1304   68        NaN   Владимир       Илья   Соловьёв  2018-11-05   \n",
       "340     1340   50        NaN      Пенза    Тимофей     Алютин  2018-01-30   \n",
       "47      1047   67        NaN    Саратов     Милица  Меркулова  2018-10-29   \n",
       "67      1067   45        NaN     Москва      Юзефа   Абашкина  2018-04-09   \n",
       "479     1479   40        NaN  Хабаровск      Игорь   Богданов  2018-07-03   \n",
       "\n",
       "    tariff  \n",
       "304  ultra  \n",
       "340  smart  \n",
       "47   smart  \n",
       "67   smart  \n",
       "479  smart  "
      ]
     },
     "execution_count": 2,
     "metadata": {},
     "output_type": "execute_result"
    }
   ],
   "source": [
    "users = pd.read_csv('D:\\\\Work\\\\Яндекс-практикум\\\\Курс 4. Статистический анализ данных\\\\users.csv')\n",
    "users.info()\n",
    "users.sample(n=5, random_state=1)"
   ]
  },
  {
   "cell_type": "code",
   "execution_count": 3,
   "metadata": {},
   "outputs": [
    {
     "name": "stdout",
     "output_type": "stream",
     "text": [
      "<class 'pandas.core.frame.DataFrame'>\n",
      "RangeIndex: 202607 entries, 0 to 202606\n",
      "Data columns (total 4 columns):\n",
      " #   Column     Non-Null Count   Dtype  \n",
      "---  ------     --------------   -----  \n",
      " 0   id         202607 non-null  object \n",
      " 1   call_date  202607 non-null  object \n",
      " 2   duration   202607 non-null  float64\n",
      " 3   user_id    202607 non-null  int64  \n",
      "dtypes: float64(1), int64(1), object(2)\n",
      "memory usage: 6.2+ MB\n"
     ]
    },
    {
     "data": {
      "text/html": [
       "<div>\n",
       "<style scoped>\n",
       "    .dataframe tbody tr th:only-of-type {\n",
       "        vertical-align: middle;\n",
       "    }\n",
       "\n",
       "    .dataframe tbody tr th {\n",
       "        vertical-align: top;\n",
       "    }\n",
       "\n",
       "    .dataframe thead th {\n",
       "        text-align: right;\n",
       "    }\n",
       "</style>\n",
       "<table border=\"1\" class=\"dataframe\">\n",
       "  <thead>\n",
       "    <tr style=\"text-align: right;\">\n",
       "      <th></th>\n",
       "      <th>id</th>\n",
       "      <th>call_date</th>\n",
       "      <th>duration</th>\n",
       "      <th>user_id</th>\n",
       "    </tr>\n",
       "  </thead>\n",
       "  <tbody>\n",
       "    <tr>\n",
       "      <th>26953</th>\n",
       "      <td>1066_374</td>\n",
       "      <td>2018-08-26</td>\n",
       "      <td>0.00</td>\n",
       "      <td>1066</td>\n",
       "    </tr>\n",
       "    <tr>\n",
       "      <th>66122</th>\n",
       "      <td>1168_1273</td>\n",
       "      <td>2018-03-28</td>\n",
       "      <td>16.05</td>\n",
       "      <td>1168</td>\n",
       "    </tr>\n",
       "    <tr>\n",
       "      <th>67325</th>\n",
       "      <td>1171_350</td>\n",
       "      <td>2018-09-14</td>\n",
       "      <td>6.23</td>\n",
       "      <td>1171</td>\n",
       "    </tr>\n",
       "    <tr>\n",
       "      <th>74643</th>\n",
       "      <td>1186_465</td>\n",
       "      <td>2018-09-02</td>\n",
       "      <td>0.79</td>\n",
       "      <td>1186</td>\n",
       "    </tr>\n",
       "    <tr>\n",
       "      <th>192311</th>\n",
       "      <td>1472_124</td>\n",
       "      <td>2018-05-04</td>\n",
       "      <td>5.94</td>\n",
       "      <td>1472</td>\n",
       "    </tr>\n",
       "  </tbody>\n",
       "</table>\n",
       "</div>"
      ],
      "text/plain": [
       "               id   call_date  duration  user_id\n",
       "26953    1066_374  2018-08-26      0.00     1066\n",
       "66122   1168_1273  2018-03-28     16.05     1168\n",
       "67325    1171_350  2018-09-14      6.23     1171\n",
       "74643    1186_465  2018-09-02      0.79     1186\n",
       "192311   1472_124  2018-05-04      5.94     1472"
      ]
     },
     "execution_count": 3,
     "metadata": {},
     "output_type": "execute_result"
    }
   ],
   "source": [
    "calls = pd.read_csv('D:\\Work\\Яндекс-практикум\\Курс 4. Статистический анализ данных\\calls.csv')\n",
    "calls.info()\n",
    "calls.sample(n=5, random_state=1)"
   ]
  },
  {
   "cell_type": "code",
   "execution_count": 4,
   "metadata": {},
   "outputs": [
    {
     "name": "stdout",
     "output_type": "stream",
     "text": [
      "<class 'pandas.core.frame.DataFrame'>\n",
      "RangeIndex: 123036 entries, 0 to 123035\n",
      "Data columns (total 3 columns):\n",
      " #   Column        Non-Null Count   Dtype \n",
      "---  ------        --------------   ----- \n",
      " 0   id            123036 non-null  object\n",
      " 1   message_date  123036 non-null  object\n",
      " 2   user_id       123036 non-null  int64 \n",
      "dtypes: int64(1), object(2)\n",
      "memory usage: 2.8+ MB\n"
     ]
    },
    {
     "data": {
      "text/html": [
       "<div>\n",
       "<style scoped>\n",
       "    .dataframe tbody tr th:only-of-type {\n",
       "        vertical-align: middle;\n",
       "    }\n",
       "\n",
       "    .dataframe tbody tr th {\n",
       "        vertical-align: top;\n",
       "    }\n",
       "\n",
       "    .dataframe thead th {\n",
       "        text-align: right;\n",
       "    }\n",
       "</style>\n",
       "<table border=\"1\" class=\"dataframe\">\n",
       "  <thead>\n",
       "    <tr style=\"text-align: right;\">\n",
       "      <th></th>\n",
       "      <th>id</th>\n",
       "      <th>message_date</th>\n",
       "      <th>user_id</th>\n",
       "    </tr>\n",
       "  </thead>\n",
       "  <tbody>\n",
       "    <tr>\n",
       "      <th>45696</th>\n",
       "      <td>1197_26</td>\n",
       "      <td>2018-12-31</td>\n",
       "      <td>1197</td>\n",
       "    </tr>\n",
       "    <tr>\n",
       "      <th>66091</th>\n",
       "      <td>1282_523</td>\n",
       "      <td>2018-11-30</td>\n",
       "      <td>1282</td>\n",
       "    </tr>\n",
       "    <tr>\n",
       "      <th>18743</th>\n",
       "      <td>1082_184</td>\n",
       "      <td>2018-10-18</td>\n",
       "      <td>1082</td>\n",
       "    </tr>\n",
       "    <tr>\n",
       "      <th>33759</th>\n",
       "      <td>1146_557</td>\n",
       "      <td>2018-12-22</td>\n",
       "      <td>1146</td>\n",
       "    </tr>\n",
       "    <tr>\n",
       "      <th>11403</th>\n",
       "      <td>1048_49</td>\n",
       "      <td>2018-09-27</td>\n",
       "      <td>1048</td>\n",
       "    </tr>\n",
       "  </tbody>\n",
       "</table>\n",
       "</div>"
      ],
      "text/plain": [
       "             id message_date  user_id\n",
       "45696   1197_26   2018-12-31     1197\n",
       "66091  1282_523   2018-11-30     1282\n",
       "18743  1082_184   2018-10-18     1082\n",
       "33759  1146_557   2018-12-22     1146\n",
       "11403   1048_49   2018-09-27     1048"
      ]
     },
     "execution_count": 4,
     "metadata": {},
     "output_type": "execute_result"
    }
   ],
   "source": [
    "messages = pd.read_csv('D:\\Work\\Яндекс-практикум\\Курс 4. Статистический анализ данных\\messages.csv')\n",
    "messages.info()\n",
    "messages.sample(n=5, random_state=1)"
   ]
  },
  {
   "cell_type": "code",
   "execution_count": 5,
   "metadata": {},
   "outputs": [
    {
     "name": "stdout",
     "output_type": "stream",
     "text": [
      "<class 'pandas.core.frame.DataFrame'>\n",
      "Int64Index: 149396 entries, 0 to 149395\n",
      "Data columns (total 4 columns):\n",
      " #   Column        Non-Null Count   Dtype  \n",
      "---  ------        --------------   -----  \n",
      " 0   id            149396 non-null  object \n",
      " 1   mb_used       149396 non-null  float64\n",
      " 2   session_date  149396 non-null  object \n",
      " 3   user_id       149396 non-null  int64  \n",
      "dtypes: float64(1), int64(1), object(2)\n",
      "memory usage: 5.7+ MB\n"
     ]
    },
    {
     "data": {
      "text/html": [
       "<div>\n",
       "<style scoped>\n",
       "    .dataframe tbody tr th:only-of-type {\n",
       "        vertical-align: middle;\n",
       "    }\n",
       "\n",
       "    .dataframe tbody tr th {\n",
       "        vertical-align: top;\n",
       "    }\n",
       "\n",
       "    .dataframe thead th {\n",
       "        text-align: right;\n",
       "    }\n",
       "</style>\n",
       "<table border=\"1\" class=\"dataframe\">\n",
       "  <thead>\n",
       "    <tr style=\"text-align: right;\">\n",
       "      <th></th>\n",
       "      <th>id</th>\n",
       "      <th>mb_used</th>\n",
       "      <th>session_date</th>\n",
       "      <th>user_id</th>\n",
       "    </tr>\n",
       "  </thead>\n",
       "  <tbody>\n",
       "    <tr>\n",
       "      <th>35745</th>\n",
       "      <td>1124_125</td>\n",
       "      <td>122.45</td>\n",
       "      <td>2018-12-03</td>\n",
       "      <td>1124</td>\n",
       "    </tr>\n",
       "    <tr>\n",
       "      <th>18383</th>\n",
       "      <td>1064_102</td>\n",
       "      <td>320.60</td>\n",
       "      <td>2018-12-19</td>\n",
       "      <td>1064</td>\n",
       "    </tr>\n",
       "    <tr>\n",
       "      <th>59774</th>\n",
       "      <td>1203_22</td>\n",
       "      <td>605.96</td>\n",
       "      <td>2018-06-17</td>\n",
       "      <td>1203</td>\n",
       "    </tr>\n",
       "    <tr>\n",
       "      <th>56317</th>\n",
       "      <td>1188_123</td>\n",
       "      <td>781.73</td>\n",
       "      <td>2018-05-08</td>\n",
       "      <td>1188</td>\n",
       "    </tr>\n",
       "    <tr>\n",
       "      <th>52231</th>\n",
       "      <td>1176_386</td>\n",
       "      <td>150.98</td>\n",
       "      <td>2018-08-20</td>\n",
       "      <td>1176</td>\n",
       "    </tr>\n",
       "  </tbody>\n",
       "</table>\n",
       "</div>"
      ],
      "text/plain": [
       "             id  mb_used session_date  user_id\n",
       "35745  1124_125   122.45   2018-12-03     1124\n",
       "18383  1064_102   320.60   2018-12-19     1064\n",
       "59774   1203_22   605.96   2018-06-17     1203\n",
       "56317  1188_123   781.73   2018-05-08     1188\n",
       "52231  1176_386   150.98   2018-08-20     1176"
      ]
     },
     "execution_count": 5,
     "metadata": {},
     "output_type": "execute_result"
    }
   ],
   "source": [
    "internet = pd.read_csv('D:\\Work\\Яндекс-практикум\\Курс 4. Статистический анализ данных\\internet.csv', index_col=0)\n",
    "internet.info()\n",
    "internet.sample(n=5, random_state=1)"
   ]
  },
  {
   "cell_type": "code",
   "execution_count": 6,
   "metadata": {},
   "outputs": [
    {
     "name": "stdout",
     "output_type": "stream",
     "text": [
      "<class 'pandas.core.frame.DataFrame'>\n",
      "RangeIndex: 2 entries, 0 to 1\n",
      "Data columns (total 8 columns):\n",
      " #   Column                 Non-Null Count  Dtype \n",
      "---  ------                 --------------  ----- \n",
      " 0   messages_included      2 non-null      int64 \n",
      " 1   mb_per_month_included  2 non-null      int64 \n",
      " 2   minutes_included       2 non-null      int64 \n",
      " 3   rub_monthly_fee        2 non-null      int64 \n",
      " 4   rub_per_gb             2 non-null      int64 \n",
      " 5   rub_per_message        2 non-null      int64 \n",
      " 6   rub_per_minute         2 non-null      int64 \n",
      " 7   tariff_name            2 non-null      object\n",
      "dtypes: int64(7), object(1)\n",
      "memory usage: 256.0+ bytes\n"
     ]
    },
    {
     "data": {
      "text/html": [
       "<div>\n",
       "<style scoped>\n",
       "    .dataframe tbody tr th:only-of-type {\n",
       "        vertical-align: middle;\n",
       "    }\n",
       "\n",
       "    .dataframe tbody tr th {\n",
       "        vertical-align: top;\n",
       "    }\n",
       "\n",
       "    .dataframe thead th {\n",
       "        text-align: right;\n",
       "    }\n",
       "</style>\n",
       "<table border=\"1\" class=\"dataframe\">\n",
       "  <thead>\n",
       "    <tr style=\"text-align: right;\">\n",
       "      <th></th>\n",
       "      <th>messages_included</th>\n",
       "      <th>mb_per_month_included</th>\n",
       "      <th>minutes_included</th>\n",
       "      <th>rub_monthly_fee</th>\n",
       "      <th>rub_per_gb</th>\n",
       "      <th>rub_per_message</th>\n",
       "      <th>rub_per_minute</th>\n",
       "      <th>tariff_name</th>\n",
       "    </tr>\n",
       "  </thead>\n",
       "  <tbody>\n",
       "    <tr>\n",
       "      <th>0</th>\n",
       "      <td>50</td>\n",
       "      <td>15360</td>\n",
       "      <td>500</td>\n",
       "      <td>550</td>\n",
       "      <td>200</td>\n",
       "      <td>3</td>\n",
       "      <td>3</td>\n",
       "      <td>smart</td>\n",
       "    </tr>\n",
       "    <tr>\n",
       "      <th>1</th>\n",
       "      <td>1000</td>\n",
       "      <td>30720</td>\n",
       "      <td>3000</td>\n",
       "      <td>1950</td>\n",
       "      <td>150</td>\n",
       "      <td>1</td>\n",
       "      <td>1</td>\n",
       "      <td>ultra</td>\n",
       "    </tr>\n",
       "  </tbody>\n",
       "</table>\n",
       "</div>"
      ],
      "text/plain": [
       "   messages_included  mb_per_month_included  minutes_included  \\\n",
       "0                 50                  15360               500   \n",
       "1               1000                  30720              3000   \n",
       "\n",
       "   rub_monthly_fee  rub_per_gb  rub_per_message  rub_per_minute tariff_name  \n",
       "0              550         200                3               3       smart  \n",
       "1             1950         150                1               1       ultra  "
      ]
     },
     "execution_count": 6,
     "metadata": {},
     "output_type": "execute_result"
    }
   ],
   "source": [
    "tariffs = pd.read_csv('D:\\\\Work\\\\Яндекс-практикум\\\\Курс 4. Статистический анализ данных\\\\tariffs.csv')\n",
    "tariffs.info()\n",
    "tariffs"
   ]
  },
  {
   "cell_type": "markdown",
   "metadata": {},
   "source": [
    "**Conclusion**\n",
    "\n",
    "Table `users` includes 8 columns, of which 2 have integer type, the rest are objects. In the column `churn_date` the numbers of data are different from the numbers of data in other columns, therefore, this column includes NaNs. From the description we know, that if the value is omitted, then the tariff was still valid at the time of uploading the data. However these gaps are needed to be filledto make the dataframe appropriate for analysis. In the columns `reg_date` and `churn_date` are dates, but they have the object data type, that's why we need to convert this datatype to datetime, and also convert int64 in interger type with less memory consumption.\n",
    "\n",
    "Tables `calls`, `messages`, `internet`, `tariffs` do not include NaNs, however the data types is also needed to be convert - columns with dates convert to type \"datetime\", optimize integer and object types to spare the memory."
   ]
  },
  {
   "cell_type": "markdown",
   "metadata": {},
   "source": [
    "## Data preparation"
   ]
  },
  {
   "cell_type": "markdown",
   "metadata": {},
   "source": [
    "### Processing NaNs"
   ]
  },
  {
   "cell_type": "markdown",
   "metadata": {},
   "source": [
    "As we have noted in the previous chapter, only the table `users` contains the NaNs in the column `churn_date`. Let's print the gaps' quantity in the whole table on the screen:"
   ]
  },
  {
   "cell_type": "code",
   "execution_count": 7,
   "metadata": {},
   "outputs": [
    {
     "data": {
      "text/plain": [
       "user_id         0\n",
       "age             0\n",
       "churn_date    462\n",
       "city            0\n",
       "first_name      0\n",
       "last_name       0\n",
       "reg_date        0\n",
       "tariff          0\n",
       "dtype: int64"
      ]
     },
     "execution_count": 7,
     "metadata": {},
     "output_type": "execute_result"
    }
   ],
   "source": [
    "users.isnull().sum()"
   ]
  },
  {
   "cell_type": "markdown",
   "metadata": {},
   "source": [
    "During this research we need to learn users behaviour, therefore a marker that the client is still using the tariff is important for us. Let's choose as the marker the big future date (2100-01-01) and fill the gaps:"
   ]
  },
  {
   "cell_type": "code",
   "execution_count": 8,
   "metadata": {},
   "outputs": [
    {
     "name": "stdout",
     "output_type": "stream",
     "text": [
      "Number of NaNs in the column \"churn_date\" after filling: 0\n"
     ]
    }
   ],
   "source": [
    "users['churn_date'] = users['churn_date'].fillna('2100-01-01')\n",
    "print('Number of NaNs in the column \"churn_date\" after filling:', users['churn_date'].isnull().sum())"
   ]
  },
  {
   "cell_type": "markdown",
   "metadata": {},
   "source": [
    "Let's check the absence of gaps in each of the dataframes: `users`, `calls`, `messages`, `internet`. Dataframe `tariffs` is not needed to check, because it contains only two lines, which we have printed on the screen at the previous step, and could see, that there are no NaNs."
   ]
  },
  {
   "cell_type": "code",
   "execution_count": 9,
   "metadata": {},
   "outputs": [
    {
     "data": {
      "text/plain": [
       "user_id       0\n",
       "age           0\n",
       "churn_date    0\n",
       "city          0\n",
       "first_name    0\n",
       "last_name     0\n",
       "reg_date      0\n",
       "tariff        0\n",
       "dtype: int64"
      ]
     },
     "execution_count": 9,
     "metadata": {},
     "output_type": "execute_result"
    }
   ],
   "source": [
    "users.isnull().sum()"
   ]
  },
  {
   "cell_type": "code",
   "execution_count": 10,
   "metadata": {},
   "outputs": [
    {
     "data": {
      "text/plain": [
       "id           0\n",
       "call_date    0\n",
       "duration     0\n",
       "user_id      0\n",
       "dtype: int64"
      ]
     },
     "execution_count": 10,
     "metadata": {},
     "output_type": "execute_result"
    }
   ],
   "source": [
    "calls.isnull().sum()"
   ]
  },
  {
   "cell_type": "code",
   "execution_count": 11,
   "metadata": {},
   "outputs": [
    {
     "data": {
      "text/plain": [
       "id              0\n",
       "message_date    0\n",
       "user_id         0\n",
       "dtype: int64"
      ]
     },
     "execution_count": 11,
     "metadata": {},
     "output_type": "execute_result"
    }
   ],
   "source": [
    "messages.isnull().sum()"
   ]
  },
  {
   "cell_type": "code",
   "execution_count": 12,
   "metadata": {},
   "outputs": [
    {
     "data": {
      "text/plain": [
       "id              0\n",
       "mb_used         0\n",
       "session_date    0\n",
       "user_id         0\n",
       "dtype: int64"
      ]
     },
     "execution_count": 12,
     "metadata": {},
     "output_type": "execute_result"
    }
   ],
   "source": [
    "internet.isnull().sum()"
   ]
  },
  {
   "cell_type": "markdown",
   "metadata": {},
   "source": [
    "**Conclusion**\n",
    "\n",
    "The NaNs in the table `users` in the column `churn_date` have been filled. Also we have checked the other dataframe for searching NaNs. In the other tables there are no gaps."
   ]
  },
  {
   "cell_type": "markdown",
   "metadata": {},
   "source": [
    "### Data types conversion"
   ]
  },
  {
   "cell_type": "markdown",
   "metadata": {},
   "source": [
    "Earlier we saw that some columns have data types that are inconvenient for research or uneconomical for memory.\n",
    "\n",
    "Dataframe `users`:\n",
    "- the columns `reg_date` and `churn_date` contain dates, but have object type. Let's convert these columns in format of date with the method `to_datetime()`;\n",
    "- for the column `age` the type \"uint8\" will be enough, because the values here do not take negative values and values exceeding the number 256;\n",
    "- we also convert the column `user_id` in \"uint16\" with method `astype()`."
   ]
  },
  {
   "cell_type": "code",
   "execution_count": 13,
   "metadata": {},
   "outputs": [
    {
     "name": "stdout",
     "output_type": "stream",
     "text": [
      "Data types in the table \"users\" have been changed, here is the result:\n",
      "\n",
      "<class 'pandas.core.frame.DataFrame'>\n",
      "RangeIndex: 500 entries, 0 to 499\n",
      "Data columns (total 8 columns):\n",
      " #   Column      Non-Null Count  Dtype         \n",
      "---  ------      --------------  -----         \n",
      " 0   user_id     500 non-null    uint16        \n",
      " 1   age         500 non-null    uint8         \n",
      " 2   churn_date  500 non-null    datetime64[ns]\n",
      " 3   city        500 non-null    object        \n",
      " 4   first_name  500 non-null    object        \n",
      " 5   last_name   500 non-null    object        \n",
      " 6   reg_date    500 non-null    datetime64[ns]\n",
      " 7   tariff      500 non-null    object        \n",
      "dtypes: datetime64[ns](2), object(4), uint16(1), uint8(1)\n",
      "memory usage: 25.0+ KB\n"
     ]
    }
   ],
   "source": [
    "users['reg_date'] = pd.to_datetime(users['reg_date'])\n",
    "users['churn_date'] = pd.to_datetime(users['churn_date'])\n",
    "\n",
    "users['age'] = users['age'].astype('uint8')\n",
    "users['user_id'] = users['user_id'].astype('uint16')\n",
    "\n",
    "print('Data types in the table \"users\" have been changed, here is the result:')\n",
    "print()\n",
    "users.info()"
   ]
  },
  {
   "cell_type": "markdown",
   "metadata": {},
   "source": [
    "Dataframe `calls`:\n",
    "\n",
    "- the column `call_date` contains, but have object type. Let's convert these columns in format of date with the method `to_datetime()`;\n",
    "- the column `user_id` we convert to \"uint16\" with the method `astype()`;\n",
    "- let's change the data type in the column `duration` to \"float32\"."
   ]
  },
  {
   "cell_type": "code",
   "execution_count": 14,
   "metadata": {},
   "outputs": [
    {
     "name": "stdout",
     "output_type": "stream",
     "text": [
      "Data types in the table \"calls\" have been changed, here is the result:\n",
      "\n",
      "<class 'pandas.core.frame.DataFrame'>\n",
      "RangeIndex: 202607 entries, 0 to 202606\n",
      "Data columns (total 4 columns):\n",
      " #   Column     Non-Null Count   Dtype         \n",
      "---  ------     --------------   -----         \n",
      " 0   id         202607 non-null  object        \n",
      " 1   call_date  202607 non-null  datetime64[ns]\n",
      " 2   duration   202607 non-null  float32       \n",
      " 3   user_id    202607 non-null  uint16        \n",
      "dtypes: datetime64[ns](1), float32(1), object(1), uint16(1)\n",
      "memory usage: 4.3+ MB\n"
     ]
    }
   ],
   "source": [
    "calls['call_date'] = pd.to_datetime(calls['call_date'])\n",
    "calls['user_id'] = calls['user_id'].astype('uint16')\n",
    "calls['duration'] = calls['duration'].astype('float32')\n",
    "\n",
    "print('Data types in the table \"calls\" have been changed, here is the result:')\n",
    "print()\n",
    "calls.info()"
   ]
  },
  {
   "cell_type": "markdown",
   "metadata": {},
   "source": [
    "Dataframe `messages`:\n",
    "\n",
    "- in the column `message_date` dates were saved, so convert it to date type with method `to_datetime()`;\n",
    "- let's change the column `user_id` to \"uint16\" with method `astype()`."
   ]
  },
  {
   "cell_type": "code",
   "execution_count": 15,
   "metadata": {},
   "outputs": [
    {
     "name": "stdout",
     "output_type": "stream",
     "text": [
      "Data types in the table \"messages\" have been changed, here is the result:\n",
      "\n",
      "<class 'pandas.core.frame.DataFrame'>\n",
      "RangeIndex: 123036 entries, 0 to 123035\n",
      "Data columns (total 3 columns):\n",
      " #   Column        Non-Null Count   Dtype         \n",
      "---  ------        --------------   -----         \n",
      " 0   id            123036 non-null  object        \n",
      " 1   message_date  123036 non-null  datetime64[ns]\n",
      " 2   user_id       123036 non-null  uint16        \n",
      "dtypes: datetime64[ns](1), object(1), uint16(1)\n",
      "memory usage: 2.1+ MB\n"
     ]
    }
   ],
   "source": [
    "messages['message_date'] = pd.to_datetime(messages['message_date'])\n",
    "messages['user_id'] = messages['user_id'].astype('uint16')\n",
    "\n",
    "print('Data types in the table \"messages\" have been changed, here is the result:')\n",
    "print()\n",
    "messages.info()"
   ]
  },
  {
   "cell_type": "markdown",
   "metadata": {},
   "source": [
    "Датафрейм `internet`:\n",
    "\n",
    "- let's change the data type of the column `session_date` from object to date with method `to_datetime()`;\n",
    "- the column `user_id` is needed to be convert to \"uint16\" with method `astype()`;\n",
    "- let's change the data type of the column `mb_used` to \"float32\"."
   ]
  },
  {
   "cell_type": "code",
   "execution_count": 16,
   "metadata": {},
   "outputs": [
    {
     "name": "stdout",
     "output_type": "stream",
     "text": [
      "Data types in the table \"internet\" have been changed, here is the result:\n",
      "\n",
      "<class 'pandas.core.frame.DataFrame'>\n",
      "Int64Index: 149396 entries, 0 to 149395\n",
      "Data columns (total 4 columns):\n",
      " #   Column        Non-Null Count   Dtype         \n",
      "---  ------        --------------   -----         \n",
      " 0   id            149396 non-null  object        \n",
      " 1   mb_used       149396 non-null  float32       \n",
      " 2   session_date  149396 non-null  datetime64[ns]\n",
      " 3   user_id       149396 non-null  uint16        \n",
      "dtypes: datetime64[ns](1), float32(1), object(1), uint16(1)\n",
      "memory usage: 4.3+ MB\n"
     ]
    }
   ],
   "source": [
    "internet['session_date'] = pd.to_datetime(internet['session_date'])\n",
    "internet['user_id'] = internet['user_id'].astype('uint16')\n",
    "internet['mb_used'] = internet['mb_used'].astype('float32')\n",
    "\n",
    "print('Data types in the table \"internet\" have been changed, here is the result:')\n",
    "print()\n",
    "internet.info()"
   ]
  },
  {
   "cell_type": "markdown",
   "metadata": {},
   "source": [
    "Dataframe `tariffs`:\n",
    "- the data type of the columns `rub_per_gb`, `rub_per_message`, `rub_per_minute` will be converted to \"uint8\";\n",
    "- let's convert the data type of the columns `messages_included`, `mb_per_month_included`, `minutes_included`, `rub_monthly_fee` to the type \"uint16\". For changing we use the method `astype()`."
   ]
  },
  {
   "cell_type": "code",
   "execution_count": 17,
   "metadata": {},
   "outputs": [
    {
     "name": "stdout",
     "output_type": "stream",
     "text": [
      "Data types in the table \"tariffs\" have been changed, here is the result:\n",
      "\n",
      "<class 'pandas.core.frame.DataFrame'>\n",
      "RangeIndex: 2 entries, 0 to 1\n",
      "Data columns (total 8 columns):\n",
      " #   Column                 Non-Null Count  Dtype \n",
      "---  ------                 --------------  ----- \n",
      " 0   messages_included      2 non-null      uint16\n",
      " 1   mb_per_month_included  2 non-null      uint16\n",
      " 2   minutes_included       2 non-null      uint16\n",
      " 3   rub_monthly_fee        2 non-null      uint16\n",
      " 4   rub_per_gb             2 non-null      uint8 \n",
      " 5   rub_per_message        2 non-null      uint8 \n",
      " 6   rub_per_minute         2 non-null      uint8 \n",
      " 7   tariff_name            2 non-null      object\n",
      "dtypes: object(1), uint16(4), uint8(3)\n",
      "memory usage: 166.0+ bytes\n"
     ]
    }
   ],
   "source": [
    "tariffs['rub_per_gb'] = tariffs['rub_per_gb'].astype('uint8')\n",
    "tariffs['rub_per_message'] = tariffs['rub_per_message'].astype('uint8')\n",
    "tariffs['rub_per_minute'] = tariffs['rub_per_minute'].astype('uint8')\n",
    "\n",
    "tariffs['messages_included'] = tariffs['messages_included'].astype('uint16')\n",
    "tariffs['mb_per_month_included'] = tariffs['mb_per_month_included'].astype('uint16')\n",
    "tariffs['minutes_included'] = tariffs['minutes_included'].astype('uint16')\n",
    "tariffs['rub_monthly_fee'] = tariffs['rub_monthly_fee'].astype('uint16')\n",
    "\n",
    "print('Data types in the table \"tariffs\" have been changed, here is the result:')\n",
    "print()\n",
    "tariffs.info()"
   ]
  },
  {
   "cell_type": "markdown",
   "metadata": {},
   "source": [
    "**Conclusion**\n",
    "\n",
    "The data types in each dataframe are made more convenient and logical. As a result, memory consumption was reduced by 27%."
   ]
  },
  {
   "cell_type": "markdown",
   "metadata": {},
   "source": [
    "### Checking for duplicates"
   ]
  },
  {
   "cell_type": "markdown",
   "metadata": {},
   "source": [
    "Let's check our dataframes (except `tariffs`) for duplicates:"
   ]
  },
  {
   "cell_type": "code",
   "execution_count": 18,
   "metadata": {},
   "outputs": [
    {
     "name": "stdout",
     "output_type": "stream",
     "text": [
      "Number of duplicates in dataframe \"users\": 0\n",
      "Number of duplicates in dataframe \"calls\": 0\n",
      "Number of duplicates in dataframe \"messages\": 0\n",
      "Number of duplicates in dataframe \"internet\": 0\n"
     ]
    }
   ],
   "source": [
    "print('Number of duplicates in dataframe \"users\":', users.duplicated().sum())\n",
    "print('Number of duplicates in dataframe \"calls\":', calls.duplicated().sum())\n",
    "print('Number of duplicates in dataframe \"messages\":', messages.duplicated().sum())\n",
    "print('Number of duplicates in dataframe \"internet\":', internet.duplicated().sum())"
   ]
  },
  {
   "cell_type": "markdown",
   "metadata": {},
   "source": [
    "No duplicates have been found."
   ]
  },
  {
   "cell_type": "markdown",
   "metadata": {},
   "source": [
    "**Conclusion**\n",
    "\n",
    "Each dataframe was checked for duplicates, and no duplicates were found."
   ]
  },
  {
   "cell_type": "markdown",
   "metadata": {},
   "source": [
    "### Preparing data for the analysis"
   ]
  },
  {
   "cell_type": "markdown",
   "metadata": {},
   "source": [
    "Display the numerical description of the columns:\n",
    "- `duration` from `calls`;\n",
    "- `mb_used` from `internet`."
   ]
  },
  {
   "cell_type": "code",
   "execution_count": 19,
   "metadata": {},
   "outputs": [
    {
     "data": {
      "text/plain": [
       "count    202607.000000\n",
       "mean          6.755849\n",
       "std           5.842877\n",
       "min           0.000000\n",
       "25%           1.300000\n",
       "50%           6.000000\n",
       "75%          10.700000\n",
       "max          38.000000\n",
       "Name: duration, dtype: float64"
      ]
     },
     "execution_count": 19,
     "metadata": {},
     "output_type": "execute_result"
    }
   ],
   "source": [
    "calls['duration'].describe()"
   ]
  },
  {
   "cell_type": "code",
   "execution_count": 20,
   "metadata": {},
   "outputs": [
    {
     "data": {
      "text/plain": [
       "count    149396.000000\n",
       "mean        370.190918\n",
       "std         278.319153\n",
       "min           0.000000\n",
       "25%         138.187496\n",
       "50%         348.014999\n",
       "75%         559.552490\n",
       "max        1724.829956\n",
       "Name: mb_used, dtype: float64"
      ]
     },
     "execution_count": 20,
     "metadata": {},
     "output_type": "execute_result"
    }
   ],
   "source": [
    "internet['mb_used'].describe()"
   ]
  },
  {
   "cell_type": "markdown",
   "metadata": {},
   "source": [
    "For both columns the minimum value is 0.\n",
    "\n",
    "In case of calls' duration `calls['duration']` we know, that zero values correspond to missed calls. In order to analyze user behavior, we need to know not only the duration, but also the number of calls, we do not need to delete zero values here, they will be useful to us.\n",
    "\n",
    "In the column `internet['mb_used']` zero values mean perhaps, that zeros means the fact of connecting to the internet. In this case, zero values have no worth for us, since we are interested in the amount of traffic spent, but not the number of Internet sessions. Therefore, rows with zero in `mb_used` will be excluded."
   ]
  },
  {
   "cell_type": "code",
   "execution_count": 21,
   "metadata": {},
   "outputs": [],
   "source": [
    "internet = internet[internet['mb_used'] != 0]\n",
    "internet = internet.reset_index(drop=True)"
   ]
  },
  {
   "cell_type": "markdown",
   "metadata": {},
   "source": [
    "In the dataframes there are the columns `calls`, `messages`, `internet` with date of a call, a SMS and an internet-session respectively. Let's add to them the columns with a month and a year."
   ]
  },
  {
   "cell_type": "code",
   "execution_count": 22,
   "metadata": {},
   "outputs": [],
   "source": [
    "calls['month_year'] = calls['call_date'].dt.to_period('M')\n",
    "messages['month_year'] = messages['message_date'].dt.to_period('M')\n",
    "internet['month_year'] = internet['session_date'].dt.to_period('M')"
   ]
  },
  {
   "cell_type": "markdown",
   "metadata": {},
   "source": [
    "Since Megaline always rounds seconds to minutes, and each call is rounded separately (even if it lasted only 1 second, it will be counted as 1 minute), then we will round the number of minutes up to an integer in `calls['duration']`."
   ]
  },
  {
   "cell_type": "code",
   "execution_count": 23,
   "metadata": {},
   "outputs": [],
   "source": [
    "calls['duration'] = np.ceil(calls['duration']).astype('uint16')"
   ]
  },
  {
   "cell_type": "markdown",
   "metadata": {},
   "source": [
    "Let's group the data in the table `calls` by user and month, and then calculate for each group the total duration of calls and their number (the sum and the number in the column `duration`) and save the result in the variable `calls_per_user`. Let's display the names of the columns of the resulting dataframe."
   ]
  },
  {
   "cell_type": "code",
   "execution_count": 24,
   "metadata": {},
   "outputs": [
    {
     "data": {
      "text/plain": [
       "Index([('user_id', ''), ('month_year', ''), ('duration', 'count'),\n",
       "       ('duration', 'sum')],\n",
       "      dtype='object')"
      ]
     },
     "execution_count": 24,
     "metadata": {},
     "output_type": "execute_result"
    }
   ],
   "source": [
    "calls_per_user = (calls\n",
    "                  .groupby(['user_id', 'month_year'])\n",
    "                  .agg({'duration': ['count', 'sum']})\n",
    "                  .reset_index()\n",
    "                 )\n",
    "calls_per_user.columns = list(calls_per_user.columns)\n",
    "calls_per_user.columns"
   ]
  },
  {
   "cell_type": "markdown",
   "metadata": {},
   "source": [
    "Rename columns in the dataframe `calls_per_user`."
   ]
  },
  {
   "cell_type": "code",
   "execution_count": 25,
   "metadata": {},
   "outputs": [
    {
     "data": {
      "text/plain": [
       "Index(['user_id', 'month_year', 'calls_quantity', 'sum_calls_duration'], dtype='object')"
      ]
     },
     "execution_count": 25,
     "metadata": {},
     "output_type": "execute_result"
    }
   ],
   "source": [
    "calls_per_user.rename(columns={('user_id',''): 'user_id',\n",
    "                               ('month_year',''): 'month_year',\n",
    "                               ('duration', 'count'): 'calls_quantity',\n",
    "                               ('duration', 'sum'): 'sum_calls_duration'},\n",
    "                      inplace=True)\n",
    "calls_per_user.columns"
   ]
  },
  {
   "cell_type": "markdown",
   "metadata": {},
   "source": [
    "Similarly, we group the data in the `messages` and `internet` tables by the `user_id` and `month_year` columns, and calculate for each group the number of messages (the number in the `id` column) and the total amount of Internet traffic (the sum in the `mb_used` column ) respectively. Save the resulting dataframes in `messages_per_user` and `internet_per_user`. In the `messages_per_user` table, we  rename the column with the uninformative name `id` to `messages_quantity`."
   ]
  },
  {
   "cell_type": "code",
   "execution_count": 26,
   "metadata": {},
   "outputs": [],
   "source": [
    "messages_per_user = messages.groupby(['user_id', 'month_year'])['id'].count().reset_index()\n",
    "messages_per_user.rename(columns={'id': 'messages_quantity'}, inplace=True)\n",
    "\n",
    "internet_per_user = internet.groupby(['user_id', 'month_year'])['mb_used'].sum().reset_index()"
   ]
  },
  {
   "cell_type": "markdown",
   "metadata": {},
   "source": [
    "Let's add information about the number and duration of calls (table `calls_per_user`) first to information about the number of SMS messages (table `messages_per_user`), and save the result in the variable `calls_messages_per_user`. We will merge on two columns - `user_id`, `month_year`, and choose the merging method `how='outer'` so that no data is lost when joining tables."
   ]
  },
  {
   "cell_type": "code",
   "execution_count": 27,
   "metadata": {},
   "outputs": [],
   "source": [
    "calls_messages_per_user = calls_per_user.merge(messages_per_user, on = ['user_id', 'month_year'], how='outer')"
   ]
  },
  {
   "cell_type": "markdown",
   "metadata": {},
   "source": [
    "Now we will similarly attach information about Internet traffic to the `calls_messages_per_user` dataframe (table `internet_per_user`). The result will be saved in the final dataframe `users_behavior`."
   ]
  },
  {
   "cell_type": "code",
   "execution_count": 28,
   "metadata": {},
   "outputs": [],
   "source": [
    "users_behavior = calls_messages_per_user.merge(internet_per_user, on=['user_id', 'month_year'], how='outer')"
   ]
  },
  {
   "cell_type": "markdown",
   "metadata": {},
   "source": [
    "With a merge type of `how='outer'`, NaNs may appear in the resulting table. For example, if a user used calls and the Internet in some month, but send no SMS. It is clear that such gaps must be filled with zero values. Let's see which columns of the `users_behavior` dataframe have gaps:"
   ]
  },
  {
   "cell_type": "code",
   "execution_count": 29,
   "metadata": {},
   "outputs": [
    {
     "data": {
      "text/plain": [
       "user_id                 0\n",
       "month_year              0\n",
       "calls_quantity         40\n",
       "sum_calls_duration     40\n",
       "messages_quantity     497\n",
       "mb_used                13\n",
       "dtype: int64"
      ]
     },
     "execution_count": 29,
     "metadata": {},
     "output_type": "execute_result"
    }
   ],
   "source": [
    "users_behavior.isnull().sum()"
   ]
  },
  {
   "cell_type": "markdown",
   "metadata": {},
   "source": [
    "Let's fill the detected gaps with zeros:"
   ]
  },
  {
   "cell_type": "code",
   "execution_count": 30,
   "metadata": {},
   "outputs": [
    {
     "name": "stdout",
     "output_type": "stream",
     "text": [
      "Number of missing values by columns after filling in the gaps:\n",
      "\n"
     ]
    },
    {
     "data": {
      "text/plain": [
       "user_id               0\n",
       "month_year            0\n",
       "calls_quantity        0\n",
       "sum_calls_duration    0\n",
       "messages_quantity     0\n",
       "mb_used               0\n",
       "dtype: int64"
      ]
     },
     "execution_count": 30,
     "metadata": {},
     "output_type": "execute_result"
    }
   ],
   "source": [
    "users_behavior['calls_quantity'] = users_behavior['calls_quantity'].fillna(0)\n",
    "users_behavior['sum_calls_duration'] = users_behavior['sum_calls_duration'].fillna(0)\n",
    "users_behavior['messages_quantity'] = users_behavior['messages_quantity'].fillna(0)\n",
    "users_behavior['mb_used'] = users_behavior['mb_used'].fillna(0)\n",
    "\n",
    "print('Number of missing values by columns after filling in the gaps:')\n",
    "print()\n",
    "users_behavior.isnull().sum()"
   ]
  },
  {
   "cell_type": "markdown",
   "metadata": {},
   "source": [
    "Let's convert megabytes of Internet traffic to gigabytes (1 GB = 1024 MB), since the calculation is based on gigabytes. Then round the gigabytes up to an integer. We write the result in a separate column `gb_used`:"
   ]
  },
  {
   "cell_type": "code",
   "execution_count": 31,
   "metadata": {},
   "outputs": [],
   "source": [
    "users_behavior['gb_used'] = np.ceil(users_behavior['mb_used'] / 1024)"
   ]
  },
  {
   "cell_type": "markdown",
   "metadata": {},
   "source": [
    "Let's add a column with the name of the tariff to the table - this will help us calculate the monthly revenue from each user. We will take the tariff from the user table `users`, in accordance with `user_id`."
   ]
  },
  {
   "cell_type": "code",
   "execution_count": 32,
   "metadata": {},
   "outputs": [
    {
     "data": {
      "text/html": [
       "<div>\n",
       "<style scoped>\n",
       "    .dataframe tbody tr th:only-of-type {\n",
       "        vertical-align: middle;\n",
       "    }\n",
       "\n",
       "    .dataframe tbody tr th {\n",
       "        vertical-align: top;\n",
       "    }\n",
       "\n",
       "    .dataframe thead th {\n",
       "        text-align: right;\n",
       "    }\n",
       "</style>\n",
       "<table border=\"1\" class=\"dataframe\">\n",
       "  <thead>\n",
       "    <tr style=\"text-align: right;\">\n",
       "      <th></th>\n",
       "      <th>user_id</th>\n",
       "      <th>month_year</th>\n",
       "      <th>calls_quantity</th>\n",
       "      <th>sum_calls_duration</th>\n",
       "      <th>messages_quantity</th>\n",
       "      <th>mb_used</th>\n",
       "      <th>gb_used</th>\n",
       "      <th>tariff</th>\n",
       "    </tr>\n",
       "  </thead>\n",
       "  <tbody>\n",
       "    <tr>\n",
       "      <th>0</th>\n",
       "      <td>1000</td>\n",
       "      <td>2018-05</td>\n",
       "      <td>22.0</td>\n",
       "      <td>159.0</td>\n",
       "      <td>22.0</td>\n",
       "      <td>2253.489990</td>\n",
       "      <td>3.0</td>\n",
       "      <td>ultra</td>\n",
       "    </tr>\n",
       "    <tr>\n",
       "      <th>1</th>\n",
       "      <td>1000</td>\n",
       "      <td>2018-06</td>\n",
       "      <td>43.0</td>\n",
       "      <td>172.0</td>\n",
       "      <td>60.0</td>\n",
       "      <td>23233.769531</td>\n",
       "      <td>23.0</td>\n",
       "      <td>ultra</td>\n",
       "    </tr>\n",
       "    <tr>\n",
       "      <th>2</th>\n",
       "      <td>1000</td>\n",
       "      <td>2018-07</td>\n",
       "      <td>47.0</td>\n",
       "      <td>340.0</td>\n",
       "      <td>75.0</td>\n",
       "      <td>14003.639648</td>\n",
       "      <td>14.0</td>\n",
       "      <td>ultra</td>\n",
       "    </tr>\n",
       "    <tr>\n",
       "      <th>3</th>\n",
       "      <td>1000</td>\n",
       "      <td>2018-08</td>\n",
       "      <td>52.0</td>\n",
       "      <td>408.0</td>\n",
       "      <td>81.0</td>\n",
       "      <td>14055.929688</td>\n",
       "      <td>14.0</td>\n",
       "      <td>ultra</td>\n",
       "    </tr>\n",
       "    <tr>\n",
       "      <th>4</th>\n",
       "      <td>1000</td>\n",
       "      <td>2018-09</td>\n",
       "      <td>58.0</td>\n",
       "      <td>466.0</td>\n",
       "      <td>57.0</td>\n",
       "      <td>14568.910156</td>\n",
       "      <td>15.0</td>\n",
       "      <td>ultra</td>\n",
       "    </tr>\n",
       "    <tr>\n",
       "      <th>5</th>\n",
       "      <td>1000</td>\n",
       "      <td>2018-10</td>\n",
       "      <td>57.0</td>\n",
       "      <td>350.0</td>\n",
       "      <td>73.0</td>\n",
       "      <td>14702.490234</td>\n",
       "      <td>15.0</td>\n",
       "      <td>ultra</td>\n",
       "    </tr>\n",
       "    <tr>\n",
       "      <th>6</th>\n",
       "      <td>1000</td>\n",
       "      <td>2018-11</td>\n",
       "      <td>43.0</td>\n",
       "      <td>338.0</td>\n",
       "      <td>58.0</td>\n",
       "      <td>14756.469727</td>\n",
       "      <td>15.0</td>\n",
       "      <td>ultra</td>\n",
       "    </tr>\n",
       "    <tr>\n",
       "      <th>7</th>\n",
       "      <td>1000</td>\n",
       "      <td>2018-12</td>\n",
       "      <td>46.0</td>\n",
       "      <td>333.0</td>\n",
       "      <td>70.0</td>\n",
       "      <td>9817.610352</td>\n",
       "      <td>10.0</td>\n",
       "      <td>ultra</td>\n",
       "    </tr>\n",
       "    <tr>\n",
       "      <th>8</th>\n",
       "      <td>1001</td>\n",
       "      <td>2018-11</td>\n",
       "      <td>59.0</td>\n",
       "      <td>430.0</td>\n",
       "      <td>0.0</td>\n",
       "      <td>18429.339844</td>\n",
       "      <td>18.0</td>\n",
       "      <td>smart</td>\n",
       "    </tr>\n",
       "    <tr>\n",
       "      <th>9</th>\n",
       "      <td>1001</td>\n",
       "      <td>2018-12</td>\n",
       "      <td>63.0</td>\n",
       "      <td>414.0</td>\n",
       "      <td>0.0</td>\n",
       "      <td>14036.660156</td>\n",
       "      <td>14.0</td>\n",
       "      <td>smart</td>\n",
       "    </tr>\n",
       "  </tbody>\n",
       "</table>\n",
       "</div>"
      ],
      "text/plain": [
       "   user_id month_year  calls_quantity  sum_calls_duration  messages_quantity  \\\n",
       "0     1000    2018-05            22.0               159.0               22.0   \n",
       "1     1000    2018-06            43.0               172.0               60.0   \n",
       "2     1000    2018-07            47.0               340.0               75.0   \n",
       "3     1000    2018-08            52.0               408.0               81.0   \n",
       "4     1000    2018-09            58.0               466.0               57.0   \n",
       "5     1000    2018-10            57.0               350.0               73.0   \n",
       "6     1000    2018-11            43.0               338.0               58.0   \n",
       "7     1000    2018-12            46.0               333.0               70.0   \n",
       "8     1001    2018-11            59.0               430.0                0.0   \n",
       "9     1001    2018-12            63.0               414.0                0.0   \n",
       "\n",
       "        mb_used  gb_used tariff  \n",
       "0   2253.489990      3.0  ultra  \n",
       "1  23233.769531     23.0  ultra  \n",
       "2  14003.639648     14.0  ultra  \n",
       "3  14055.929688     14.0  ultra  \n",
       "4  14568.910156     15.0  ultra  \n",
       "5  14702.490234     15.0  ultra  \n",
       "6  14756.469727     15.0  ultra  \n",
       "7   9817.610352     10.0  ultra  \n",
       "8  18429.339844     18.0  smart  \n",
       "9  14036.660156     14.0  smart  "
      ]
     },
     "execution_count": 32,
     "metadata": {},
     "output_type": "execute_result"
    }
   ],
   "source": [
    "users_behavior['tariff'] = np.nan\n",
    "for i in users.index:\n",
    "    users_behavior.loc[users_behavior['user_id'] == users.loc[i, 'user_id'],'tariff'] = users_behavior.loc[users_behavior['user_id'] == users.loc[i, 'user_id'],'tariff'].fillna(users.loc[i, 'tariff'])\n",
    "    \n",
    "users_behavior.head(10)    "
   ]
  },
  {
   "cell_type": "markdown",
   "metadata": {},
   "source": [
    "Let's add a `gain` column with monthly revenue for each user. To find the revenue, we subtract the free limit of the total number of calls, messages and Internet traffic, multiply the remainder by the value from the tariff plan, add the subscription fee - all in accordance with the tariff - smart or ultra. If the remainder is negative, i.e. the subscriber has not gone beyond the limits included in the tariff, then 0 is taken as the remainder. Let's write a function for calculating revenue, which takes the values of the subscription fee, limits for calls, messages and the Internet from the `tariffs` table."
   ]
  },
  {
   "cell_type": "code",
   "execution_count": 33,
   "metadata": {},
   "outputs": [
    {
     "data": {
      "text/html": [
       "<div>\n",
       "<style scoped>\n",
       "    .dataframe tbody tr th:only-of-type {\n",
       "        vertical-align: middle;\n",
       "    }\n",
       "\n",
       "    .dataframe tbody tr th {\n",
       "        vertical-align: top;\n",
       "    }\n",
       "\n",
       "    .dataframe thead th {\n",
       "        text-align: right;\n",
       "    }\n",
       "</style>\n",
       "<table border=\"1\" class=\"dataframe\">\n",
       "  <thead>\n",
       "    <tr style=\"text-align: right;\">\n",
       "      <th></th>\n",
       "      <th>user_id</th>\n",
       "      <th>month_year</th>\n",
       "      <th>calls_quantity</th>\n",
       "      <th>sum_calls_duration</th>\n",
       "      <th>messages_quantity</th>\n",
       "      <th>mb_used</th>\n",
       "      <th>gb_used</th>\n",
       "      <th>tariff</th>\n",
       "      <th>gain</th>\n",
       "    </tr>\n",
       "  </thead>\n",
       "  <tbody>\n",
       "    <tr>\n",
       "      <th>1719</th>\n",
       "      <td>1275</td>\n",
       "      <td>2018-10</td>\n",
       "      <td>77.0</td>\n",
       "      <td>470.0</td>\n",
       "      <td>29.0</td>\n",
       "      <td>18446.070312</td>\n",
       "      <td>19.0</td>\n",
       "      <td>smart</td>\n",
       "      <td>1350.0</td>\n",
       "    </tr>\n",
       "    <tr>\n",
       "      <th>2922</th>\n",
       "      <td>1459</td>\n",
       "      <td>2018-11</td>\n",
       "      <td>82.0</td>\n",
       "      <td>662.0</td>\n",
       "      <td>29.0</td>\n",
       "      <td>15475.200195</td>\n",
       "      <td>16.0</td>\n",
       "      <td>smart</td>\n",
       "      <td>1236.0</td>\n",
       "    </tr>\n",
       "    <tr>\n",
       "      <th>1895</th>\n",
       "      <td>1302</td>\n",
       "      <td>2018-06</td>\n",
       "      <td>27.0</td>\n",
       "      <td>171.0</td>\n",
       "      <td>77.0</td>\n",
       "      <td>19664.109375</td>\n",
       "      <td>20.0</td>\n",
       "      <td>smart</td>\n",
       "      <td>1631.0</td>\n",
       "    </tr>\n",
       "    <tr>\n",
       "      <th>161</th>\n",
       "      <td>1025</td>\n",
       "      <td>2018-03</td>\n",
       "      <td>45.0</td>\n",
       "      <td>323.0</td>\n",
       "      <td>14.0</td>\n",
       "      <td>7332.689941</td>\n",
       "      <td>8.0</td>\n",
       "      <td>smart</td>\n",
       "      <td>550.0</td>\n",
       "    </tr>\n",
       "    <tr>\n",
       "      <th>255</th>\n",
       "      <td>1040</td>\n",
       "      <td>2018-11</td>\n",
       "      <td>54.0</td>\n",
       "      <td>437.0</td>\n",
       "      <td>0.0</td>\n",
       "      <td>19871.371094</td>\n",
       "      <td>20.0</td>\n",
       "      <td>smart</td>\n",
       "      <td>1550.0</td>\n",
       "    </tr>\n",
       "  </tbody>\n",
       "</table>\n",
       "</div>"
      ],
      "text/plain": [
       "      user_id month_year  calls_quantity  sum_calls_duration  \\\n",
       "1719     1275    2018-10            77.0               470.0   \n",
       "2922     1459    2018-11            82.0               662.0   \n",
       "1895     1302    2018-06            27.0               171.0   \n",
       "161      1025    2018-03            45.0               323.0   \n",
       "255      1040    2018-11            54.0               437.0   \n",
       "\n",
       "      messages_quantity       mb_used  gb_used tariff    gain  \n",
       "1719               29.0  18446.070312     19.0  smart  1350.0  \n",
       "2922               29.0  15475.200195     16.0  smart  1236.0  \n",
       "1895               77.0  19664.109375     20.0  smart  1631.0  \n",
       "161                14.0   7332.689941      8.0  smart   550.0  \n",
       "255                 0.0  19871.371094     20.0  smart  1550.0  "
      ]
     },
     "execution_count": 33,
     "metadata": {},
     "output_type": "execute_result"
    }
   ],
   "source": [
    "def profit_func(row):\n",
    "    for i in tariffs.index:\n",
    "        if row['tariff'] == tariffs.loc[i, 'tariff_name']:\n",
    "            return (max(0, (row['sum_calls_duration'] - tariffs.loc[i, 'minutes_included'])) * tariffs.loc[i, 'rub_per_minute']) + (max(0, (row['messages_quantity'] - tariffs.loc[i, 'messages_included'])) * tariffs.loc[i, 'rub_per_message']) + (max(0, (row['gb_used'] - (tariffs.loc[i, 'mb_per_month_included'] / 1024))) * tariffs.loc[i, 'rub_per_gb']) + tariffs.loc[i, 'rub_monthly_fee']\n",
    "        \n",
    "users_behavior['gain'] = users_behavior.apply(profit_func, axis=1)\n",
    "users_behavior.sample(n=5, random_state=1)"
   ]
  },
  {
   "cell_type": "markdown",
   "metadata": {},
   "source": [
    "**Conclusion**\n",
    "\n",
    "We got the final table `users_behavior` describing the behavior of subscribers - what tariff they use, how many calls they make and how many SMS they send, how many minutes of conversation and how much Internet traffic they spend monthly. Also, for each user, the monthly revenue was calculated. The data is now ready for further analysis."
   ]
  },
  {
   "cell_type": "markdown",
   "metadata": {},
   "source": [
    "## Data Analysis & Description"
   ]
  },
  {
   "cell_type": "markdown",
   "metadata": {},
   "source": [
    "Let's see how customer behavior differs depending on the tariff. Let's save users of different tariffs in different dataframes:"
   ]
  },
  {
   "cell_type": "code",
   "execution_count": 34,
   "metadata": {},
   "outputs": [],
   "source": [
    "users_behavior_smart = users_behavior[users_behavior['tariff'] == 'smart'].copy()\n",
    "users_behavior_ultra = users_behavior[users_behavior['tariff'] == 'ultra'].copy()"
   ]
  },
  {
   "cell_type": "markdown",
   "metadata": {},
   "source": [
    "Let's display a numerical description of the samples for each tariff:"
   ]
  },
  {
   "cell_type": "code",
   "execution_count": 35,
   "metadata": {},
   "outputs": [
    {
     "name": "stdout",
     "output_type": "stream",
     "text": [
      "Numerical description of the behavior of users of the tariff \"Smart\":\n"
     ]
    },
    {
     "data": {
      "text/html": [
       "<div>\n",
       "<style scoped>\n",
       "    .dataframe tbody tr th:only-of-type {\n",
       "        vertical-align: middle;\n",
       "    }\n",
       "\n",
       "    .dataframe tbody tr th {\n",
       "        vertical-align: top;\n",
       "    }\n",
       "\n",
       "    .dataframe thead th {\n",
       "        text-align: right;\n",
       "    }\n",
       "</style>\n",
       "<table border=\"1\" class=\"dataframe\">\n",
       "  <thead>\n",
       "    <tr style=\"text-align: right;\">\n",
       "      <th></th>\n",
       "      <th>count</th>\n",
       "      <th>mean</th>\n",
       "      <th>std</th>\n",
       "      <th>min</th>\n",
       "      <th>25%</th>\n",
       "      <th>50%</th>\n",
       "      <th>75%</th>\n",
       "      <th>max</th>\n",
       "    </tr>\n",
       "  </thead>\n",
       "  <tbody>\n",
       "    <tr>\n",
       "      <th>user_id</th>\n",
       "      <td>2229.0</td>\n",
       "      <td>1246.506505</td>\n",
       "      <td>146.119496</td>\n",
       "      <td>1001.0</td>\n",
       "      <td>1121.000000</td>\n",
       "      <td>1239.000000</td>\n",
       "      <td>1376.000000</td>\n",
       "      <td>1499.000000</td>\n",
       "    </tr>\n",
       "    <tr>\n",
       "      <th>calls_quantity</th>\n",
       "      <td>2229.0</td>\n",
       "      <td>58.463437</td>\n",
       "      <td>25.939858</td>\n",
       "      <td>0.0</td>\n",
       "      <td>40.000000</td>\n",
       "      <td>60.000000</td>\n",
       "      <td>76.000000</td>\n",
       "      <td>198.000000</td>\n",
       "    </tr>\n",
       "    <tr>\n",
       "      <th>sum_calls_duration</th>\n",
       "      <td>2229.0</td>\n",
       "      <td>417.934948</td>\n",
       "      <td>190.313730</td>\n",
       "      <td>0.0</td>\n",
       "      <td>282.000000</td>\n",
       "      <td>422.000000</td>\n",
       "      <td>545.000000</td>\n",
       "      <td>1435.000000</td>\n",
       "    </tr>\n",
       "    <tr>\n",
       "      <th>messages_quantity</th>\n",
       "      <td>2229.0</td>\n",
       "      <td>33.384029</td>\n",
       "      <td>28.227876</td>\n",
       "      <td>0.0</td>\n",
       "      <td>10.000000</td>\n",
       "      <td>28.000000</td>\n",
       "      <td>51.000000</td>\n",
       "      <td>143.000000</td>\n",
       "    </tr>\n",
       "    <tr>\n",
       "      <th>mb_used</th>\n",
       "      <td>2229.0</td>\n",
       "      <td>16208.396484</td>\n",
       "      <td>5870.475586</td>\n",
       "      <td>0.0</td>\n",
       "      <td>12643.009766</td>\n",
       "      <td>16506.839844</td>\n",
       "      <td>20042.929688</td>\n",
       "      <td>38552.449219</td>\n",
       "    </tr>\n",
       "    <tr>\n",
       "      <th>gb_used</th>\n",
       "      <td>2229.0</td>\n",
       "      <td>16.328848</td>\n",
       "      <td>5.747055</td>\n",
       "      <td>0.0</td>\n",
       "      <td>13.000000</td>\n",
       "      <td>17.000000</td>\n",
       "      <td>20.000000</td>\n",
       "      <td>38.000000</td>\n",
       "    </tr>\n",
       "    <tr>\n",
       "      <th>gain</th>\n",
       "      <td>2229.0</td>\n",
       "      <td>1289.973531</td>\n",
       "      <td>818.404367</td>\n",
       "      <td>550.0</td>\n",
       "      <td>550.000000</td>\n",
       "      <td>1023.000000</td>\n",
       "      <td>1750.000000</td>\n",
       "      <td>6770.000000</td>\n",
       "    </tr>\n",
       "  </tbody>\n",
       "</table>\n",
       "</div>"
      ],
      "text/plain": [
       "                     count          mean          std     min           25%  \\\n",
       "user_id             2229.0   1246.506505   146.119496  1001.0   1121.000000   \n",
       "calls_quantity      2229.0     58.463437    25.939858     0.0     40.000000   \n",
       "sum_calls_duration  2229.0    417.934948   190.313730     0.0    282.000000   \n",
       "messages_quantity   2229.0     33.384029    28.227876     0.0     10.000000   \n",
       "mb_used             2229.0  16208.396484  5870.475586     0.0  12643.009766   \n",
       "gb_used             2229.0     16.328848     5.747055     0.0     13.000000   \n",
       "gain                2229.0   1289.973531   818.404367   550.0    550.000000   \n",
       "\n",
       "                             50%           75%           max  \n",
       "user_id              1239.000000   1376.000000   1499.000000  \n",
       "calls_quantity         60.000000     76.000000    198.000000  \n",
       "sum_calls_duration    422.000000    545.000000   1435.000000  \n",
       "messages_quantity      28.000000     51.000000    143.000000  \n",
       "mb_used             16506.839844  20042.929688  38552.449219  \n",
       "gb_used                17.000000     20.000000     38.000000  \n",
       "gain                 1023.000000   1750.000000   6770.000000  "
      ]
     },
     "execution_count": 35,
     "metadata": {},
     "output_type": "execute_result"
    }
   ],
   "source": [
    "print('Numerical description of the behavior of users of the tariff \"Smart\":')\n",
    "users_behavior_smart.describe().T"
   ]
  },
  {
   "cell_type": "code",
   "execution_count": 36,
   "metadata": {},
   "outputs": [
    {
     "name": "stdout",
     "output_type": "stream",
     "text": [
      "Numerical description of the behavior of users of the tariff \"Ultra\":\n"
     ]
    },
    {
     "data": {
      "text/html": [
       "<div>\n",
       "<style scoped>\n",
       "    .dataframe tbody tr th:only-of-type {\n",
       "        vertical-align: middle;\n",
       "    }\n",
       "\n",
       "    .dataframe tbody tr th {\n",
       "        vertical-align: top;\n",
       "    }\n",
       "\n",
       "    .dataframe thead th {\n",
       "        text-align: right;\n",
       "    }\n",
       "</style>\n",
       "<table border=\"1\" class=\"dataframe\">\n",
       "  <thead>\n",
       "    <tr style=\"text-align: right;\">\n",
       "      <th></th>\n",
       "      <th>count</th>\n",
       "      <th>mean</th>\n",
       "      <th>std</th>\n",
       "      <th>min</th>\n",
       "      <th>25%</th>\n",
       "      <th>50%</th>\n",
       "      <th>75%</th>\n",
       "      <th>max</th>\n",
       "    </tr>\n",
       "  </thead>\n",
       "  <tbody>\n",
       "    <tr>\n",
       "      <th>user_id</th>\n",
       "      <td>985.0</td>\n",
       "      <td>1263.094416</td>\n",
       "      <td>140.694908</td>\n",
       "      <td>1000.0</td>\n",
       "      <td>1143.000000</td>\n",
       "      <td>1277.000000</td>\n",
       "      <td>1381.000000</td>\n",
       "      <td>1495.000000</td>\n",
       "    </tr>\n",
       "    <tr>\n",
       "      <th>calls_quantity</th>\n",
       "      <td>985.0</td>\n",
       "      <td>73.392893</td>\n",
       "      <td>43.916853</td>\n",
       "      <td>0.0</td>\n",
       "      <td>41.000000</td>\n",
       "      <td>74.000000</td>\n",
       "      <td>104.000000</td>\n",
       "      <td>244.000000</td>\n",
       "    </tr>\n",
       "    <tr>\n",
       "      <th>sum_calls_duration</th>\n",
       "      <td>985.0</td>\n",
       "      <td>526.623350</td>\n",
       "      <td>317.606098</td>\n",
       "      <td>0.0</td>\n",
       "      <td>284.000000</td>\n",
       "      <td>518.000000</td>\n",
       "      <td>752.000000</td>\n",
       "      <td>1673.000000</td>\n",
       "    </tr>\n",
       "    <tr>\n",
       "      <th>messages_quantity</th>\n",
       "      <td>985.0</td>\n",
       "      <td>49.363452</td>\n",
       "      <td>47.804457</td>\n",
       "      <td>0.0</td>\n",
       "      <td>6.000000</td>\n",
       "      <td>38.000000</td>\n",
       "      <td>79.000000</td>\n",
       "      <td>224.000000</td>\n",
       "    </tr>\n",
       "    <tr>\n",
       "      <th>mb_used</th>\n",
       "      <td>985.0</td>\n",
       "      <td>19468.789062</td>\n",
       "      <td>10087.171875</td>\n",
       "      <td>0.0</td>\n",
       "      <td>11770.259766</td>\n",
       "      <td>19308.009766</td>\n",
       "      <td>26837.689453</td>\n",
       "      <td>49745.691406</td>\n",
       "    </tr>\n",
       "    <tr>\n",
       "      <th>gb_used</th>\n",
       "      <td>985.0</td>\n",
       "      <td>19.494417</td>\n",
       "      <td>9.853510</td>\n",
       "      <td>0.0</td>\n",
       "      <td>12.000000</td>\n",
       "      <td>19.000000</td>\n",
       "      <td>27.000000</td>\n",
       "      <td>49.000000</td>\n",
       "    </tr>\n",
       "    <tr>\n",
       "      <th>gain</th>\n",
       "      <td>985.0</td>\n",
       "      <td>2070.152284</td>\n",
       "      <td>376.187114</td>\n",
       "      <td>1950.0</td>\n",
       "      <td>1950.000000</td>\n",
       "      <td>1950.000000</td>\n",
       "      <td>1950.000000</td>\n",
       "      <td>4800.000000</td>\n",
       "    </tr>\n",
       "  </tbody>\n",
       "</table>\n",
       "</div>"
      ],
      "text/plain": [
       "                    count          mean           std     min           25%  \\\n",
       "user_id             985.0   1263.094416    140.694908  1000.0   1143.000000   \n",
       "calls_quantity      985.0     73.392893     43.916853     0.0     41.000000   \n",
       "sum_calls_duration  985.0    526.623350    317.606098     0.0    284.000000   \n",
       "messages_quantity   985.0     49.363452     47.804457     0.0      6.000000   \n",
       "mb_used             985.0  19468.789062  10087.171875     0.0  11770.259766   \n",
       "gb_used             985.0     19.494417      9.853510     0.0     12.000000   \n",
       "gain                985.0   2070.152284    376.187114  1950.0   1950.000000   \n",
       "\n",
       "                             50%           75%           max  \n",
       "user_id              1277.000000   1381.000000   1495.000000  \n",
       "calls_quantity         74.000000    104.000000    244.000000  \n",
       "sum_calls_duration    518.000000    752.000000   1673.000000  \n",
       "messages_quantity      38.000000     79.000000    224.000000  \n",
       "mb_used             19308.009766  26837.689453  49745.691406  \n",
       "gb_used                19.000000     27.000000     49.000000  \n",
       "gain                 1950.000000   1950.000000   4800.000000  "
      ]
     },
     "execution_count": 36,
     "metadata": {},
     "output_type": "execute_result"
    }
   ],
   "source": [
    "print('Numerical description of the behavior of users of the tariff \"Ultra\":')\n",
    "users_behavior_ultra.describe().T"
   ]
  },
  {
   "cell_type": "markdown",
   "metadata": {},
   "source": [
    "It can be seen that the number of users of the more expensive ultra tariff is more than 2 times less than the budget smart one, and this is predictable - most people like to save money and choose a tariff with a lower monthly fee. If we analyze other characteristics of the samples, we will come to the following conclusions:\n",
    "\n",
    "- Average and median revenue from smart users is approximately 2 times more than the subscription fee;\n",
    "- The average and median revenue for the ultra tariff is approximately equal to the subscription fee;\n",
    "- The maximum revenue in the smart tariff sample is almost 1.5 times higher than the maximum in the ultra sample;\n",
    "- The average and median values ​​of the used Internet traffic in the smart tariff exceed the limit included in the subscription fee;\n",
    "- The median for Internet traffic of the smart tariff is only 10% less than the similar median for the ultra tariff;\n",
    "- The average and median values ​​for the number of calls in the sample for users of the ultra tariff are only 19% higher than the average and median number of calls for the smart tariff. Approximately the same difference between the average and median duration of calls in both tariffs. At the same time, the number of minutes included in the monthly fee in the ultra tariff is 6 times higher than the number in the smart tariff.\n",
    "\n",
    "In general, it is noticeable that users of a budget tariff plan allow much more overpayments than subscribers of a more expensive tariff. Exceeding the limits of the smart tariff is in the sample for all items (minutes of conversation, SMS, Internet). But for ultra, judging by the sample, the excess occurs mainly only in Internet traffic.\n",
    "<br><br>\n",
    "\n",
    "Let's display the average, variance and standard deviation for samples for each of the tariffs. Since we are dealing not with the general population of all subscribers, but with a sample, when calculating the variance, we will add the parameter `ddof=1` to the `.var()` method."
   ]
  },
  {
   "cell_type": "code",
   "execution_count": 37,
   "metadata": {},
   "outputs": [
    {
     "name": "stdout",
     "output_type": "stream",
     "text": [
      "Statistics for sample of \"smart\":\n",
      "Column average sum_calls_duration : 417.9349484073576\n",
      "Column variance sum_calls_duration : 36219.31578434424\n",
      "Standard deviation by column sum_calls_duration : 190.27103471651864\n",
      "\n",
      "Column average messages_quantity : 33.384028712427096\n",
      "Column variance messages_quantity : 796.8129584480083\n",
      "Standard deviation by column messages_quantity : 28.221542886898938\n",
      "\n",
      "Column average gb_used : 16.328847885131836\n",
      "Column variance gb_used : 33.02864074707031\n",
      "Standard deviation by column gb_used : 5.745765686035156\n",
      "\n",
      "Column average gain : 1289.9735307312696\n",
      "Column variance gain : 669785.7080064153\n",
      "Standard deviation by column gain : 818.2207653948997\n",
      "\n",
      "\n",
      "Statistics for sample of \"ultra\":\n",
      "Column average sum_calls_duration : 526.6233502538071\n",
      "Column variance sum_calls_duration : 100873.63339730089\n",
      "Standard deviation by column sum_calls_duration : 317.444835549741\n",
      "\n",
      "Column average messages_quantity : 49.36345177664975\n",
      "Column variance messages_quantity : 2285.2661425446818\n",
      "Standard deviation by column messages_quantity : 47.78018496610169\n",
      "\n",
      "Column average gb_used : 19.494417190551758\n",
      "Column variance gb_used : 97.09165954589844\n",
      "Standard deviation by column gb_used : 9.848506927490234\n",
      "\n",
      "Column average gain : 2070.1522842639592\n",
      "Column variance gain : 141516.74507861698\n",
      "Standard deviation by column gain : 375.99610803331746\n",
      "\n"
     ]
    }
   ],
   "source": [
    "list_of_columns = ['sum_calls_duration', 'messages_quantity', 'gb_used', 'gain']\n",
    "\n",
    "print('Statistics for sample of \"smart\":')\n",
    "for column in list_of_columns:\n",
    "    print('Column average', column, ':', users_behavior_smart[column].mean())\n",
    "    print('Column variance', column, ':', np.var(users_behavior_smart[column], ddof=1))\n",
    "    print('Standard deviation by column', column, ':', np.std(users_behavior_smart[column]))\n",
    "    print()\n",
    "\n",
    "print()\n",
    "print('Statistics for sample of \"ultra\":')\n",
    "for column in list_of_columns:\n",
    "    print('Column average', column, ':', users_behavior_ultra[column].mean())\n",
    "    print('Column variance', column, ':', np.var(users_behavior_ultra[column], ddof=1))\n",
    "    print('Standard deviation by column', column, ':', np.std(users_behavior_ultra[column]))\n",
    "    print()"
   ]
  },
  {
   "cell_type": "markdown",
   "metadata": {},
   "source": [
    "The variance and standard deviation show how much the values in the sample are scattered around the arithmetic mean. The variance is expressed in the squares of units of measurement, and the standard deviation is expressed in units of measurement, so this characteristic is clearer for us. A low standard deviation indicates that the values tend to be close to the mean, while a high standard deviation indicates that the values are scattered over a wider range.\n",
    "\n",
    "The spread of values for each of the parameters - the duration of the call, the number of messages and the volume of Internet traffic - is greater in the \"ultra\" tariff sample than in the \"smart\" tariff. However, this does not apply to `gain` revenue - here the standard deviation for the \"smart\" tariff is approximately 2.2 times greater than for \"ultra\", i.e. values are scattered more! As already noted, this is due to a large number of overspending among \"smart\" users.\n",
    "<br><br>"
   ]
  },
  {
   "cell_type": "markdown",
   "metadata": {},
   "source": [
    "Let's build histograms for the `'sum_calls_duration', 'messages_quantity', 'gb_used', 'gain'` columns of both `users_behavior_smart` and `users_behavior_ultra` tables."
   ]
  },
  {
   "cell_type": "code",
   "execution_count": 38,
   "metadata": {
    "scrolled": false
   },
   "outputs": [
    {
     "name": "stdout",
     "output_type": "stream",
     "text": [
      "Histograms for sample of the tariff \"smart\":\n"
     ]
    },
    {
     "data": {
      "image/png": "[encoded data removed]",
      "text/plain": [
       "<Figure size 1080x504 with 1 Axes>"
      ]
     },
     "metadata": {
      "needs_background": "light"
     },
     "output_type": "display_data"
    },
    {
     "data": {
      "image/png": "[encoded data removed]",
      "text/plain": [
       "<Figure size 1080x504 with 1 Axes>"
      ]
     },
     "metadata": {
      "needs_background": "light"
     },
     "output_type": "display_data"
    },
    {
     "data": {
      "image/png": "[encoded data removed]",
      "text/plain": [
       "<Figure size 1080x504 with 1 Axes>"
      ]
     },
     "metadata": {
      "needs_background": "light"
     },
     "output_type": "display_data"
    },
    {
     "data": {
      "image/png": "[encoded data removed]",
      "text/plain": [
       "<Figure size 1080x504 with 1 Axes>"
      ]
     },
     "metadata": {
      "needs_background": "light"
     },
     "output_type": "display_data"
    }
   ],
   "source": [
    "dict_of_columns = {'sum_calls_duration' : 'Total call duration, min',\n",
    "                   'messages_quantity' : 'Number of sent messages, pcs.',\n",
    "                   'gb_used' : 'The amount of used Internet traffic, GB',\n",
    "                   'gain' : 'Revenue, RUB'}\n",
    "\n",
    "print('Histograms for sample of the tariff \"smart\":')\n",
    "\n",
    "for column in dict_of_columns.keys():\n",
    "    ax = users_behavior_smart[column].plot(kind = 'hist', figsize = (15, 7), grid=True, bins=112)\n",
    "    ax.set_title('Histogram for column ' + column)\n",
    "    ax.set_xlabel(dict_of_columns[column])\n",
    "    plt.show()"
   ]
  },
  {
   "cell_type": "markdown",
   "metadata": {},
   "source": [
    "The histogram for the total call duration for the smart tariff has a bell-shaped form. Most values are in the range from 300 to 550 minutes, with an arithmetic mean of 418 minutes. Approximately 30% of the values are in the area beyond the limit of 500 minutes included in the subscription fee. The histogram shows that the call duration dataset is skewed to the left.\n",
    "\n",
    "The histogram for the number of messages has one large local maximum near 0. This is an expected phenomenon - with the advent of instant messengers in our lives, people use the sms service less and less. Behind the value of 0 we see a very gentle \"bell\", beveled to the right, with a rather long \"tail\".\n",
    "\n",
    "The histogram for used Internet traffic is an almost symmetrical \"bell\", where the mean and median are almost equal to each other. However, a slight slant to the right is clearly visible. The median value of the sample lies outside the 15 GB limit included in the tariff plan, which means that in more than half of the cases, users overuse Internet traffic.\n",
    "\n",
    "The histogram for revenue has a peak at the value of 550 RUB - at the same time, this value is the first quartile for the sample. In other words, users of the smart tariff only meet the limit in 25% of cases; in 75% of cases, users pay extra for overspending. The histogram has rhythmic decreasing peaks that fade away with increasing revenue values. Such peaks arise due to the fact that the user pays 200 rubles for 1 GB of overspending on Internet traffic, which immediately makes a significant contribution to the amount of revenue (especially when compared with the cost of overspending by minutes - 3 RUB/min, and according to reports - 3 RUB/message)."
   ]
  },
  {
   "cell_type": "code",
   "execution_count": 39,
   "metadata": {
    "scrolled": false
   },
   "outputs": [
    {
     "name": "stdout",
     "output_type": "stream",
     "text": [
      "Histograms for sample of the tariff \"ultra\":\n"
     ]
    },
    {
     "data": {
      "image/png": "[encoded data removed]",
      "text/plain": [
       "<Figure size 1080x504 with 1 Axes>"
      ]
     },
     "metadata": {
      "needs_background": "light"
     },
     "output_type": "display_data"
    },
    {
     "data": {
      "image/png": "[encoded data removed]",
      "text/plain": [
       "<Figure size 1080x504 with 1 Axes>"
      ]
     },
     "metadata": {
      "needs_background": "light"
     },
     "output_type": "display_data"
    },
    {
     "data": {
      "image/png": "[encoded data removed]",
      "text/plain": [
       "<Figure size 1080x504 with 1 Axes>"
      ]
     },
     "metadata": {
      "needs_background": "light"
     },
     "output_type": "display_data"
    },
    {
     "data": {
      "image/png": "[encoded data removed]",
      "text/plain": [
       "<Figure size 1080x504 with 1 Axes>"
      ]
     },
     "metadata": {
      "needs_background": "light"
     },
     "output_type": "display_data"
    }
   ],
   "source": [
    "print('Histograms for sample of the tariff \"ultra\":')\n",
    "\n",
    "for column in dict_of_columns.keys():\n",
    "    ax = users_behavior_ultra[column].plot(kind = 'hist', figsize = (15, 7), grid=True, bins=99)\n",
    "    ax.set_title('Histogram for column ' + column)\n",
    "    ax.set_xlabel(dict_of_columns[column])\n",
    "    plt.show()"
   ]
  },
  {
   "cell_type": "markdown",
   "metadata": {},
   "source": [
    "Now let's describe the histograms for the parameters of the ultra tariff.\n",
    "\n",
    "The call duration histogram has an energetic maximum at zero. That is, in a significant part of cases, calls are not used, which may be due to the good limit of the Internet included in the tariff - 30 GB, and users prefer calls from instant messengers. Despite the fact that the tariff also includes 3000 minutes of conversation, in no case this limit was reached, and the maximum was registered at a value of 1673 minutes.\n",
    "\n",
    "According to the histogram by the number of messages, the maximum at the value of 0 is also visible. The same messengers are probably \"to blame\" here. In general, users are reluctant to use the possibility of sending SMS messages, which is confirmed by the fact that the limit of 1000 messages has never been reached. Moreover, the median for the sample is 38 messages, and the maximum is 224 messages. The histogram is not bell-shaped, and has a long \"tail\" of rare values that starts around 100.\n",
    "\n",
    "The histogram for the volume of Internet used has a bell-shaped structure. It is noticeable here that in more than 75% of cases, users fit into the 30 GB limit included in the monthly fee. The median and mean values in this sample also almost coincide.\n",
    "\n",
    "The histogram for the \"Revenue\" parameter has a very interesting look - one large peak is visible at the value of 1950 rubles. - this is the amount of the subscription fee for the ultra tariff. More than 75% of revenue values are at this mark. The remaining values in the sample are quite rare."
   ]
  },
  {
   "cell_type": "markdown",
   "metadata": {},
   "source": [
    "For a more visual comparison, let's display histograms for the revenue of two tariffs - Smart and Ultra on one chart:"
   ]
  },
  {
   "cell_type": "code",
   "execution_count": 40,
   "metadata": {},
   "outputs": [
    {
     "data": {
      "image/png": "[encoded data removed]",
      "text/plain": [
       "<Figure size 1080x504 with 1 Axes>"
      ]
     },
     "metadata": {
      "needs_background": "light"
     },
     "output_type": "display_data"
    }
   ],
   "source": [
    "ax1 = users_behavior_smart['gain'].plot(kind = 'hist', figsize = (15, 7), grid=True, bins=100, label='Smart')\n",
    "ax2 = users_behavior_ultra['gain'].plot(kind = 'hist', figsize = (15, 7), grid=True, bins=100, label='Ultra')\n",
    "ax1.set_title('Monthly revenue, RUB')\n",
    "ax1.set_xlabel('Revenue, RUB', fontsize = 12)\n",
    "ax1.legend(loc = 'upper right')\n",
    "ax2.legend(loc = 'upper right')\n",
    "plt.show()"
   ]
  },
  {
   "cell_type": "markdown",
   "metadata": {},
   "source": [
    "**Conclusion**\n",
    "\n",
    "\"Smart\" tariff users require an average of 418 minutes of talk time per month, which is quite close to the 500 minute limit included in this tariff plan. About 30% of users overuse this limit. The tariff also includes 50 messages and 15 GB of Internet traffic. In about 75% of cases, smart users have enough of such a message limit, but many gigabytes of the Internet are not enough - an average of 16.33 GB and a median of 17 GB are already outside the volume included in the tariff. This means that in more than half of the cases, users are forced to purchase additional Internet traffic.\n",
    "\n",
    "Users of the \"ultra\" tariff spend an average of 527 minutes of calls per month, and the maximum for the sample is reached at around 1673 minutes with a limit of 3000 minutes. In other words, the subscribers of the minutes of conversation included in the tariff are enough in full. A similar situation develops with SMS: the tariff includes 1000 messages, and subscribers on average spend only about 50 messages, while the maximum value is 224 messages sent per month. And only in terms of the volume of Internet traffic there are overruns, but they also occur quite rarely - in less than 25% of cases.\n",
    "\n",
    "\"Smart\" subscribers overuse their limits much more often than \"ultra\" subscribers."
   ]
  },
  {
   "cell_type": "markdown",
   "metadata": {},
   "source": [
    "## Tests of hypotheses"
   ]
  },
  {
   "cell_type": "markdown",
   "metadata": {},
   "source": [
    "Let's test the hypothesis that the average revenue of users of the \"Ultra\" and \"Smart\" tariffs are different. Let's start with the formulation of the null hypothesis. Since the null hypothesis is always formulated in such a way as to use the equal sign, in our case it will sound like this:<br><br>\n",
    "*Average revenue of users of \"Ultra\" and \"Smart\" tariffs are equal*,<br><br>\n",
    "and we formulate an alternative hypothesis for such a null hypothesis as:<br><br>\n",
    "*Average revenue of users of \"Ultra\" and \"Smart\" tariffs differ*<br><br>\n",
    "Since we are testing the equality of the averages of two independent populations for their samples, we use the `.ttest_ind()` method from the `scipy` library to test the hypothesis, applying it to columns with revenue from ultra and smart tariff samples. From the previous step, we saw that the variances in the revenue of both samples differ significantly from each other, so we will pass the `equal_var` parameter with the value `False` to the method. Let's set a critical level of statistical significance of 5%."
   ]
  },
  {
   "cell_type": "code",
   "execution_count": 41,
   "metadata": {},
   "outputs": [
    {
     "name": "stdout",
     "output_type": "stream",
     "text": [
      "p-value: 4.2606313931076085e-250\n",
      "Rejecting the null hypothesis\n"
     ]
    }
   ],
   "source": [
    "alpha = 0.05  # a critical level of statistical significance\n",
    "\n",
    "results = st.ttest_ind(users_behavior_smart['gain'],\n",
    "                       users_behavior_ultra['gain'],\n",
    "                       equal_var = False)\n",
    "\n",
    "print('p-value:', results.pvalue)\n",
    "\n",
    "if results.pvalue < alpha:\n",
    "    print('Rejecting the null hypothesis')\n",
    "else:\n",
    "    print('Failed to reject the null hypothesis') "
   ]
  },
  {
   "cell_type": "markdown",
   "metadata": {},
   "source": [
    "We see that `pvalue` is very close to zero, and we reject the null hypothesis. This means that we do not reject the alternative hypothesis that the average revenue of users of the \"Ultra\" and \"Smart\" tariffs are different.\n",
    "\n",
    "<br><br><br>"
   ]
  },
  {
   "cell_type": "markdown",
   "metadata": {},
   "source": [
    "Now let's analyze the average revenue from customers from Moscow and from other regions.\n",
    "To do this, add a column with the user's city `city` to the general dataframe `users_behavior`, and then select two samples - users from Moscow and users from other regions and calculate the average revenue for each sample."
   ]
  },
  {
   "cell_type": "code",
   "execution_count": 42,
   "metadata": {},
   "outputs": [
    {
     "data": {
      "text/html": [
       "<div>\n",
       "<style scoped>\n",
       "    .dataframe tbody tr th:only-of-type {\n",
       "        vertical-align: middle;\n",
       "    }\n",
       "\n",
       "    .dataframe tbody tr th {\n",
       "        vertical-align: top;\n",
       "    }\n",
       "\n",
       "    .dataframe thead th {\n",
       "        text-align: right;\n",
       "    }\n",
       "</style>\n",
       "<table border=\"1\" class=\"dataframe\">\n",
       "  <thead>\n",
       "    <tr style=\"text-align: right;\">\n",
       "      <th></th>\n",
       "      <th>user_id</th>\n",
       "      <th>month_year</th>\n",
       "      <th>calls_quantity</th>\n",
       "      <th>sum_calls_duration</th>\n",
       "      <th>messages_quantity</th>\n",
       "      <th>mb_used</th>\n",
       "      <th>gb_used</th>\n",
       "      <th>tariff</th>\n",
       "      <th>gain</th>\n",
       "      <th>city</th>\n",
       "    </tr>\n",
       "  </thead>\n",
       "  <tbody>\n",
       "    <tr>\n",
       "      <th>1719</th>\n",
       "      <td>1275</td>\n",
       "      <td>2018-10</td>\n",
       "      <td>77.0</td>\n",
       "      <td>470.0</td>\n",
       "      <td>29.0</td>\n",
       "      <td>18446.070312</td>\n",
       "      <td>19.0</td>\n",
       "      <td>smart</td>\n",
       "      <td>1350.0</td>\n",
       "      <td>Москва</td>\n",
       "    </tr>\n",
       "    <tr>\n",
       "      <th>2922</th>\n",
       "      <td>1459</td>\n",
       "      <td>2018-11</td>\n",
       "      <td>82.0</td>\n",
       "      <td>662.0</td>\n",
       "      <td>29.0</td>\n",
       "      <td>15475.200195</td>\n",
       "      <td>16.0</td>\n",
       "      <td>smart</td>\n",
       "      <td>1236.0</td>\n",
       "      <td>Магнитогорск</td>\n",
       "    </tr>\n",
       "    <tr>\n",
       "      <th>1895</th>\n",
       "      <td>1302</td>\n",
       "      <td>2018-06</td>\n",
       "      <td>27.0</td>\n",
       "      <td>171.0</td>\n",
       "      <td>77.0</td>\n",
       "      <td>19664.109375</td>\n",
       "      <td>20.0</td>\n",
       "      <td>smart</td>\n",
       "      <td>1631.0</td>\n",
       "      <td>Уфа</td>\n",
       "    </tr>\n",
       "    <tr>\n",
       "      <th>161</th>\n",
       "      <td>1025</td>\n",
       "      <td>2018-03</td>\n",
       "      <td>45.0</td>\n",
       "      <td>323.0</td>\n",
       "      <td>14.0</td>\n",
       "      <td>7332.689941</td>\n",
       "      <td>8.0</td>\n",
       "      <td>smart</td>\n",
       "      <td>550.0</td>\n",
       "      <td>Уфа</td>\n",
       "    </tr>\n",
       "    <tr>\n",
       "      <th>255</th>\n",
       "      <td>1040</td>\n",
       "      <td>2018-11</td>\n",
       "      <td>54.0</td>\n",
       "      <td>437.0</td>\n",
       "      <td>0.0</td>\n",
       "      <td>19871.371094</td>\n",
       "      <td>20.0</td>\n",
       "      <td>smart</td>\n",
       "      <td>1550.0</td>\n",
       "      <td>Сочи</td>\n",
       "    </tr>\n",
       "  </tbody>\n",
       "</table>\n",
       "</div>"
      ],
      "text/plain": [
       "      user_id month_year  calls_quantity  sum_calls_duration  \\\n",
       "1719     1275    2018-10            77.0               470.0   \n",
       "2922     1459    2018-11            82.0               662.0   \n",
       "1895     1302    2018-06            27.0               171.0   \n",
       "161      1025    2018-03            45.0               323.0   \n",
       "255      1040    2018-11            54.0               437.0   \n",
       "\n",
       "      messages_quantity       mb_used  gb_used tariff    gain          city  \n",
       "1719               29.0  18446.070312     19.0  smart  1350.0        Москва  \n",
       "2922               29.0  15475.200195     16.0  smart  1236.0  Магнитогорск  \n",
       "1895               77.0  19664.109375     20.0  smart  1631.0           Уфа  \n",
       "161                14.0   7332.689941      8.0  smart   550.0           Уфа  \n",
       "255                 0.0  19871.371094     20.0  smart  1550.0          Сочи  "
      ]
     },
     "execution_count": 42,
     "metadata": {},
     "output_type": "execute_result"
    }
   ],
   "source": [
    "users_behavior['city'] = np.nan\n",
    "for i in users.index:\n",
    "    users_behavior.loc[users_behavior['user_id'] == users.loc[i, 'user_id'],'city'] = users_behavior.loc[users_behavior['user_id'] == users.loc[i, 'user_id'],'city'].fillna(users.loc[i, 'city'])\n",
    "users_behavior.sample(n=5, random_state=1)"
   ]
  },
  {
   "cell_type": "code",
   "execution_count": 43,
   "metadata": {},
   "outputs": [
    {
     "name": "stdout",
     "output_type": "stream",
     "text": [
      "Average revenue of users from Moscow: 1546.7135842880523\n",
      "Average user revenue from other regions: 1524.9362274298885\n"
     ]
    }
   ],
   "source": [
    "users_behavior_Moscow = users_behavior[users_behavior['city'] == 'Москва'].copy()\n",
    "users_behavior_other_city = users_behavior[users_behavior['city'] != 'Москва'].copy()\n",
    "\n",
    "print('Average revenue of users from Moscow:', users_behavior_Moscow['gain'].mean())\n",
    "print('Average user revenue from other regions:', users_behavior_other_city['gain'].mean())"
   ]
  },
  {
   "cell_type": "markdown",
   "metadata": {},
   "source": [
    "Let's display the dispersion in the `gain` column for users from Moscow and for other users:"
   ]
  },
  {
   "cell_type": "code",
   "execution_count": 44,
   "metadata": {},
   "outputs": [
    {
     "name": "stdout",
     "output_type": "stream",
     "text": [
      "Dispersion of income of users from Moscow: 565636.4670118855\n",
      "Dispersion of user revenue from other regions: 654137.6285218047\n"
     ]
    }
   ],
   "source": [
    "print('Dispersion of income of users from Moscow:', np.var(users_behavior_Moscow['gain'], ddof=1))\n",
    "print('Dispersion of user revenue from other regions:', np.var(users_behavior_other_city['gain'], ddof=1))"
   ]
  },
  {
   "cell_type": "markdown",
   "metadata": {},
   "source": [
    "Let's check if the average revenue of users from Moscow differs from the revenue of users from other regions. In this case, the formulation of the hypotheses will be as follows:\n",
    "\n",
    "- Null hypothesis: the average revenue of users from Moscow and the average revenue of users from other regions are equal;\n",
    "- Alternative hypothesis: the average revenue of users from Moscow differs from the revenue of users from other regions.\n",
    "\n",
    "Let's apply the `.ttest_ind()` method again to the columns with revenue from user samples from Moscow and from other cities. Given that the variances are not equal, let's pass `equal_var = False` to the method. Set the critical level of statistical significance `alpha` to 5%."
   ]
  },
  {
   "cell_type": "code",
   "execution_count": 45,
   "metadata": {},
   "outputs": [
    {
     "name": "stdout",
     "output_type": "stream",
     "text": [
      "p-value: 0.5257376663729298\n",
      "Failed to reject the null hypothesis\n"
     ]
    }
   ],
   "source": [
    "alpha = 0.05\n",
    "\n",
    "results = st.ttest_ind(users_behavior_Moscow['gain'],\n",
    "                       users_behavior_other_city['gain'],\n",
    "                       equal_var = False)\n",
    "\n",
    "print('p-value:', results.pvalue)\n",
    "\n",
    "if results.pvalue < alpha:\n",
    "    print('Rejecting the null hypothesis')\n",
    "else:\n",
    "    print('Failed to reject the null hypothesis') "
   ]
  },
  {
   "cell_type": "markdown",
   "metadata": {},
   "source": [
    "Now the `pvalue` is significantly higher than the level of statistical significance, so we cannot reject the null hypothesis that *the average revenue of users from Moscow and the average revenue of users from other regions are equal*."
   ]
  },
  {
   "cell_type": "markdown",
   "metadata": {},
   "source": [
    "**Conclusion**\n",
    "\n",
    "The test showed that the hypothesis that the average revenue of users of the \"Ultra\" and \"Smart\" tariffs differ cannot be rejected. And the hypothesis that the average revenue of users from Moscow differs from the revenue of users from other regions is rejected."
   ]
  },
  {
   "cell_type": "markdown",
   "metadata": {},
   "source": [
    "## General conclusion"
   ]
  },
  {
   "cell_type": "markdown",
   "metadata": {},
   "source": [
    "Based on five datasets containing information from 500 users, we received one summary table, in which for each user the number of calls made and minutes spent, the number of messages sent, the amount of traffic used, and revenue are indicated on a monthly basis. After analyzing this table, we were able to describe the behavior of customers of each tariff:\n",
    "- users of the \"Smart\" tariff in 30% of cases overuse the limit of minutes, in more than half of the cases - the volume of the Internet, and in about 25% of cases - the limit of messages. At the same time, the average revenue of users of the tariff is 1289.97 RUB.\n",
    "- users of the \"Ultra\" tariff allow overspending only in terms of the volume of Internet traffic, but the share of overspending is relatively small - only about 25% of cases. Of the included minutes and messages, subscribers spend less than half the amount. The average revenue of Ultra users is 2070.15 RUB.\n",
    "\n",
    "We also tested the hypothesis on the samples provided to us that the average revenue of the general populations of users of the Ultra and Smart tariffs differ. The hypothesis was confirmed.\n",
    "\n",
    "Considering that Ultra subscribers generally spend significantly less than the number of minutes of conversation and SMS included in the tariff, overspending on the Internet is rarely allowed, and the average revenue for this tariff is 60% more than for the more budgetary Smart, we can conclude that it is beneficial for Megaline to promote Ultra and offer it to new subscribers in the first place.\n",
    "\n",
    "At the same time, it is important to take into account that the hypothesis that the average revenue of users from Moscow and the average revenue of subscribers from other regions is different was rejected (in other words, the average revenue is the same). Therefore, it makes no sense to make different tariff plans for Moscow and for other regions."
   ]
  },
  {
   "cell_type": "code",
   "execution_count": null,
   "metadata": {},
   "outputs": [],
   "source": []
  }
 ],
 "metadata": {
  "ExecuteTimeLog": [
   {
    "duration": 1393,
    "start_time": "2021-10-26T17:51:51.482Z"
   },
   {
    "duration": 82,
    "start_time": "2021-10-26T17:54:09.286Z"
   },
   {
    "duration": 253,
    "start_time": "2021-10-26T17:56:14.649Z"
   },
   {
    "duration": 136,
    "start_time": "2021-10-26T18:00:28.349Z"
   },
   {
    "duration": 207,
    "start_time": "2021-10-26T18:02:26.953Z"
   },
   {
    "duration": 2939,
    "start_time": "2021-10-26T18:07:19.889Z"
   },
   {
    "duration": 29,
    "start_time": "2021-10-26T18:07:59.038Z"
   },
   {
    "duration": 8,
    "start_time": "2021-10-26T18:47:33.852Z"
   },
   {
    "duration": 9,
    "start_time": "2021-10-26T18:48:41.717Z"
   },
   {
    "duration": 7,
    "start_time": "2021-10-26T18:55:32.389Z"
   },
   {
    "duration": 28,
    "start_time": "2021-10-26T18:58:22.759Z"
   },
   {
    "duration": 8,
    "start_time": "2021-10-26T18:58:35.325Z"
   },
   {
    "duration": 26,
    "start_time": "2021-10-26T18:58:44.697Z"
   },
   {
    "duration": 19,
    "start_time": "2021-10-26T18:59:07.164Z"
   },
   {
    "duration": 27,
    "start_time": "2021-10-26T18:59:28.631Z"
   },
   {
    "duration": 1445,
    "start_time": "2021-10-27T09:04:59.991Z"
   },
   {
    "duration": 55,
    "start_time": "2021-10-27T09:05:01.439Z"
   },
   {
    "duration": 240,
    "start_time": "2021-10-27T09:05:01.498Z"
   },
   {
    "duration": 147,
    "start_time": "2021-10-27T09:05:01.741Z"
   },
   {
    "duration": 216,
    "start_time": "2021-10-27T09:05:01.890Z"
   },
   {
    "duration": 34,
    "start_time": "2021-10-27T09:05:02.109Z"
   },
   {
    "duration": 18,
    "start_time": "2021-10-27T09:05:02.145Z"
   },
   {
    "duration": 15,
    "start_time": "2021-10-27T09:05:02.166Z"
   },
   {
    "duration": 14,
    "start_time": "2021-10-27T09:05:02.185Z"
   },
   {
    "duration": 29,
    "start_time": "2021-10-27T09:05:02.223Z"
   },
   {
    "duration": 36,
    "start_time": "2021-10-27T09:05:02.255Z"
   },
   {
    "duration": 43,
    "start_time": "2021-10-27T09:05:02.295Z"
   },
   {
    "duration": 20,
    "start_time": "2021-10-27T09:05:02.340Z"
   },
   {
    "duration": 15,
    "start_time": "2021-10-27T09:05:58.206Z"
   },
   {
    "duration": 65,
    "start_time": "2021-10-27T09:13:53.533Z"
   },
   {
    "duration": 37,
    "start_time": "2021-10-27T09:17:30.706Z"
   },
   {
    "duration": 26,
    "start_time": "2021-10-27T09:24:02.078Z"
   },
   {
    "duration": 48,
    "start_time": "2021-10-27T09:25:59.961Z"
   },
   {
    "duration": 20,
    "start_time": "2021-10-27T09:34:25.007Z"
   },
   {
    "duration": 261,
    "start_time": "2021-10-27T09:43:14.725Z"
   },
   {
    "duration": 20,
    "start_time": "2021-10-27T09:56:16.523Z"
   },
   {
    "duration": 17,
    "start_time": "2021-10-27T10:03:20.489Z"
   },
   {
    "duration": 24,
    "start_time": "2021-10-27T10:07:35.462Z"
   },
   {
    "duration": 403,
    "start_time": "2021-10-27T10:10:38.529Z"
   },
   {
    "duration": 1433,
    "start_time": "2021-10-27T10:11:05.189Z"
   },
   {
    "duration": 55,
    "start_time": "2021-10-27T10:11:06.625Z"
   },
   {
    "duration": 250,
    "start_time": "2021-10-27T10:11:06.687Z"
   },
   {
    "duration": 151,
    "start_time": "2021-10-27T10:11:06.940Z"
   },
   {
    "duration": 222,
    "start_time": "2021-10-27T10:11:07.093Z"
   },
   {
    "duration": 32,
    "start_time": "2021-10-27T10:11:07.323Z"
   },
   {
    "duration": 9,
    "start_time": "2021-10-27T10:11:07.358Z"
   },
   {
    "duration": 7,
    "start_time": "2021-10-27T10:11:07.371Z"
   },
   {
    "duration": 10,
    "start_time": "2021-10-27T10:11:07.381Z"
   },
   {
    "duration": 27,
    "start_time": "2021-10-27T10:11:07.423Z"
   },
   {
    "duration": 19,
    "start_time": "2021-10-27T10:11:07.453Z"
   },
   {
    "duration": 50,
    "start_time": "2021-10-27T10:11:07.474Z"
   },
   {
    "duration": 19,
    "start_time": "2021-10-27T10:11:07.527Z"
   },
   {
    "duration": 95,
    "start_time": "2021-10-27T10:11:07.549Z"
   },
   {
    "duration": 40,
    "start_time": "2021-10-27T10:11:07.647Z"
   },
   {
    "duration": 66,
    "start_time": "2021-10-27T10:11:07.690Z"
   },
   {
    "duration": 20,
    "start_time": "2021-10-27T10:11:07.758Z"
   },
   {
    "duration": 303,
    "start_time": "2021-10-27T10:11:07.781Z"
   },
   {
    "duration": 35,
    "start_time": "2021-10-27T10:11:08.087Z"
   },
   {
    "duration": 17,
    "start_time": "2021-10-27T10:11:08.125Z"
   },
   {
    "duration": 25,
    "start_time": "2021-10-27T11:17:39.091Z"
   },
   {
    "duration": 14,
    "start_time": "2021-10-27T11:19:22.447Z"
   },
   {
    "duration": 17,
    "start_time": "2021-10-27T11:36:01.677Z"
   },
   {
    "duration": 18,
    "start_time": "2021-10-27T11:36:36.659Z"
   },
   {
    "duration": 426,
    "start_time": "2021-10-27T12:18:50.792Z"
   },
   {
    "duration": 321,
    "start_time": "2021-10-27T12:19:11.445Z"
   },
   {
    "duration": 281,
    "start_time": "2021-10-27T12:22:02.593Z"
   },
   {
    "duration": 12,
    "start_time": "2021-10-27T12:23:22.904Z"
   },
   {
    "duration": 29,
    "start_time": "2021-10-27T12:24:05.181Z"
   },
   {
    "duration": 27,
    "start_time": "2021-10-27T12:24:24.195Z"
   },
   {
    "duration": 30,
    "start_time": "2021-10-27T12:26:13.049Z"
   },
   {
    "duration": 73,
    "start_time": "2021-10-27T12:46:57.360Z"
   },
   {
    "duration": 768,
    "start_time": "2021-10-27T12:47:15.016Z"
   },
   {
    "duration": 71,
    "start_time": "2021-10-27T12:47:33.722Z"
   },
   {
    "duration": 77,
    "start_time": "2021-10-27T12:48:27.313Z"
   },
   {
    "duration": 30,
    "start_time": "2021-10-27T13:05:43.669Z"
   },
   {
    "duration": 43,
    "start_time": "2021-10-27T13:06:39.056Z"
   },
   {
    "duration": 16,
    "start_time": "2021-10-27T13:10:06.944Z"
   },
   {
    "duration": 12,
    "start_time": "2021-10-27T13:10:28.783Z"
   },
   {
    "duration": 12,
    "start_time": "2021-10-27T13:10:43.567Z"
   },
   {
    "duration": 13,
    "start_time": "2021-10-27T13:11:01.839Z"
   },
   {
    "duration": 13,
    "start_time": "2021-10-27T13:11:19.774Z"
   },
   {
    "duration": 37,
    "start_time": "2021-10-27T13:11:49.468Z"
   },
   {
    "duration": 11,
    "start_time": "2021-10-27T13:12:06.926Z"
   },
   {
    "duration": 58,
    "start_time": "2021-10-27T13:29:37.207Z"
   },
   {
    "duration": 1396,
    "start_time": "2021-10-28T10:52:45.381Z"
   },
   {
    "duration": 109,
    "start_time": "2021-10-28T10:52:46.780Z"
   },
   {
    "duration": 257,
    "start_time": "2021-10-28T10:52:46.893Z"
   },
   {
    "duration": 175,
    "start_time": "2021-10-28T10:52:47.152Z"
   },
   {
    "duration": 214,
    "start_time": "2021-10-28T10:52:47.329Z"
   },
   {
    "duration": 40,
    "start_time": "2021-10-28T10:52:47.546Z"
   },
   {
    "duration": 8,
    "start_time": "2021-10-28T10:52:47.588Z"
   },
   {
    "duration": 13,
    "start_time": "2021-10-28T10:52:47.601Z"
   },
   {
    "duration": 11,
    "start_time": "2021-10-28T10:52:47.618Z"
   },
   {
    "duration": 37,
    "start_time": "2021-10-28T10:52:47.662Z"
   },
   {
    "duration": 19,
    "start_time": "2021-10-28T10:52:47.701Z"
   },
   {
    "duration": 51,
    "start_time": "2021-10-28T10:52:47.722Z"
   },
   {
    "duration": 19,
    "start_time": "2021-10-28T10:52:47.776Z"
   },
   {
    "duration": 87,
    "start_time": "2021-10-28T10:52:47.797Z"
   },
   {
    "duration": 45,
    "start_time": "2021-10-28T10:52:47.887Z"
   },
   {
    "duration": 76,
    "start_time": "2021-10-28T10:52:47.934Z"
   },
   {
    "duration": 17,
    "start_time": "2021-10-28T10:52:48.012Z"
   },
   {
    "duration": 341,
    "start_time": "2021-10-28T10:52:48.032Z"
   },
   {
    "duration": 19,
    "start_time": "2021-10-28T10:52:48.377Z"
   },
   {
    "duration": 20,
    "start_time": "2021-10-28T10:52:48.399Z"
   },
   {
    "duration": 66,
    "start_time": "2021-10-28T10:52:48.421Z"
   },
   {
    "duration": 21,
    "start_time": "2021-10-28T10:52:48.490Z"
   },
   {
    "duration": 56,
    "start_time": "2021-10-28T10:52:48.517Z"
   },
   {
    "duration": 80,
    "start_time": "2021-10-28T10:52:48.577Z"
   },
   {
    "duration": 143,
    "start_time": "2021-10-28T10:52:48.660Z"
   },
   {
    "duration": 4336,
    "start_time": "2021-10-28T10:52:44.469Z"
   },
   {
    "duration": 76,
    "start_time": "2021-10-28T10:55:55.344Z"
   },
   {
    "duration": 522,
    "start_time": "2021-10-28T10:55:58.979Z"
   },
   {
    "duration": 23,
    "start_time": "2021-10-28T10:56:08.809Z"
   },
   {
    "duration": 1410,
    "start_time": "2021-10-28T14:25:07.476Z"
   },
   {
    "duration": 85,
    "start_time": "2021-10-28T14:25:08.889Z"
   },
   {
    "duration": 250,
    "start_time": "2021-10-28T14:25:08.977Z"
   },
   {
    "duration": 146,
    "start_time": "2021-10-28T14:25:09.230Z"
   },
   {
    "duration": 215,
    "start_time": "2021-10-28T14:25:09.379Z"
   },
   {
    "duration": 31,
    "start_time": "2021-10-28T14:25:09.596Z"
   },
   {
    "duration": 9,
    "start_time": "2021-10-28T14:25:09.630Z"
   },
   {
    "duration": 7,
    "start_time": "2021-10-28T14:25:09.660Z"
   },
   {
    "duration": 8,
    "start_time": "2021-10-28T14:25:09.670Z"
   },
   {
    "duration": 27,
    "start_time": "2021-10-28T14:25:09.680Z"
   },
   {
    "duration": 64,
    "start_time": "2021-10-28T14:25:09.709Z"
   },
   {
    "duration": 22,
    "start_time": "2021-10-28T14:25:09.776Z"
   },
   {
    "duration": 17,
    "start_time": "2021-10-28T14:25:09.801Z"
   },
   {
    "duration": 95,
    "start_time": "2021-10-28T14:25:09.821Z"
   },
   {
    "duration": 60,
    "start_time": "2021-10-28T14:25:09.918Z"
   },
   {
    "duration": 51,
    "start_time": "2021-10-28T14:25:09.980Z"
   },
   {
    "duration": 38,
    "start_time": "2021-10-28T14:25:10.034Z"
   },
   {
    "duration": 325,
    "start_time": "2021-10-28T14:25:10.075Z"
   },
   {
    "duration": 20,
    "start_time": "2021-10-28T14:25:10.402Z"
   },
   {
    "duration": 42,
    "start_time": "2021-10-28T14:25:10.424Z"
   },
   {
    "duration": 21,
    "start_time": "2021-10-28T14:25:10.469Z"
   },
   {
    "duration": 18,
    "start_time": "2021-10-28T14:25:10.492Z"
   },
   {
    "duration": 60,
    "start_time": "2021-10-28T14:25:10.516Z"
   },
   {
    "duration": 103,
    "start_time": "2021-10-28T14:25:10.579Z"
   },
   {
    "duration": 98,
    "start_time": "2021-10-28T14:25:10.685Z"
   },
   {
    "duration": 23,
    "start_time": "2021-10-28T14:25:10.786Z"
   },
   {
    "duration": 29,
    "start_time": "2021-10-28T14:47:53.647Z"
   },
   {
    "duration": 22,
    "start_time": "2021-10-28T14:48:12.166Z"
   },
   {
    "duration": 43,
    "start_time": "2021-10-28T14:51:33.480Z"
   },
   {
    "duration": 45,
    "start_time": "2021-10-28T14:52:45.498Z"
   },
   {
    "duration": 1556,
    "start_time": "2021-10-28T14:55:45.270Z"
   },
   {
    "duration": 84,
    "start_time": "2021-10-28T14:55:46.828Z"
   },
   {
    "duration": 240,
    "start_time": "2021-10-28T14:55:46.917Z"
   },
   {
    "duration": 148,
    "start_time": "2021-10-28T14:55:47.161Z"
   },
   {
    "duration": 217,
    "start_time": "2021-10-28T14:55:47.312Z"
   },
   {
    "duration": 35,
    "start_time": "2021-10-28T14:55:47.532Z"
   },
   {
    "duration": 8,
    "start_time": "2021-10-28T14:55:47.570Z"
   },
   {
    "duration": 14,
    "start_time": "2021-10-28T14:55:47.581Z"
   },
   {
    "duration": 14,
    "start_time": "2021-10-28T14:55:47.599Z"
   },
   {
    "duration": 56,
    "start_time": "2021-10-28T14:55:47.617Z"
   },
   {
    "duration": 18,
    "start_time": "2021-10-28T14:55:47.676Z"
   },
   {
    "duration": 25,
    "start_time": "2021-10-28T14:55:47.697Z"
   },
   {
    "duration": 46,
    "start_time": "2021-10-28T14:55:47.724Z"
   },
   {
    "duration": 70,
    "start_time": "2021-10-28T14:55:47.773Z"
   },
   {
    "duration": 37,
    "start_time": "2021-10-28T14:55:47.858Z"
   },
   {
    "duration": 70,
    "start_time": "2021-10-28T14:55:47.898Z"
   },
   {
    "duration": 23,
    "start_time": "2021-10-28T14:55:47.971Z"
   },
   {
    "duration": 374,
    "start_time": "2021-10-28T14:55:47.997Z"
   },
   {
    "duration": 24,
    "start_time": "2021-10-28T14:55:48.374Z"
   },
   {
    "duration": 17,
    "start_time": "2021-10-28T14:55:48.402Z"
   },
   {
    "duration": 49,
    "start_time": "2021-10-28T14:55:48.422Z"
   },
   {
    "duration": 17,
    "start_time": "2021-10-28T14:55:48.473Z"
   },
   {
    "duration": 17,
    "start_time": "2021-10-28T14:55:48.495Z"
   },
   {
    "duration": 102,
    "start_time": "2021-10-28T14:55:48.515Z"
   },
   {
    "duration": 70,
    "start_time": "2021-10-28T14:55:48.619Z"
   },
   {
    "duration": 46,
    "start_time": "2021-10-28T14:55:48.691Z"
   },
   {
    "duration": 24,
    "start_time": "2021-10-28T14:57:28.699Z"
   },
   {
    "duration": 32,
    "start_time": "2021-10-28T14:58:09.568Z"
   },
   {
    "duration": 46,
    "start_time": "2021-10-28T14:58:35.809Z"
   },
   {
    "duration": 468,
    "start_time": "2021-10-28T15:48:35.033Z"
   },
   {
    "duration": 5,
    "start_time": "2021-10-28T15:48:45.763Z"
   },
   {
    "duration": 11,
    "start_time": "2021-10-28T15:57:23.370Z"
   },
   {
    "duration": 470,
    "start_time": "2021-10-28T16:00:33.346Z"
   },
   {
    "duration": 11,
    "start_time": "2021-10-28T16:03:29.118Z"
   },
   {
    "duration": 13,
    "start_time": "2021-10-28T16:03:43.360Z"
   },
   {
    "duration": 13,
    "start_time": "2021-10-28T16:04:14.977Z"
   },
   {
    "duration": 1403,
    "start_time": "2021-10-28T16:08:31.144Z"
   },
   {
    "duration": 65,
    "start_time": "2021-10-28T16:08:32.549Z"
   },
   {
    "duration": 249,
    "start_time": "2021-10-28T16:08:32.618Z"
   },
   {
    "duration": 165,
    "start_time": "2021-10-28T16:08:32.871Z"
   },
   {
    "duration": 219,
    "start_time": "2021-10-28T16:08:33.039Z"
   },
   {
    "duration": 39,
    "start_time": "2021-10-28T16:08:33.260Z"
   },
   {
    "duration": 10,
    "start_time": "2021-10-28T16:08:33.302Z"
   },
   {
    "duration": 39,
    "start_time": "2021-10-28T16:08:33.317Z"
   },
   {
    "duration": 9,
    "start_time": "2021-10-28T16:08:33.361Z"
   },
   {
    "duration": 28,
    "start_time": "2021-10-28T16:08:33.373Z"
   },
   {
    "duration": 56,
    "start_time": "2021-10-28T16:08:33.404Z"
   },
   {
    "duration": 22,
    "start_time": "2021-10-28T16:08:33.462Z"
   },
   {
    "duration": 17,
    "start_time": "2021-10-28T16:08:33.486Z"
   },
   {
    "duration": 99,
    "start_time": "2021-10-28T16:08:33.506Z"
   },
   {
    "duration": 50,
    "start_time": "2021-10-28T16:08:33.607Z"
   },
   {
    "duration": 45,
    "start_time": "2021-10-28T16:08:33.660Z"
   },
   {
    "duration": 16,
    "start_time": "2021-10-28T16:08:33.708Z"
   },
   {
    "duration": 290,
    "start_time": "2021-10-28T16:08:33.759Z"
   },
   {
    "duration": 25,
    "start_time": "2021-10-28T16:08:34.051Z"
   },
   {
    "duration": 16,
    "start_time": "2021-10-28T16:08:34.078Z"
   },
   {
    "duration": 18,
    "start_time": "2021-10-28T16:08:34.097Z"
   },
   {
    "duration": 18,
    "start_time": "2021-10-28T16:08:34.158Z"
   },
   {
    "duration": 17,
    "start_time": "2021-10-28T16:08:34.181Z"
   },
   {
    "duration": 102,
    "start_time": "2021-10-28T16:08:34.201Z"
   },
   {
    "duration": 31,
    "start_time": "2021-10-28T16:08:34.305Z"
   },
   {
    "duration": 38,
    "start_time": "2021-10-28T16:08:34.339Z"
   },
   {
    "duration": 4,
    "start_time": "2021-10-28T16:08:34.379Z"
   },
   {
    "duration": 6,
    "start_time": "2021-10-28T16:08:34.385Z"
   },
   {
    "duration": 6,
    "start_time": "2021-10-28T16:08:53.330Z"
   },
   {
    "duration": 11,
    "start_time": "2021-10-28T16:10:23.796Z"
   },
   {
    "duration": 23,
    "start_time": "2021-10-28T16:15:59.454Z"
   },
   {
    "duration": 26,
    "start_time": "2021-10-28T16:29:54.704Z"
   },
   {
    "duration": 25,
    "start_time": "2021-10-28T16:34:28.267Z"
   },
   {
    "duration": 745,
    "start_time": "2021-10-28T16:35:34.855Z"
   },
   {
    "duration": 35,
    "start_time": "2021-10-28T16:35:45.183Z"
   },
   {
    "duration": 27,
    "start_time": "2021-10-28T16:35:56.717Z"
   },
   {
    "duration": 8,
    "start_time": "2021-10-28T16:40:53.319Z"
   },
   {
    "duration": 13,
    "start_time": "2021-10-28T16:49:23.289Z"
   },
   {
    "duration": 418,
    "start_time": "2021-10-28T17:06:35.307Z"
   },
   {
    "duration": 6,
    "start_time": "2021-10-28T17:06:49.769Z"
   },
   {
    "duration": 1343,
    "start_time": "2021-10-28T17:07:03.808Z"
   },
   {
    "duration": 82,
    "start_time": "2021-10-28T17:07:05.154Z"
   },
   {
    "duration": 241,
    "start_time": "2021-10-28T17:07:05.239Z"
   },
   {
    "duration": 143,
    "start_time": "2021-10-28T17:07:05.483Z"
   },
   {
    "duration": 209,
    "start_time": "2021-10-28T17:07:05.629Z"
   },
   {
    "duration": 31,
    "start_time": "2021-10-28T17:07:05.840Z"
   },
   {
    "duration": 8,
    "start_time": "2021-10-28T17:07:05.874Z"
   },
   {
    "duration": 8,
    "start_time": "2021-10-28T17:07:05.886Z"
   },
   {
    "duration": 12,
    "start_time": "2021-10-28T17:07:05.897Z"
   },
   {
    "duration": 68,
    "start_time": "2021-10-28T17:07:05.911Z"
   },
   {
    "duration": 19,
    "start_time": "2021-10-28T17:07:05.981Z"
   },
   {
    "duration": 26,
    "start_time": "2021-10-28T17:07:06.003Z"
   },
   {
    "duration": 41,
    "start_time": "2021-10-28T17:07:06.032Z"
   },
   {
    "duration": 82,
    "start_time": "2021-10-28T17:07:06.075Z"
   },
   {
    "duration": 37,
    "start_time": "2021-10-28T17:07:06.160Z"
   },
   {
    "duration": 66,
    "start_time": "2021-10-28T17:07:06.200Z"
   },
   {
    "duration": 17,
    "start_time": "2021-10-28T17:07:06.269Z"
   },
   {
    "duration": 286,
    "start_time": "2021-10-28T17:07:06.289Z"
   },
   {
    "duration": 18,
    "start_time": "2021-10-28T17:07:06.578Z"
   },
   {
    "duration": 15,
    "start_time": "2021-10-28T17:07:06.598Z"
   },
   {
    "duration": 51,
    "start_time": "2021-10-28T17:07:06.616Z"
   },
   {
    "duration": 17,
    "start_time": "2021-10-28T17:07:06.669Z"
   },
   {
    "duration": 17,
    "start_time": "2021-10-28T17:07:06.690Z"
   },
   {
    "duration": 99,
    "start_time": "2021-10-28T17:07:06.710Z"
   },
   {
    "duration": 6,
    "start_time": "2021-10-28T17:07:06.812Z"
   },
   {
    "duration": 54,
    "start_time": "2021-10-28T17:07:06.821Z"
   },
   {
    "duration": 10,
    "start_time": "2021-10-28T17:07:06.877Z"
   },
   {
    "duration": 35,
    "start_time": "2021-10-28T17:07:06.889Z"
   },
   {
    "duration": 38,
    "start_time": "2021-10-28T17:07:06.927Z"
   },
   {
    "duration": 14,
    "start_time": "2021-10-28T17:07:06.967Z"
   },
   {
    "duration": 9,
    "start_time": "2021-10-28T17:07:06.983Z"
   },
   {
    "duration": 16,
    "start_time": "2021-10-28T17:07:06.994Z"
   },
   {
    "duration": 27,
    "start_time": "2021-10-28T17:20:50.546Z"
   },
   {
    "duration": 27,
    "start_time": "2021-10-28T17:27:19.524Z"
   },
   {
    "duration": 23,
    "start_time": "2021-10-28T17:54:30.574Z"
   },
   {
    "duration": 513,
    "start_time": "2021-10-28T18:04:24.823Z"
   },
   {
    "duration": 9555,
    "start_time": "2021-10-28T18:11:48.006Z"
   },
   {
    "duration": 5,
    "start_time": "2021-10-28T18:30:20.176Z"
   },
   {
    "duration": 17,
    "start_time": "2021-10-28T18:30:25.758Z"
   },
   {
    "duration": 1664,
    "start_time": "2021-10-28T18:32:17.563Z"
   },
   {
    "duration": 1652,
    "start_time": "2021-10-28T18:32:49.508Z"
   },
   {
    "duration": 1394,
    "start_time": "2021-10-28T18:34:16.033Z"
   },
   {
    "duration": 64,
    "start_time": "2021-10-28T18:34:17.430Z"
   },
   {
    "duration": 233,
    "start_time": "2021-10-28T18:34:17.497Z"
   },
   {
    "duration": 146,
    "start_time": "2021-10-28T18:34:17.733Z"
   },
   {
    "duration": 209,
    "start_time": "2021-10-28T18:34:17.881Z"
   },
   {
    "duration": 32,
    "start_time": "2021-10-28T18:34:18.093Z"
   },
   {
    "duration": 8,
    "start_time": "2021-10-28T18:34:18.127Z"
   },
   {
    "duration": 7,
    "start_time": "2021-10-28T18:34:18.158Z"
   },
   {
    "duration": 27,
    "start_time": "2021-10-28T18:34:18.167Z"
   },
   {
    "duration": 53,
    "start_time": "2021-10-28T18:34:18.196Z"
   },
   {
    "duration": 18,
    "start_time": "2021-10-28T18:34:18.252Z"
   },
   {
    "duration": 38,
    "start_time": "2021-10-28T18:34:18.272Z"
   },
   {
    "duration": 19,
    "start_time": "2021-10-28T18:34:18.312Z"
   },
   {
    "duration": 79,
    "start_time": "2021-10-28T18:34:18.334Z"
   },
   {
    "duration": 54,
    "start_time": "2021-10-28T18:34:18.415Z"
   },
   {
    "duration": 46,
    "start_time": "2021-10-28T18:34:18.472Z"
   },
   {
    "duration": 37,
    "start_time": "2021-10-28T18:34:18.521Z"
   },
   {
    "duration": 266,
    "start_time": "2021-10-28T18:34:18.560Z"
   },
   {
    "duration": 35,
    "start_time": "2021-10-28T18:34:18.828Z"
   },
   {
    "duration": 14,
    "start_time": "2021-10-28T18:34:18.865Z"
   },
   {
    "duration": 19,
    "start_time": "2021-10-28T18:34:18.882Z"
   },
   {
    "duration": 16,
    "start_time": "2021-10-28T18:34:18.903Z"
   },
   {
    "duration": 49,
    "start_time": "2021-10-28T18:34:18.924Z"
   },
   {
    "duration": 89,
    "start_time": "2021-10-28T18:34:18.975Z"
   },
   {
    "duration": 5,
    "start_time": "2021-10-28T18:34:19.066Z"
   },
   {
    "duration": 39,
    "start_time": "2021-10-28T18:34:19.074Z"
   },
   {
    "duration": 9,
    "start_time": "2021-10-28T18:34:19.115Z"
   },
   {
    "duration": 66,
    "start_time": "2021-10-28T18:34:19.127Z"
   },
   {
    "duration": 13,
    "start_time": "2021-10-28T18:34:19.195Z"
   },
   {
    "duration": 14,
    "start_time": "2021-10-28T18:34:19.210Z"
   },
   {
    "duration": 35,
    "start_time": "2021-10-28T18:34:19.227Z"
   },
   {
    "duration": 14,
    "start_time": "2021-10-28T18:34:19.264Z"
   },
   {
    "duration": 11,
    "start_time": "2021-10-28T18:34:19.280Z"
   },
   {
    "duration": 2017,
    "start_time": "2021-10-28T18:34:19.293Z"
   },
   {
    "duration": 1865,
    "start_time": "2021-10-28T18:37:01.474Z"
   },
   {
    "duration": 22,
    "start_time": "2021-10-28T18:37:32.297Z"
   },
   {
    "duration": 16,
    "start_time": "2021-10-28T18:38:05.454Z"
   },
   {
    "duration": 21,
    "start_time": "2021-10-28T18:38:49.261Z"
   },
   {
    "duration": 16,
    "start_time": "2021-10-28T18:38:56.913Z"
   },
   {
    "duration": 19,
    "start_time": "2021-10-28T18:39:35.591Z"
   },
   {
    "duration": 20,
    "start_time": "2021-10-28T18:39:48.633Z"
   },
   {
    "duration": 1392,
    "start_time": "2021-10-29T08:53:09.106Z"
   },
   {
    "duration": 54,
    "start_time": "2021-10-29T08:53:10.501Z"
   },
   {
    "duration": 260,
    "start_time": "2021-10-29T08:53:10.558Z"
   },
   {
    "duration": 154,
    "start_time": "2021-10-29T08:53:10.821Z"
   },
   {
    "duration": 234,
    "start_time": "2021-10-29T08:53:10.977Z"
   },
   {
    "duration": 32,
    "start_time": "2021-10-29T08:53:11.213Z"
   },
   {
    "duration": 8,
    "start_time": "2021-10-29T08:53:11.248Z"
   },
   {
    "duration": 29,
    "start_time": "2021-10-29T08:53:11.258Z"
   },
   {
    "duration": 8,
    "start_time": "2021-10-29T08:53:11.291Z"
   },
   {
    "duration": 28,
    "start_time": "2021-10-29T08:53:11.302Z"
   },
   {
    "duration": 52,
    "start_time": "2021-10-29T08:53:11.332Z"
   },
   {
    "duration": 23,
    "start_time": "2021-10-29T08:53:11.387Z"
   },
   {
    "duration": 20,
    "start_time": "2021-10-29T08:53:11.412Z"
   },
   {
    "duration": 103,
    "start_time": "2021-10-29T08:53:11.435Z"
   },
   {
    "duration": 55,
    "start_time": "2021-10-29T08:53:11.540Z"
   },
   {
    "duration": 49,
    "start_time": "2021-10-29T08:53:11.598Z"
   },
   {
    "duration": 39,
    "start_time": "2021-10-29T08:53:11.650Z"
   },
   {
    "duration": 318,
    "start_time": "2021-10-29T08:53:11.692Z"
   },
   {
    "duration": 19,
    "start_time": "2021-10-29T08:53:12.012Z"
   },
   {
    "duration": 17,
    "start_time": "2021-10-29T08:53:12.033Z"
   },
   {
    "duration": 47,
    "start_time": "2021-10-29T08:53:12.052Z"
   },
   {
    "duration": 18,
    "start_time": "2021-10-29T08:53:12.102Z"
   },
   {
    "duration": 18,
    "start_time": "2021-10-29T08:53:12.122Z"
   },
   {
    "duration": 97,
    "start_time": "2021-10-29T08:53:12.143Z"
   },
   {
    "duration": 6,
    "start_time": "2021-10-29T08:53:12.243Z"
   },
   {
    "duration": 58,
    "start_time": "2021-10-29T08:53:12.251Z"
   },
   {
    "duration": 14,
    "start_time": "2021-10-29T08:53:12.316Z"
   },
   {
    "duration": 77,
    "start_time": "2021-10-29T08:53:12.334Z"
   },
   {
    "duration": 20,
    "start_time": "2021-10-29T08:53:12.414Z"
   },
   {
    "duration": 17,
    "start_time": "2021-10-29T08:53:12.437Z"
   },
   {
    "duration": 34,
    "start_time": "2021-10-29T08:53:12.457Z"
   },
   {
    "duration": 18,
    "start_time": "2021-10-29T08:53:12.494Z"
   },
   {
    "duration": 14,
    "start_time": "2021-10-29T08:53:12.515Z"
   },
   {
    "duration": 3114,
    "start_time": "2021-10-29T08:53:12.532Z"
   },
   {
    "duration": 99,
    "start_time": "2021-10-29T08:53:15.650Z"
   },
   {
    "duration": 136,
    "start_time": "2021-10-29T08:57:56.172Z"
   },
   {
    "duration": 96,
    "start_time": "2021-10-29T09:02:49.670Z"
   },
   {
    "duration": 436,
    "start_time": "2021-10-29T09:09:30.860Z"
   },
   {
    "duration": 296,
    "start_time": "2021-10-29T09:11:12.757Z"
   },
   {
    "duration": 6,
    "start_time": "2021-10-29T09:13:07.397Z"
   },
   {
    "duration": 3956,
    "start_time": "2021-10-29T09:14:12.745Z"
   },
   {
    "duration": 1849,
    "start_time": "2021-10-29T09:15:50.715Z"
   },
   {
    "duration": 4158,
    "start_time": "2021-10-29T09:31:24.765Z"
   },
   {
    "duration": 779,
    "start_time": "2021-10-29T10:33:50.952Z"
   },
   {
    "duration": 806,
    "start_time": "2021-10-29T10:35:19.561Z"
   },
   {
    "duration": 802,
    "start_time": "2021-10-29T10:35:52.035Z"
   },
   {
    "duration": 11,
    "start_time": "2021-10-29T13:10:53.173Z"
   },
   {
    "duration": 8,
    "start_time": "2021-10-29T13:18:55.451Z"
   },
   {
    "duration": 283,
    "start_time": "2021-10-29T13:55:09.699Z"
   },
   {
    "duration": 9,
    "start_time": "2021-10-29T13:55:22.713Z"
   },
   {
    "duration": 43,
    "start_time": "2021-10-29T14:00:45.572Z"
   },
   {
    "duration": 47,
    "start_time": "2021-10-29T14:03:24.645Z"
   },
   {
    "duration": 46,
    "start_time": "2021-10-29T14:05:09.644Z"
   },
   {
    "duration": 33,
    "start_time": "2021-10-29T19:27:43.708Z"
   },
   {
    "duration": 32,
    "start_time": "2021-10-29T19:28:24.627Z"
   },
   {
    "duration": 33,
    "start_time": "2021-10-29T19:31:34.548Z"
   },
   {
    "duration": 4876,
    "start_time": "2021-10-29T20:00:50.354Z"
   },
   {
    "duration": 4869,
    "start_time": "2021-10-29T20:02:21.472Z"
   },
   {
    "duration": 3606,
    "start_time": "2021-10-29T20:05:40.849Z"
   },
   {
    "duration": 1049,
    "start_time": "2021-10-30T15:55:34.525Z"
   },
   {
    "duration": 42,
    "start_time": "2021-10-30T15:55:35.576Z"
   },
   {
    "duration": 167,
    "start_time": "2021-10-30T15:55:35.620Z"
   },
   {
    "duration": 100,
    "start_time": "2021-10-30T15:55:35.789Z"
   },
   {
    "duration": 144,
    "start_time": "2021-10-30T15:55:35.891Z"
   },
   {
    "duration": 23,
    "start_time": "2021-10-30T15:55:36.037Z"
   },
   {
    "duration": 11,
    "start_time": "2021-10-30T15:55:36.062Z"
   },
   {
    "duration": 9,
    "start_time": "2021-10-30T15:55:36.076Z"
   },
   {
    "duration": 7,
    "start_time": "2021-10-30T15:55:36.087Z"
   },
   {
    "duration": 26,
    "start_time": "2021-10-30T15:55:36.095Z"
   },
   {
    "duration": 15,
    "start_time": "2021-10-30T15:55:36.122Z"
   },
   {
    "duration": 18,
    "start_time": "2021-10-30T15:55:36.139Z"
   },
   {
    "duration": 11,
    "start_time": "2021-10-30T15:55:36.159Z"
   },
   {
    "duration": 42,
    "start_time": "2021-10-30T15:55:36.171Z"
   },
   {
    "duration": 47,
    "start_time": "2021-10-30T15:55:36.214Z"
   },
   {
    "duration": 31,
    "start_time": "2021-10-30T15:55:36.263Z"
   },
   {
    "duration": 10,
    "start_time": "2021-10-30T15:55:36.296Z"
   },
   {
    "duration": 188,
    "start_time": "2021-10-30T15:55:36.308Z"
   },
   {
    "duration": 12,
    "start_time": "2021-10-30T15:55:36.498Z"
   },
   {
    "duration": 10,
    "start_time": "2021-10-30T15:55:36.511Z"
   },
   {
    "duration": 33,
    "start_time": "2021-10-30T15:55:36.523Z"
   },
   {
    "duration": 11,
    "start_time": "2021-10-30T15:55:36.558Z"
   },
   {
    "duration": 11,
    "start_time": "2021-10-30T15:55:36.572Z"
   },
   {
    "duration": 68,
    "start_time": "2021-10-30T15:55:36.585Z"
   },
   {
    "duration": 4,
    "start_time": "2021-10-30T15:55:36.654Z"
   },
   {
    "duration": 30,
    "start_time": "2021-10-30T15:55:36.659Z"
   },
   {
    "duration": 7,
    "start_time": "2021-10-30T15:55:36.690Z"
   },
   {
    "duration": 45,
    "start_time": "2021-10-30T15:55:36.699Z"
   },
   {
    "duration": 9,
    "start_time": "2021-10-30T15:55:36.746Z"
   },
   {
    "duration": 8,
    "start_time": "2021-10-30T15:55:36.757Z"
   },
   {
    "duration": 6,
    "start_time": "2021-10-30T15:55:36.766Z"
   },
   {
    "duration": 9,
    "start_time": "2021-10-30T15:55:36.773Z"
   },
   {
    "duration": 8,
    "start_time": "2021-10-30T15:55:36.783Z"
   },
   {
    "duration": 1077,
    "start_time": "2021-10-30T15:55:36.793Z"
   },
   {
    "duration": 396,
    "start_time": "2021-10-30T15:55:37.872Z"
   },
   {
    "duration": 6,
    "start_time": "2021-10-30T15:55:38.269Z"
   },
   {
    "duration": 29,
    "start_time": "2021-10-30T15:55:38.277Z"
   },
   {
    "duration": 47,
    "start_time": "2021-10-30T15:55:38.308Z"
   },
   {
    "duration": 22,
    "start_time": "2021-10-30T15:55:38.357Z"
   },
   {
    "duration": 2047,
    "start_time": "2021-10-30T15:55:38.381Z"
   },
   {
    "duration": 1994,
    "start_time": "2021-10-30T15:55:40.430Z"
   },
   {
    "duration": 8,
    "start_time": "2021-10-30T16:39:09.506Z"
   },
   {
    "duration": 1369,
    "start_time": "2021-11-04T14:31:28.881Z"
   },
   {
    "duration": 100,
    "start_time": "2021-11-04T14:31:30.253Z"
   },
   {
    "duration": 232,
    "start_time": "2021-11-04T14:31:30.356Z"
   },
   {
    "duration": 148,
    "start_time": "2021-11-04T14:31:30.590Z"
   },
   {
    "duration": 208,
    "start_time": "2021-11-04T14:31:30.740Z"
   },
   {
    "duration": 36,
    "start_time": "2021-11-04T14:31:30.959Z"
   },
   {
    "duration": 10,
    "start_time": "2021-11-04T14:31:30.999Z"
   },
   {
    "duration": 8,
    "start_time": "2021-11-04T14:31:31.014Z"
   },
   {
    "duration": 37,
    "start_time": "2021-11-04T14:31:31.026Z"
   },
   {
    "duration": 40,
    "start_time": "2021-11-04T14:31:31.066Z"
   },
   {
    "duration": 26,
    "start_time": "2021-11-04T14:31:31.109Z"
   },
   {
    "duration": 31,
    "start_time": "2021-11-04T14:31:31.161Z"
   },
   {
    "duration": 24,
    "start_time": "2021-11-04T14:31:31.196Z"
   },
   {
    "duration": 89,
    "start_time": "2021-11-04T14:31:31.224Z"
   },
   {
    "duration": 52,
    "start_time": "2021-11-04T14:31:31.316Z"
   },
   {
    "duration": 44,
    "start_time": "2021-11-04T14:31:31.371Z"
   },
   {
    "duration": 42,
    "start_time": "2021-11-04T14:31:31.418Z"
   },
   {
    "duration": 261,
    "start_time": "2021-11-04T14:31:31.462Z"
   },
   {
    "duration": 34,
    "start_time": "2021-11-04T14:31:31.725Z"
   },
   {
    "duration": 15,
    "start_time": "2021-11-04T14:31:31.762Z"
   },
   {
    "duration": 21,
    "start_time": "2021-11-04T14:31:31.780Z"
   },
   {
    "duration": 16,
    "start_time": "2021-11-04T14:31:31.804Z"
   },
   {
    "duration": 16,
    "start_time": "2021-11-04T14:31:31.864Z"
   },
   {
    "duration": 90,
    "start_time": "2021-11-04T14:31:31.883Z"
   },
   {
    "duration": 6,
    "start_time": "2021-11-04T14:31:31.975Z"
   },
   {
    "duration": 40,
    "start_time": "2021-11-04T14:31:31.983Z"
   },
   {
    "duration": 10,
    "start_time": "2021-11-04T14:31:32.025Z"
   },
   {
    "duration": 32,
    "start_time": "2021-11-04T14:31:32.060Z"
   },
   {
    "duration": 12,
    "start_time": "2021-11-04T14:31:32.095Z"
   },
   {
    "duration": 13,
    "start_time": "2021-11-04T14:31:32.110Z"
   },
   {
    "duration": 40,
    "start_time": "2021-11-04T14:31:32.125Z"
   },
   {
    "duration": 13,
    "start_time": "2021-11-04T14:31:32.167Z"
   },
   {
    "duration": 12,
    "start_time": "2021-11-04T14:31:32.182Z"
   },
   {
    "duration": 1849,
    "start_time": "2021-11-04T14:31:32.196Z"
   },
   {
    "duration": 759,
    "start_time": "2021-11-04T14:31:34.047Z"
   },
   {
    "duration": 9,
    "start_time": "2021-11-04T14:31:34.808Z"
   },
   {
    "duration": 65,
    "start_time": "2021-11-04T14:31:34.819Z"
   },
   {
    "duration": 43,
    "start_time": "2021-11-04T14:31:34.886Z"
   },
   {
    "duration": 58,
    "start_time": "2021-11-04T14:31:34.931Z"
   },
   {
    "duration": 3519,
    "start_time": "2021-11-04T14:31:34.992Z"
   },
   {
    "duration": 3449,
    "start_time": "2021-11-04T14:31:38.513Z"
   },
   {
    "duration": 1287,
    "start_time": "2021-11-06T14:08:35.548Z"
   },
   {
    "duration": 56,
    "start_time": "2021-11-06T14:08:36.838Z"
   },
   {
    "duration": 231,
    "start_time": "2021-11-06T14:08:36.898Z"
   },
   {
    "duration": 139,
    "start_time": "2021-11-06T14:08:37.132Z"
   },
   {
    "duration": 201,
    "start_time": "2021-11-06T14:08:37.274Z"
   },
   {
    "duration": 32,
    "start_time": "2021-11-06T14:08:37.477Z"
   },
   {
    "duration": 16,
    "start_time": "2021-11-06T14:08:37.512Z"
   },
   {
    "duration": 6,
    "start_time": "2021-11-06T14:08:37.532Z"
   },
   {
    "duration": 7,
    "start_time": "2021-11-06T14:08:37.541Z"
   },
   {
    "duration": 27,
    "start_time": "2021-11-06T14:08:37.550Z"
   },
   {
    "duration": 58,
    "start_time": "2021-11-06T14:08:37.579Z"
   },
   {
    "duration": 24,
    "start_time": "2021-11-06T14:08:37.639Z"
   },
   {
    "duration": 20,
    "start_time": "2021-11-06T14:08:37.666Z"
   },
   {
    "duration": 96,
    "start_time": "2021-11-06T14:08:37.688Z"
   },
   {
    "duration": 58,
    "start_time": "2021-11-06T14:08:37.786Z"
   },
   {
    "duration": 49,
    "start_time": "2021-11-06T14:08:37.846Z"
   },
   {
    "duration": 39,
    "start_time": "2021-11-06T14:08:37.898Z"
   },
   {
    "duration": 282,
    "start_time": "2021-11-06T14:08:37.940Z"
   },
   {
    "duration": 18,
    "start_time": "2021-11-06T14:08:38.225Z"
   },
   {
    "duration": 15,
    "start_time": "2021-11-06T14:08:38.245Z"
   },
   {
    "duration": 19,
    "start_time": "2021-11-06T14:08:38.262Z"
   },
   {
    "duration": 53,
    "start_time": "2021-11-06T14:08:38.283Z"
   },
   {
    "duration": 16,
    "start_time": "2021-11-06T14:08:38.340Z"
   },
   {
    "duration": 91,
    "start_time": "2021-11-06T14:08:38.359Z"
   },
   {
    "duration": 5,
    "start_time": "2021-11-06T14:08:38.453Z"
   },
   {
    "duration": 35,
    "start_time": "2021-11-06T14:08:38.461Z"
   },
   {
    "duration": 12,
    "start_time": "2021-11-06T14:08:38.523Z"
   },
   {
    "duration": 37,
    "start_time": "2021-11-06T14:08:38.538Z"
   },
   {
    "duration": 44,
    "start_time": "2021-11-06T14:08:38.578Z"
   },
   {
    "duration": 16,
    "start_time": "2021-11-06T14:08:38.625Z"
   },
   {
    "duration": 11,
    "start_time": "2021-11-06T14:08:38.643Z"
   },
   {
    "duration": 16,
    "start_time": "2021-11-06T14:08:38.657Z"
   },
   {
    "duration": 13,
    "start_time": "2021-11-06T14:08:38.723Z"
   },
   {
    "duration": 1878,
    "start_time": "2021-11-06T14:08:38.738Z"
   },
   {
    "duration": 830,
    "start_time": "2021-11-06T14:08:40.623Z"
   },
   {
    "duration": 10,
    "start_time": "2021-11-06T14:08:41.455Z"
   },
   {
    "duration": 65,
    "start_time": "2021-11-06T14:08:41.468Z"
   },
   {
    "duration": 48,
    "start_time": "2021-11-06T14:08:41.535Z"
   },
   {
    "duration": 62,
    "start_time": "2021-11-06T14:08:41.586Z"
   },
   {
    "duration": 3574,
    "start_time": "2021-11-06T14:08:41.651Z"
   },
   {
    "duration": 3428,
    "start_time": "2021-11-06T14:08:45.228Z"
   },
   {
    "duration": 421,
    "start_time": "2021-11-06T14:22:00.049Z"
   },
   {
    "duration": 4,
    "start_time": "2021-11-06T14:22:42.709Z"
   },
   {
    "duration": 2193,
    "start_time": "2021-11-06T14:22:48.133Z"
   },
   {
    "duration": 8,
    "start_time": "2021-11-06T14:23:19.646Z"
   },
   {
    "duration": 1868,
    "start_time": "2021-11-06T15:08:01.533Z"
   },
   {
    "duration": 10,
    "start_time": "2021-11-06T15:08:47.030Z"
   },
   {
    "duration": 7,
    "start_time": "2021-11-06T15:09:10.647Z"
   },
   {
    "duration": 6,
    "start_time": "2021-11-06T15:10:03.339Z"
   },
   {
    "duration": 12,
    "start_time": "2021-11-06T15:18:40.506Z"
   },
   {
    "duration": 7,
    "start_time": "2021-11-06T15:23:11.765Z"
   },
   {
    "duration": 8,
    "start_time": "2021-11-06T15:45:25.031Z"
   },
   {
    "duration": 6,
    "start_time": "2021-11-06T15:49:07.336Z"
   },
   {
    "duration": 7,
    "start_time": "2021-11-06T15:51:31.278Z"
   },
   {
    "duration": 1233,
    "start_time": "2021-11-06T16:35:58.662Z"
   },
   {
    "duration": 55,
    "start_time": "2021-11-06T16:35:59.897Z"
   },
   {
    "duration": 236,
    "start_time": "2021-11-06T16:35:59.955Z"
   },
   {
    "duration": 146,
    "start_time": "2021-11-06T16:36:00.194Z"
   },
   {
    "duration": 212,
    "start_time": "2021-11-06T16:36:00.343Z"
   },
   {
    "duration": 34,
    "start_time": "2021-11-06T16:36:00.557Z"
   },
   {
    "duration": 11,
    "start_time": "2021-11-06T16:36:00.593Z"
   },
   {
    "duration": 20,
    "start_time": "2021-11-06T16:36:00.608Z"
   },
   {
    "duration": 21,
    "start_time": "2021-11-06T16:36:00.631Z"
   },
   {
    "duration": 37,
    "start_time": "2021-11-06T16:36:00.655Z"
   },
   {
    "duration": 32,
    "start_time": "2021-11-06T16:36:00.695Z"
   },
   {
    "duration": 26,
    "start_time": "2021-11-06T16:36:00.730Z"
   },
   {
    "duration": 18,
    "start_time": "2021-11-06T16:36:00.759Z"
   },
   {
    "duration": 97,
    "start_time": "2021-11-06T16:36:00.780Z"
   },
   {
    "duration": 51,
    "start_time": "2021-11-06T16:36:00.879Z"
   },
   {
    "duration": 47,
    "start_time": "2021-11-06T16:36:00.933Z"
   },
   {
    "duration": 45,
    "start_time": "2021-11-06T16:36:00.982Z"
   },
   {
    "duration": 303,
    "start_time": "2021-11-06T16:36:01.029Z"
   },
   {
    "duration": 19,
    "start_time": "2021-11-06T16:36:01.334Z"
   },
   {
    "duration": 16,
    "start_time": "2021-11-06T16:36:01.356Z"
   },
   {
    "duration": 55,
    "start_time": "2021-11-06T16:36:01.375Z"
   },
   {
    "duration": 15,
    "start_time": "2021-11-06T16:36:01.433Z"
   },
   {
    "duration": 16,
    "start_time": "2021-11-06T16:36:01.453Z"
   },
   {
    "duration": 97,
    "start_time": "2021-11-06T16:36:01.472Z"
   },
   {
    "duration": 5,
    "start_time": "2021-11-06T16:36:01.571Z"
   },
   {
    "duration": 51,
    "start_time": "2021-11-06T16:36:01.578Z"
   },
   {
    "duration": 10,
    "start_time": "2021-11-06T16:36:01.632Z"
   },
   {
    "duration": 52,
    "start_time": "2021-11-06T16:36:01.644Z"
   },
   {
    "duration": 25,
    "start_time": "2021-11-06T16:36:01.699Z"
   },
   {
    "duration": 13,
    "start_time": "2021-11-06T16:36:01.726Z"
   },
   {
    "duration": 9,
    "start_time": "2021-11-06T16:36:01.741Z"
   },
   {
    "duration": 17,
    "start_time": "2021-11-06T16:36:01.753Z"
   },
   {
    "duration": 50,
    "start_time": "2021-11-06T16:36:01.772Z"
   },
   {
    "duration": 2167,
    "start_time": "2021-11-06T16:36:01.824Z"
   },
   {
    "duration": 809,
    "start_time": "2021-11-06T16:36:03.993Z"
   },
   {
    "duration": 18,
    "start_time": "2021-11-06T16:36:04.804Z"
   },
   {
    "duration": 45,
    "start_time": "2021-11-06T16:36:04.824Z"
   },
   {
    "duration": 75,
    "start_time": "2021-11-06T16:36:04.872Z"
   },
   {
    "duration": 41,
    "start_time": "2021-11-06T16:36:04.949Z"
   },
   {
    "duration": 4987,
    "start_time": "2021-11-06T16:36:04.992Z"
   },
   {
    "duration": 5070,
    "start_time": "2021-11-06T16:36:09.982Z"
   },
   {
    "duration": 7,
    "start_time": "2021-11-06T16:36:15.054Z"
   },
   {
    "duration": 2102,
    "start_time": "2021-11-06T16:36:15.063Z"
   },
   {
    "duration": 13,
    "start_time": "2021-11-06T16:36:17.167Z"
   },
   {
    "duration": 7,
    "start_time": "2021-11-06T16:36:17.182Z"
   },
   {
    "duration": 36,
    "start_time": "2021-11-06T16:36:17.191Z"
   },
   {
    "duration": 1379,
    "start_time": "2021-11-06T17:39:37.434Z"
   },
   {
    "duration": 61,
    "start_time": "2021-11-06T17:39:38.815Z"
   },
   {
    "duration": 241,
    "start_time": "2021-11-06T17:39:38.879Z"
   },
   {
    "duration": 149,
    "start_time": "2021-11-06T17:39:39.122Z"
   },
   {
    "duration": 212,
    "start_time": "2021-11-06T17:39:39.274Z"
   },
   {
    "duration": 30,
    "start_time": "2021-11-06T17:39:39.489Z"
   },
   {
    "duration": 8,
    "start_time": "2021-11-06T17:39:39.522Z"
   },
   {
    "duration": 7,
    "start_time": "2021-11-06T17:39:39.533Z"
   },
   {
    "duration": 9,
    "start_time": "2021-11-06T17:39:39.543Z"
   },
   {
    "duration": 69,
    "start_time": "2021-11-06T17:39:39.554Z"
   },
   {
    "duration": 18,
    "start_time": "2021-11-06T17:39:39.625Z"
   },
   {
    "duration": 22,
    "start_time": "2021-11-06T17:39:39.646Z"
   },
   {
    "duration": 46,
    "start_time": "2021-11-06T17:39:39.670Z"
   },
   {
    "duration": 84,
    "start_time": "2021-11-06T17:39:39.719Z"
   },
   {
    "duration": 38,
    "start_time": "2021-11-06T17:39:39.805Z"
   },
   {
    "duration": 81,
    "start_time": "2021-11-06T17:39:39.846Z"
   },
   {
    "duration": 19,
    "start_time": "2021-11-06T17:39:39.929Z"
   },
   {
    "duration": 321,
    "start_time": "2021-11-06T17:39:39.950Z"
   },
   {
    "duration": 26,
    "start_time": "2021-11-06T17:39:40.274Z"
   },
   {
    "duration": 14,
    "start_time": "2021-11-06T17:39:40.303Z"
   },
   {
    "duration": 20,
    "start_time": "2021-11-06T17:39:40.320Z"
   },
   {
    "duration": 16,
    "start_time": "2021-11-06T17:39:40.342Z"
   },
   {
    "duration": 18,
    "start_time": "2021-11-06T17:39:40.399Z"
   },
   {
    "duration": 88,
    "start_time": "2021-11-06T17:39:40.420Z"
   },
   {
    "duration": 6,
    "start_time": "2021-11-06T17:39:40.510Z"
   },
   {
    "duration": 42,
    "start_time": "2021-11-06T17:39:40.518Z"
   },
   {
    "duration": 37,
    "start_time": "2021-11-06T17:39:40.564Z"
   },
   {
    "duration": 38,
    "start_time": "2021-11-06T17:39:40.604Z"
   },
   {
    "duration": 13,
    "start_time": "2021-11-06T17:39:40.645Z"
   },
   {
    "duration": 42,
    "start_time": "2021-11-06T17:39:40.661Z"
   },
   {
    "duration": 8,
    "start_time": "2021-11-06T17:39:40.706Z"
   },
   {
    "duration": 15,
    "start_time": "2021-11-06T17:39:40.717Z"
   },
   {
    "duration": 7,
    "start_time": "2021-11-06T17:39:40.734Z"
   },
   {
    "duration": 2035,
    "start_time": "2021-11-06T17:39:40.743Z"
   },
   {
    "duration": 828,
    "start_time": "2021-11-06T17:39:42.780Z"
   },
   {
    "duration": 9,
    "start_time": "2021-11-06T17:39:43.610Z"
   },
   {
    "duration": 46,
    "start_time": "2021-11-06T17:39:43.621Z"
   },
   {
    "duration": 74,
    "start_time": "2021-11-06T17:39:43.669Z"
   },
   {
    "duration": 61,
    "start_time": "2021-11-06T17:39:43.746Z"
   },
   {
    "duration": 3650,
    "start_time": "2021-11-06T17:39:43.809Z"
   },
   {
    "duration": 3521,
    "start_time": "2021-11-06T17:39:47.461Z"
   },
   {
    "duration": 7,
    "start_time": "2021-11-06T17:39:50.984Z"
   },
   {
    "duration": 1920,
    "start_time": "2021-11-06T17:39:51.001Z"
   },
   {
    "duration": 13,
    "start_time": "2021-11-06T17:39:52.923Z"
   },
   {
    "duration": 7,
    "start_time": "2021-11-06T17:39:52.938Z"
   },
   {
    "duration": 8,
    "start_time": "2021-11-06T17:39:52.948Z"
   },
   {
    "duration": 1368,
    "start_time": "2021-11-06T17:42:10.720Z"
   },
   {
    "duration": 60,
    "start_time": "2021-11-06T17:42:12.091Z"
   },
   {
    "duration": 247,
    "start_time": "2021-11-06T17:42:12.154Z"
   },
   {
    "duration": 159,
    "start_time": "2021-11-06T17:42:12.405Z"
   },
   {
    "duration": 222,
    "start_time": "2021-11-06T17:42:12.568Z"
   },
   {
    "duration": 31,
    "start_time": "2021-11-06T17:42:12.793Z"
   },
   {
    "duration": 12,
    "start_time": "2021-11-06T17:42:12.827Z"
   },
   {
    "duration": 8,
    "start_time": "2021-11-06T17:42:12.844Z"
   },
   {
    "duration": 51,
    "start_time": "2021-11-06T17:42:12.856Z"
   },
   {
    "duration": 30,
    "start_time": "2021-11-06T17:42:12.910Z"
   },
   {
    "duration": 57,
    "start_time": "2021-11-06T17:42:12.943Z"
   },
   {
    "duration": 25,
    "start_time": "2021-11-06T17:42:13.003Z"
   },
   {
    "duration": 19,
    "start_time": "2021-11-06T17:42:13.032Z"
   },
   {
    "duration": 111,
    "start_time": "2021-11-06T17:42:13.054Z"
   },
   {
    "duration": 57,
    "start_time": "2021-11-06T17:42:13.167Z"
   },
   {
    "duration": 50,
    "start_time": "2021-11-06T17:42:13.228Z"
   },
   {
    "duration": 35,
    "start_time": "2021-11-06T17:42:13.281Z"
   },
   {
    "duration": 304,
    "start_time": "2021-11-06T17:42:13.318Z"
   },
   {
    "duration": 18,
    "start_time": "2021-11-06T17:42:13.624Z"
   },
   {
    "duration": 16,
    "start_time": "2021-11-06T17:42:13.645Z"
   },
   {
    "duration": 49,
    "start_time": "2021-11-06T17:42:13.664Z"
   },
   {
    "duration": 16,
    "start_time": "2021-11-06T17:42:13.716Z"
   },
   {
    "duration": 16,
    "start_time": "2021-11-06T17:42:13.738Z"
   },
   {
    "duration": 103,
    "start_time": "2021-11-06T17:42:13.757Z"
   },
   {
    "duration": 5,
    "start_time": "2021-11-06T17:42:13.862Z"
   },
   {
    "duration": 58,
    "start_time": "2021-11-06T17:42:13.870Z"
   },
   {
    "duration": 11,
    "start_time": "2021-11-06T17:42:13.930Z"
   },
   {
    "duration": 64,
    "start_time": "2021-11-06T17:42:13.943Z"
   },
   {
    "duration": 13,
    "start_time": "2021-11-06T17:42:14.010Z"
   },
   {
    "duration": 13,
    "start_time": "2021-11-06T17:42:14.025Z"
   },
   {
    "duration": 13,
    "start_time": "2021-11-06T17:42:14.041Z"
   },
   {
    "duration": 21,
    "start_time": "2021-11-06T17:42:14.056Z"
   },
   {
    "duration": 13,
    "start_time": "2021-11-06T17:42:14.101Z"
   },
   {
    "duration": 1940,
    "start_time": "2021-11-06T17:42:14.116Z"
   },
   {
    "duration": 860,
    "start_time": "2021-11-06T17:42:16.059Z"
   },
   {
    "duration": 9,
    "start_time": "2021-11-06T17:42:16.922Z"
   },
   {
    "duration": 69,
    "start_time": "2021-11-06T17:42:16.933Z"
   },
   {
    "duration": 46,
    "start_time": "2021-11-06T17:42:17.004Z"
   },
   {
    "duration": 52,
    "start_time": "2021-11-06T17:42:17.052Z"
   },
   {
    "duration": 3713,
    "start_time": "2021-11-06T17:42:17.114Z"
   },
   {
    "duration": 3689,
    "start_time": "2021-11-06T17:42:20.829Z"
   },
   {
    "duration": 8,
    "start_time": "2021-11-06T17:42:24.521Z"
   },
   {
    "duration": 1997,
    "start_time": "2021-11-06T17:42:24.531Z"
   },
   {
    "duration": 13,
    "start_time": "2021-11-06T17:42:26.530Z"
   },
   {
    "duration": 6,
    "start_time": "2021-11-06T17:42:26.546Z"
   },
   {
    "duration": 12,
    "start_time": "2021-11-06T17:42:26.554Z"
   },
   {
    "duration": 22,
    "start_time": "2021-11-06T17:52:32.335Z"
   },
   {
    "duration": 1472,
    "start_time": "2021-11-07T12:55:50.862Z"
   },
   {
    "duration": 95,
    "start_time": "2021-11-07T12:55:54.214Z"
   },
   {
    "duration": 239,
    "start_time": "2021-11-07T12:55:59.936Z"
   },
   {
    "duration": 142,
    "start_time": "2021-11-07T12:56:06.646Z"
   },
   {
    "duration": 217,
    "start_time": "2021-11-07T12:56:11.494Z"
   },
   {
    "duration": 30,
    "start_time": "2021-11-07T12:56:18.534Z"
   },
   {
    "duration": 1515,
    "start_time": "2021-11-07T13:49:39.638Z"
   },
   {
    "duration": 96,
    "start_time": "2021-11-07T13:49:41.156Z"
   },
   {
    "duration": 299,
    "start_time": "2021-11-07T13:49:41.255Z"
   },
   {
    "duration": 314,
    "start_time": "2021-11-07T13:49:41.572Z"
   },
   {
    "duration": 290,
    "start_time": "2021-11-07T13:49:41.904Z"
   },
   {
    "duration": 31,
    "start_time": "2021-11-07T13:49:42.196Z"
   },
   {
    "duration": 14,
    "start_time": "2021-11-07T13:49:42.230Z"
   },
   {
    "duration": 16,
    "start_time": "2021-11-07T13:49:42.247Z"
   },
   {
    "duration": 14,
    "start_time": "2021-11-07T13:49:42.265Z"
   },
   {
    "duration": 32,
    "start_time": "2021-11-07T13:49:42.281Z"
   },
   {
    "duration": 45,
    "start_time": "2021-11-07T13:49:42.315Z"
   },
   {
    "duration": 23,
    "start_time": "2021-11-07T13:49:42.363Z"
   },
   {
    "duration": 10623,
    "start_time": "2021-11-07T13:49:42.389Z"
   },
   {
    "duration": 1059,
    "start_time": "2021-11-07T13:49:51.959Z"
   },
   {
    "duration": 1053,
    "start_time": "2021-11-07T13:49:51.967Z"
   },
   {
    "duration": 1050,
    "start_time": "2021-11-07T13:49:51.972Z"
   },
   {
    "duration": 1046,
    "start_time": "2021-11-07T13:49:51.978Z"
   },
   {
    "duration": 1043,
    "start_time": "2021-11-07T13:49:51.983Z"
   },
   {
    "duration": 1039,
    "start_time": "2021-11-07T13:49:51.989Z"
   },
   {
    "duration": 1036,
    "start_time": "2021-11-07T13:49:51.994Z"
   },
   {
    "duration": 1031,
    "start_time": "2021-11-07T13:49:52.001Z"
   },
   {
    "duration": 1027,
    "start_time": "2021-11-07T13:49:52.007Z"
   },
   {
    "duration": 1023,
    "start_time": "2021-11-07T13:49:52.013Z"
   },
   {
    "duration": 1019,
    "start_time": "2021-11-07T13:49:52.018Z"
   },
   {
    "duration": 1016,
    "start_time": "2021-11-07T13:49:52.024Z"
   },
   {
    "duration": 1013,
    "start_time": "2021-11-07T13:49:52.029Z"
   },
   {
    "duration": 1001,
    "start_time": "2021-11-07T13:49:52.042Z"
   },
   {
    "duration": 997,
    "start_time": "2021-11-07T13:49:52.048Z"
   },
   {
    "duration": 993,
    "start_time": "2021-11-07T13:49:52.054Z"
   },
   {
    "duration": 989,
    "start_time": "2021-11-07T13:49:52.060Z"
   },
   {
    "duration": 985,
    "start_time": "2021-11-07T13:49:52.066Z"
   },
   {
    "duration": 981,
    "start_time": "2021-11-07T13:49:52.071Z"
   },
   {
    "duration": 981,
    "start_time": "2021-11-07T13:49:52.077Z"
   },
   {
    "duration": 978,
    "start_time": "2021-11-07T13:49:52.082Z"
   },
   {
    "duration": 974,
    "start_time": "2021-11-07T13:49:52.088Z"
   },
   {
    "duration": 970,
    "start_time": "2021-11-07T13:49:52.093Z"
   },
   {
    "duration": 966,
    "start_time": "2021-11-07T13:49:52.099Z"
   },
   {
    "duration": 962,
    "start_time": "2021-11-07T13:49:52.105Z"
   },
   {
    "duration": 959,
    "start_time": "2021-11-07T13:49:52.110Z"
   },
   {
    "duration": 956,
    "start_time": "2021-11-07T13:49:52.115Z"
   },
   {
    "duration": 952,
    "start_time": "2021-11-07T13:49:52.121Z"
   },
   {
    "duration": 950,
    "start_time": "2021-11-07T13:49:52.126Z"
   },
   {
    "duration": 946,
    "start_time": "2021-11-07T13:49:52.132Z"
   },
   {
    "duration": 943,
    "start_time": "2021-11-07T13:49:52.137Z"
   },
   {
    "duration": 930,
    "start_time": "2021-11-07T13:49:52.151Z"
   },
   {
    "duration": 7,
    "start_time": "2021-11-07T13:51:23.502Z"
   },
   {
    "duration": 7034,
    "start_time": "2021-11-07T13:51:29.610Z"
   },
   {
    "duration": 1387,
    "start_time": "2021-11-07T13:51:51.927Z"
   },
   {
    "duration": 69,
    "start_time": "2021-11-07T13:51:53.316Z"
   },
   {
    "duration": 240,
    "start_time": "2021-11-07T13:51:53.387Z"
   },
   {
    "duration": 144,
    "start_time": "2021-11-07T13:51:53.629Z"
   },
   {
    "duration": 223,
    "start_time": "2021-11-07T13:51:53.775Z"
   },
   {
    "duration": 29,
    "start_time": "2021-11-07T13:51:54.001Z"
   },
   {
    "duration": 8,
    "start_time": "2021-11-07T13:51:54.032Z"
   },
   {
    "duration": 20,
    "start_time": "2021-11-07T13:51:54.043Z"
   },
   {
    "duration": 11,
    "start_time": "2021-11-07T13:51:54.066Z"
   },
   {
    "duration": 26,
    "start_time": "2021-11-07T13:51:54.079Z"
   },
   {
    "duration": 18,
    "start_time": "2021-11-07T13:51:54.160Z"
   },
   {
    "duration": 20,
    "start_time": "2021-11-07T13:51:54.180Z"
   },
   {
    "duration": 17,
    "start_time": "2021-11-07T13:51:54.203Z"
   },
   {
    "duration": 91,
    "start_time": "2021-11-07T13:51:54.222Z"
   },
   {
    "duration": 52,
    "start_time": "2021-11-07T13:51:54.315Z"
   },
   {
    "duration": 43,
    "start_time": "2021-11-07T13:51:54.369Z"
   },
   {
    "duration": 17,
    "start_time": "2021-11-07T13:51:54.415Z"
   },
   {
    "duration": 247,
    "start_time": "2021-11-07T13:51:54.434Z"
   },
   {
    "duration": 18,
    "start_time": "2021-11-07T13:51:54.684Z"
   },
   {
    "duration": 15,
    "start_time": "2021-11-07T13:51:54.704Z"
   },
   {
    "duration": 46,
    "start_time": "2021-11-07T13:51:54.721Z"
   },
   {
    "duration": 66,
    "start_time": "2021-11-07T13:51:54.769Z"
   },
   {
    "duration": 19,
    "start_time": "2021-11-07T13:51:54.840Z"
   },
   {
    "duration": 33,
    "start_time": "2021-11-07T13:51:54.861Z"
   },
   {
    "duration": 10,
    "start_time": "2021-11-07T13:51:54.896Z"
   },
   {
    "duration": 63,
    "start_time": "2021-11-07T13:51:54.908Z"
   },
   {
    "duration": 12,
    "start_time": "2021-11-07T13:51:54.973Z"
   },
   {
    "duration": 23,
    "start_time": "2021-11-07T13:51:54.987Z"
   },
   {
    "duration": 9,
    "start_time": "2021-11-07T13:51:55.013Z"
   },
   {
    "duration": 37,
    "start_time": "2021-11-07T13:51:55.024Z"
   },
   {
    "duration": 12,
    "start_time": "2021-11-07T13:51:55.063Z"
   },
   {
    "duration": 1848,
    "start_time": "2021-11-07T13:51:55.077Z"
   },
   {
    "duration": 780,
    "start_time": "2021-11-07T13:51:56.928Z"
   },
   {
    "duration": 8,
    "start_time": "2021-11-07T13:51:57.711Z"
   },
   {
    "duration": 64,
    "start_time": "2021-11-07T13:51:57.721Z"
   },
   {
    "duration": 44,
    "start_time": "2021-11-07T13:51:57.788Z"
   },
   {
    "duration": 66,
    "start_time": "2021-11-07T13:51:57.834Z"
   },
   {
    "duration": 3850,
    "start_time": "2021-11-07T13:51:57.902Z"
   },
   {
    "duration": 3976,
    "start_time": "2021-11-07T13:52:01.756Z"
   },
   {
    "duration": 9,
    "start_time": "2021-11-07T13:52:05.735Z"
   },
   {
    "duration": 1952,
    "start_time": "2021-11-07T13:52:05.747Z"
   },
   {
    "duration": 16,
    "start_time": "2021-11-07T13:52:07.702Z"
   },
   {
    "duration": 6,
    "start_time": "2021-11-07T13:52:07.720Z"
   },
   {
    "duration": 34,
    "start_time": "2021-11-07T13:52:07.729Z"
   },
   {
    "duration": 12,
    "start_time": "2021-11-07T13:52:07.765Z"
   },
   {
    "duration": 1323,
    "start_time": "2021-11-07T14:05:40.101Z"
   },
   {
    "duration": 1262,
    "start_time": "2021-11-07T14:06:47.119Z"
   },
   {
    "duration": 1118,
    "start_time": "2021-11-07T14:19:08.213Z"
   },
   {
    "duration": 1352,
    "start_time": "2021-11-07T14:28:21.066Z"
   },
   {
    "duration": 59,
    "start_time": "2021-11-07T14:28:22.421Z"
   },
   {
    "duration": 220,
    "start_time": "2021-11-07T14:28:22.483Z"
   },
   {
    "duration": 133,
    "start_time": "2021-11-07T14:28:22.706Z"
   },
   {
    "duration": 201,
    "start_time": "2021-11-07T14:28:22.841Z"
   },
   {
    "duration": 31,
    "start_time": "2021-11-07T14:28:23.045Z"
   },
   {
    "duration": 26,
    "start_time": "2021-11-07T14:28:23.079Z"
   },
   {
    "duration": 9,
    "start_time": "2021-11-07T14:28:23.109Z"
   },
   {
    "duration": 18,
    "start_time": "2021-11-07T14:28:23.121Z"
   },
   {
    "duration": 45,
    "start_time": "2021-11-07T14:28:23.142Z"
   },
   {
    "duration": 19,
    "start_time": "2021-11-07T14:28:23.190Z"
   },
   {
    "duration": 46,
    "start_time": "2021-11-07T14:28:23.212Z"
   },
   {
    "duration": 19,
    "start_time": "2021-11-07T14:28:23.261Z"
   },
   {
    "duration": 85,
    "start_time": "2021-11-07T14:28:23.283Z"
   },
   {
    "duration": 39,
    "start_time": "2021-11-07T14:28:23.370Z"
   },
   {
    "duration": 73,
    "start_time": "2021-11-07T14:28:23.411Z"
   },
   {
    "duration": 16,
    "start_time": "2021-11-07T14:28:23.486Z"
   },
   {
    "duration": 231,
    "start_time": "2021-11-07T14:28:23.504Z"
   },
   {
    "duration": 26,
    "start_time": "2021-11-07T14:28:23.737Z"
   },
   {
    "duration": 15,
    "start_time": "2021-11-07T14:28:23.766Z"
   },
   {
    "duration": 15,
    "start_time": "2021-11-07T14:28:23.783Z"
   },
   {
    "duration": 102,
    "start_time": "2021-11-07T14:28:23.800Z"
   },
   {
    "duration": 6,
    "start_time": "2021-11-07T14:28:23.910Z"
   },
   {
    "duration": 52,
    "start_time": "2021-11-07T14:28:23.920Z"
   },
   {
    "duration": 10,
    "start_time": "2021-11-07T14:28:23.974Z"
   },
   {
    "duration": 36,
    "start_time": "2021-11-07T14:28:23.986Z"
   },
   {
    "duration": 35,
    "start_time": "2021-11-07T14:28:24.024Z"
   },
   {
    "duration": 14,
    "start_time": "2021-11-07T14:28:24.061Z"
   },
   {
    "duration": 9,
    "start_time": "2021-11-07T14:28:24.077Z"
   },
   {
    "duration": 18,
    "start_time": "2021-11-07T14:28:24.088Z"
   },
   {
    "duration": 12,
    "start_time": "2021-11-07T14:28:24.108Z"
   },
   {
    "duration": 2003,
    "start_time": "2021-11-07T14:28:24.159Z"
   },
   {
    "duration": 740,
    "start_time": "2021-11-07T14:28:26.165Z"
   },
   {
    "duration": 9,
    "start_time": "2021-11-07T14:28:26.908Z"
   },
   {
    "duration": 58,
    "start_time": "2021-11-07T14:28:26.919Z"
   },
   {
    "duration": 44,
    "start_time": "2021-11-07T14:28:26.980Z"
   },
   {
    "duration": 66,
    "start_time": "2021-11-07T14:28:27.027Z"
   },
   {
    "duration": 3731,
    "start_time": "2021-11-07T14:28:27.096Z"
   },
   {
    "duration": 3675,
    "start_time": "2021-11-07T14:28:30.830Z"
   },
   {
    "duration": 1135,
    "start_time": "2021-11-07T14:28:34.508Z"
   },
   {
    "duration": 16,
    "start_time": "2021-11-07T14:28:35.645Z"
   },
   {
    "duration": 1837,
    "start_time": "2021-11-07T14:28:35.663Z"
   },
   {
    "duration": 14,
    "start_time": "2021-11-07T14:28:37.502Z"
   },
   {
    "duration": 7,
    "start_time": "2021-11-07T14:28:37.518Z"
   },
   {
    "duration": 39,
    "start_time": "2021-11-07T14:28:37.528Z"
   },
   {
    "duration": 8,
    "start_time": "2021-11-07T14:28:37.570Z"
   },
   {
    "duration": 1360,
    "start_time": "2021-11-07T19:53:43.881Z"
   },
   {
    "duration": 50,
    "start_time": "2021-11-07T19:53:45.244Z"
   },
   {
    "duration": 225,
    "start_time": "2021-11-07T19:53:45.297Z"
   },
   {
    "duration": 145,
    "start_time": "2021-11-07T19:53:45.525Z"
   },
   {
    "duration": 206,
    "start_time": "2021-11-07T19:53:45.672Z"
   },
   {
    "duration": 30,
    "start_time": "2021-11-07T19:53:45.880Z"
   },
   {
    "duration": 7,
    "start_time": "2021-11-07T19:53:45.912Z"
   },
   {
    "duration": 8,
    "start_time": "2021-11-07T19:53:45.923Z"
   },
   {
    "duration": 8,
    "start_time": "2021-11-07T19:53:45.960Z"
   },
   {
    "duration": 29,
    "start_time": "2021-11-07T19:53:45.970Z"
   },
   {
    "duration": 20,
    "start_time": "2021-11-07T19:53:46.002Z"
   },
   {
    "duration": 24,
    "start_time": "2021-11-07T19:53:46.059Z"
   },
   {
    "duration": 19,
    "start_time": "2021-11-07T19:53:46.086Z"
   },
   {
    "duration": 108,
    "start_time": "2021-11-07T19:53:46.109Z"
   },
   {
    "duration": 47,
    "start_time": "2021-11-07T19:53:46.220Z"
   },
   {
    "duration": 49,
    "start_time": "2021-11-07T19:53:46.270Z"
   },
   {
    "duration": 43,
    "start_time": "2021-11-07T19:53:46.321Z"
   },
   {
    "duration": 240,
    "start_time": "2021-11-07T19:53:46.366Z"
   },
   {
    "duration": 20,
    "start_time": "2021-11-07T19:53:46.608Z"
   },
   {
    "duration": 43,
    "start_time": "2021-11-07T19:53:46.631Z"
   },
   {
    "duration": 18,
    "start_time": "2021-11-07T19:53:46.677Z"
   },
   {
    "duration": 101,
    "start_time": "2021-11-07T19:53:46.697Z"
   },
   {
    "duration": 5,
    "start_time": "2021-11-07T19:53:46.804Z"
   },
   {
    "duration": 48,
    "start_time": "2021-11-07T19:53:46.812Z"
   },
   {
    "duration": 9,
    "start_time": "2021-11-07T19:53:46.863Z"
   },
   {
    "duration": 43,
    "start_time": "2021-11-07T19:53:46.874Z"
   },
   {
    "duration": 13,
    "start_time": "2021-11-07T19:53:46.919Z"
   },
   {
    "duration": 34,
    "start_time": "2021-11-07T19:53:46.935Z"
   },
   {
    "duration": 9,
    "start_time": "2021-11-07T19:53:46.971Z"
   },
   {
    "duration": 13,
    "start_time": "2021-11-07T19:53:46.982Z"
   },
   {
    "duration": 11,
    "start_time": "2021-11-07T19:53:46.998Z"
   },
   {
    "duration": 1952,
    "start_time": "2021-11-07T19:53:47.011Z"
   },
   {
    "duration": 788,
    "start_time": "2021-11-07T19:53:48.966Z"
   },
   {
    "duration": 9,
    "start_time": "2021-11-07T19:53:49.760Z"
   },
   {
    "duration": 45,
    "start_time": "2021-11-07T19:53:49.772Z"
   },
   {
    "duration": 74,
    "start_time": "2021-11-07T19:53:49.819Z"
   },
   {
    "duration": 31,
    "start_time": "2021-11-07T19:53:49.896Z"
   },
   {
    "duration": 3957,
    "start_time": "2021-11-07T19:53:49.930Z"
   },
   {
    "duration": 4077,
    "start_time": "2021-11-07T19:53:53.890Z"
   },
   {
    "duration": 1336,
    "start_time": "2021-11-07T19:53:57.969Z"
   },
   {
    "duration": 7,
    "start_time": "2021-11-07T19:53:59.308Z"
   },
   {
    "duration": 1866,
    "start_time": "2021-11-07T19:53:59.318Z"
   },
   {
    "duration": 12,
    "start_time": "2021-11-07T19:54:01.187Z"
   },
   {
    "duration": 19,
    "start_time": "2021-11-07T19:54:01.201Z"
   },
   {
    "duration": 13,
    "start_time": "2021-11-07T19:54:01.222Z"
   },
   {
    "duration": 28,
    "start_time": "2021-11-07T19:54:01.238Z"
   }
  ],
  "kernelspec": {
   "display_name": "Python 3 (ipykernel)",
   "language": "python",
   "name": "python3"
  },
  "language_info": {
   "codemirror_mode": {
    "name": "ipython",
    "version": 3
   },
   "file_extension": ".py",
   "mimetype": "text/x-python",
   "name": "python",
   "nbconvert_exporter": "python",
   "pygments_lexer": "ipython3",
   "version": "3.9.7"
  },
  "toc": {
   "base_numbering": 1,
   "nav_menu": {},
   "number_sections": true,
   "sideBar": true,
   "skip_h1_title": true,
   "title_cell": "Table of Contents",
   "title_sidebar": "Contents",
   "toc_cell": false,
   "toc_position": {
    "height": "calc(100% - 180px)",
    "left": "10px",
    "top": "150px",
    "width": "174.391px"
   },
   "toc_section_display": true,
   "toc_window_display": true
  }
 },
 "nbformat": 4,
 "nbformat_minor": 2
}
