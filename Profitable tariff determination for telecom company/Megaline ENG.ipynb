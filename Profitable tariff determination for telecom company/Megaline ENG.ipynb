{
 "cells": [
  {
   "cell_type": "markdown",
   "metadata": {},
   "source": [
    "<div style=\"border:solid green 2px; padding: 20px\"> <h1 style=\"color:green; margin-bottom:20px\">Комментарий ревьюера v1</h1>\n",
    "\n",
    "Светлана привет! Меня зовут Дмитрий Пышненко, и я буду проверять твой проект. Предлагаю общаться на «ты» если ты не против 😊 Но если нет, то дай знать, и мы перейдем на \"вы\". \n",
    "    \n",
    "Для своих комментариев я буду использовать цветовую разметку:\n",
    "\n",
    "<div class=\"alert alert-success\">\n",
    "    <b>Успех:</b> все сделано правильно.\n",
    "</div>\n",
    "<div class=\"alert alert-warning\">\n",
    "    <b>Есть замечания:</b> так выделены небольшие замечания которые не критичны, но было бы здорово исправить. Если таких замечаний немного, то такой проект может быть принят.\n",
    "</div>\n",
    "<div class=\"alert alert-danger\">\n",
    "    <b>Нужно переделать:</b> есть замечания которые необходимо исправить или доделать для сдачи проекта.\n",
    "</div>\n",
    "    \n",
    "Я буду поддерживать версионность комментариев, и при следующих итерациях я буду оставлять ячейки с новой версией v2 (v3 и.т.д.)\"\n",
    "    \n",
    "Если у тебя есть вопросы, замечания или отвечаешь на комментарии — пиши об этом. Мне будет легче отследить изменения, если ты выделишь свои комментарии: \n",
    "<div class=\"alert alert-info\"> <b>Комментарий студента:</b> Например, вот так.</div>"
   ]
  },
  {
   "cell_type": "markdown",
   "metadata": {},
   "source": [
    "<div style=\"border:solid green 2px; padding: 20px\">\n",
    "<b>Комментарий ревьюера v1:</b>\n",
    "    \n",
    "<b>Общее впечатление:</b> \n",
    "    \n",
    "- У тебя получилась отличная работа, поздравляю! Очень чистый код и структурированный подход к решению задачи. \n",
    "- Критических замечаний в проекте нет, но отправляю проект обратно на случай, если у тебя остались вопросы или ты хочешь еще как-то изменить/улучшить проект.\n",
    "    \n",
    "Буду ждать новую версию на повторную проверку. Успехов!\n",
    "    \n",
    "</div>"
   ]
  },
  {
   "cell_type": "markdown",
   "metadata": {},
   "source": [
    "<div class=\"alert alert-info\"> <b>Комментарий студента:</b> Привет, Дмитрий!:) Спасибо за проверку моей работы и отдельное спасибо за высокую оценку! Твои советы, как сделать проект лучше, очень хороши, и я поработала по многим из них:) </div>"
   ]
  },
  {
   "cell_type": "markdown",
   "metadata": {},
   "source": [
    "<div style=\"border:solid green 2px; padding: 20px\">\n",
    "<b>Комментарий ревьюера v2:</b>\n",
    "    \n",
    "Спасибо, что оперативно внесла исправления и рад, что что-то оказалось полезно! \n",
    "    \n",
    "Было интересно проверять твой проект и желаю успехов на следующих спринтах 🔥\n",
    " \n",
    "    \n",
    "PS: Если наскучит ~~нетфликс~~ кинопоискHD, то могу порекомендовать крутые лекции по стат анализу тут: - https://www.youtube.com/watch?v=enpPFqcIFj8&list=PLlb7e2G7aSpRb95_Wi7lZ-zA6fOjV3_l7\n",
    "</div>"
   ]
  },
  {
   "cell_type": "markdown",
   "metadata": {},
   "source": [
    "<h1>Содержание</h1>\n",
    "\n",
    "1. [Изучение данных из файлов](#Изучение-данных-из-файлов)\n",
    "2. [Подготовка данных](#Подготовка-данных)\n",
    "    * 2.1. [Обработка пропусков](#Обработка-пропусков)\n",
    "    * 2.2. [Замена типа данных](#Замена-типа-данных)\n",
    "    * 2.3. [Обработка дубликатов](#Обработка-дубликатов)\n",
    "    * 2.4. [Подготовка пользовательских данных к анализу](#Подготовка-пользовательских-данных-к-анализу)\n",
    "3. [Анализ и описание данных](#Анализ-и-описание-данных)\n",
    "4. [Проверка гипотез и пояснения](#Проверка-гипотез-и-пояснения)\n",
    "5. [Общий вывод](#Общий-вывод)"
   ]
  },
  {
   "cell_type": "markdown",
   "metadata": {},
   "source": [
    "# Определение перспективного тарифа для телеком-компании"
   ]
  },
  {
   "cell_type": "markdown",
   "metadata": {},
   "source": [
    "В нашем распоряжении данные 500 пользователей «Мегалайна»: кто они, откуда, каким тарифом пользуются, сколько звонков и сообщений каждый отправил за 2018 год. Необходимо проанализировать поведение клиентов и сделать вывод — какой тариф лучше.\n",
    "\n",
    "**Описание тарифов**\n",
    "\n",
    "<u>Тариф «Смарт»</u>\n",
    "\n",
    "Ежемесячная плата: 550 рублей.<br>\n",
    "Включено 500 минут разговора, 50 сообщений и 15 Гб интернет-трафика.<br>\n",
    "Стоимость услуг сверх тарифного пакета:\n",
    "1. минута разговора: 3 рубля («Мегалайн» всегда округляет вверх значения минут и мегабайтов. Если пользователь проговорил всего 1 секунду, в тарифе засчитывается целая минута);\n",
    "2. сообщение: 3 рубля;\n",
    "3. 1 Гб интернет-трафика: 200 рублей.\n",
    "\n",
    "<br>\n",
    "<u>Тариф «Ультра»</u>\n",
    "\n",
    "Ежемесячная плата: 1950 рублей.<br>\n",
    "Включено 3000 минут разговора, 1000 сообщений и 30 Гб интернет-трафика.<br>\n",
    "Стоимость услуг сверх тарифного пакета:\n",
    "1. минута разговора: 1 рубль;\n",
    "2. сообщение: 1 рубль;\n",
    "3. 1 Гб интернет-трафика: 150 рублей.\n",
    "\n",
    "*Примечание:\n",
    "«Мегалайн» всегда округляет секунды до минут, а мегабайты — до гигабайт. Каждый звонок округляется отдельно: даже если он длился всего 1 секунду, будет засчитан как 1 минута.\n",
    "Для веб-трафика отдельные сессии не считаются. Вместо этого общая сумма за месяц округляется в бо́льшую сторону. Если абонент использует 1025 мегабайт в этом месяце, с него возьмут плату за 2 гигабайта.*\n",
    "<br><br>\n",
    "\n",
    "**Описание данных**\n",
    "\n",
    "<u>1. Таблица users (информация о пользователях):</u>\n",
    "- user_id — уникальный идентификатор пользователя;\n",
    "- first_name — имя пользователя;\n",
    "- last_name — фамилия пользователя;\n",
    "- age — возраст пользователя (годы);\n",
    "- reg_date — дата подключения тарифа (день, месяц, год);\n",
    "- churn_date — дата прекращения пользования тарифом (если значение пропущено, то тариф ещё действовал на момент выгрузки данных);\n",
    "- city — город проживания пользователя;\n",
    "- tariff — название тарифного плана.\n",
    "\n",
    "<u>2. Таблица calls (информация о звонках):</u>\n",
    "- id — уникальный номер звонка;\n",
    "- call_date — дата звонка;\n",
    "- duration — длительность звонка в минутах (значение 0 означает пропущенный звонок);\n",
    "- user_id — идентификатор пользователя, сделавшего звонок.\n",
    "\n",
    "<u>3. Таблица messages (информация о сообщениях):</u>\n",
    "- id — уникальный номер сообщения;\n",
    "- message_date — дата сообщения;\n",
    "- user_id — идентификатор пользователя, отправившего сообщение.\n",
    "    \n",
    "<u>4. Таблица internet (информация об интернет-сессиях):</u>\n",
    "- id — уникальный номер сессии;\n",
    "- mb_used — объём потраченного за сессию интернет-трафика (в мегабайтах);\n",
    "- session_date — дата интернет-сессии;\n",
    "- user_id — идентификатор пользователя.\n",
    "    \n",
    "<u>5. Таблица tariffs (информация о тарифах):</u>\n",
    "- tariff_name — название тарифа;\n",
    "- rub_monthly_fee — ежемесячная абонентская плата в рублях;\n",
    "- minutes_included — количество минут разговора в месяц, включённых в абонентскую плату;\n",
    "- messages_included — количество сообщений в месяц, включённых в абонентскую плату;\n",
    "- mb_per_month_included — объём интернет-трафика, включённого в абонентскую плату (в мегабайтах);\n",
    "- rub_per_minute — стоимость минуты разговора сверх тарифного пакета (например, если в тарифе 100 минут разговора в месяц, то со 101 минуты будет взиматься плата);\n",
    "- rub_per_message — стоимость отправки сообщения сверх тарифного пакета;\n",
    "- rub_per_gb — стоимость дополнительного гигабайта интернет-трафика сверх тарифного пакета (1 гигабайт = 1024 мегабайта)."
   ]
  },
  {
   "cell_type": "markdown",
   "metadata": {},
   "source": [
    "<div class=\"alert alert-success\">\n",
    "<b>Комментарий ревьюера v1:</b>\n",
    "    \n",
    "Здорово, что выделила цель, основные шаги проекта и описание данных.\n"
   ]
  },
  {
   "cell_type": "markdown",
   "metadata": {},
   "source": [
    "## Изучение данных из файлов"
   ]
  },
  {
   "cell_type": "markdown",
   "metadata": {},
   "source": [
    "Импорт библиотек:"
   ]
  },
  {
   "cell_type": "code",
   "execution_count": 1,
   "metadata": {},
   "outputs": [],
   "source": [
    "from matplotlib import pyplot as plt\n",
    "from scipy import stats as st\n",
    "import pandas as pd\n",
    "import numpy as np"
   ]
  },
  {
   "cell_type": "markdown",
   "metadata": {},
   "source": [
    "Чтение файла с информацией о пользователях, вывод информации о датафрейме и 5 произвольных строк:"
   ]
  },
  {
   "cell_type": "code",
   "execution_count": 2,
   "metadata": {},
   "outputs": [
    {
     "name": "stdout",
     "output_type": "stream",
     "text": [
      "<class 'pandas.core.frame.DataFrame'>\n",
      "RangeIndex: 500 entries, 0 to 499\n",
      "Data columns (total 8 columns):\n",
      "user_id       500 non-null int64\n",
      "age           500 non-null int64\n",
      "churn_date    38 non-null object\n",
      "city          500 non-null object\n",
      "first_name    500 non-null object\n",
      "last_name     500 non-null object\n",
      "reg_date      500 non-null object\n",
      "tariff        500 non-null object\n",
      "dtypes: int64(2), object(6)\n",
      "memory usage: 31.4+ KB\n"
     ]
    },
    {
     "data": {
      "text/html": [
       "<div>\n",
       "<style scoped>\n",
       "    .dataframe tbody tr th:only-of-type {\n",
       "        vertical-align: middle;\n",
       "    }\n",
       "\n",
       "    .dataframe tbody tr th {\n",
       "        vertical-align: top;\n",
       "    }\n",
       "\n",
       "    .dataframe thead th {\n",
       "        text-align: right;\n",
       "    }\n",
       "</style>\n",
       "<table border=\"1\" class=\"dataframe\">\n",
       "  <thead>\n",
       "    <tr style=\"text-align: right;\">\n",
       "      <th></th>\n",
       "      <th>user_id</th>\n",
       "      <th>age</th>\n",
       "      <th>churn_date</th>\n",
       "      <th>city</th>\n",
       "      <th>first_name</th>\n",
       "      <th>last_name</th>\n",
       "      <th>reg_date</th>\n",
       "      <th>tariff</th>\n",
       "    </tr>\n",
       "  </thead>\n",
       "  <tbody>\n",
       "    <tr>\n",
       "      <td>304</td>\n",
       "      <td>1304</td>\n",
       "      <td>68</td>\n",
       "      <td>NaN</td>\n",
       "      <td>Владимир</td>\n",
       "      <td>Илья</td>\n",
       "      <td>Соловьёв</td>\n",
       "      <td>2018-11-05</td>\n",
       "      <td>ultra</td>\n",
       "    </tr>\n",
       "    <tr>\n",
       "      <td>340</td>\n",
       "      <td>1340</td>\n",
       "      <td>50</td>\n",
       "      <td>NaN</td>\n",
       "      <td>Пенза</td>\n",
       "      <td>Тимофей</td>\n",
       "      <td>Алютин</td>\n",
       "      <td>2018-01-30</td>\n",
       "      <td>smart</td>\n",
       "    </tr>\n",
       "    <tr>\n",
       "      <td>47</td>\n",
       "      <td>1047</td>\n",
       "      <td>67</td>\n",
       "      <td>NaN</td>\n",
       "      <td>Саратов</td>\n",
       "      <td>Милица</td>\n",
       "      <td>Меркулова</td>\n",
       "      <td>2018-10-29</td>\n",
       "      <td>smart</td>\n",
       "    </tr>\n",
       "    <tr>\n",
       "      <td>67</td>\n",
       "      <td>1067</td>\n",
       "      <td>45</td>\n",
       "      <td>NaN</td>\n",
       "      <td>Москва</td>\n",
       "      <td>Юзефа</td>\n",
       "      <td>Абашкина</td>\n",
       "      <td>2018-04-09</td>\n",
       "      <td>smart</td>\n",
       "    </tr>\n",
       "    <tr>\n",
       "      <td>479</td>\n",
       "      <td>1479</td>\n",
       "      <td>40</td>\n",
       "      <td>NaN</td>\n",
       "      <td>Хабаровск</td>\n",
       "      <td>Игорь</td>\n",
       "      <td>Богданов</td>\n",
       "      <td>2018-07-03</td>\n",
       "      <td>smart</td>\n",
       "    </tr>\n",
       "  </tbody>\n",
       "</table>\n",
       "</div>"
      ],
      "text/plain": [
       "     user_id  age churn_date       city first_name  last_name    reg_date  \\\n",
       "304     1304   68        NaN   Владимир       Илья   Соловьёв  2018-11-05   \n",
       "340     1340   50        NaN      Пенза    Тимофей     Алютин  2018-01-30   \n",
       "47      1047   67        NaN    Саратов     Милица  Меркулова  2018-10-29   \n",
       "67      1067   45        NaN     Москва      Юзефа   Абашкина  2018-04-09   \n",
       "479     1479   40        NaN  Хабаровск      Игорь   Богданов  2018-07-03   \n",
       "\n",
       "    tariff  \n",
       "304  ultra  \n",
       "340  smart  \n",
       "47   smart  \n",
       "67   smart  \n",
       "479  smart  "
      ]
     },
     "execution_count": 2,
     "metadata": {},
     "output_type": "execute_result"
    }
   ],
   "source": [
    "users = pd.read_csv('/datasets/users.csv')\n",
    "users.info()\n",
    "users.sample(n=5, random_state=1)"
   ]
  },
  {
   "cell_type": "markdown",
   "metadata": {},
   "source": [
    "Чтение файла с информацией о звонках, вывод информации о датафрейме и 5 произвольных строк:"
   ]
  },
  {
   "cell_type": "code",
   "execution_count": 3,
   "metadata": {},
   "outputs": [
    {
     "name": "stdout",
     "output_type": "stream",
     "text": [
      "<class 'pandas.core.frame.DataFrame'>\n",
      "RangeIndex: 202607 entries, 0 to 202606\n",
      "Data columns (total 4 columns):\n",
      "id           202607 non-null object\n",
      "call_date    202607 non-null object\n",
      "duration     202607 non-null float64\n",
      "user_id      202607 non-null int64\n",
      "dtypes: float64(1), int64(1), object(2)\n",
      "memory usage: 6.2+ MB\n"
     ]
    },
    {
     "data": {
      "text/html": [
       "<div>\n",
       "<style scoped>\n",
       "    .dataframe tbody tr th:only-of-type {\n",
       "        vertical-align: middle;\n",
       "    }\n",
       "\n",
       "    .dataframe tbody tr th {\n",
       "        vertical-align: top;\n",
       "    }\n",
       "\n",
       "    .dataframe thead th {\n",
       "        text-align: right;\n",
       "    }\n",
       "</style>\n",
       "<table border=\"1\" class=\"dataframe\">\n",
       "  <thead>\n",
       "    <tr style=\"text-align: right;\">\n",
       "      <th></th>\n",
       "      <th>id</th>\n",
       "      <th>call_date</th>\n",
       "      <th>duration</th>\n",
       "      <th>user_id</th>\n",
       "    </tr>\n",
       "  </thead>\n",
       "  <tbody>\n",
       "    <tr>\n",
       "      <td>26953</td>\n",
       "      <td>1066_374</td>\n",
       "      <td>2018-08-26</td>\n",
       "      <td>0.00</td>\n",
       "      <td>1066</td>\n",
       "    </tr>\n",
       "    <tr>\n",
       "      <td>66122</td>\n",
       "      <td>1168_1273</td>\n",
       "      <td>2018-03-28</td>\n",
       "      <td>16.05</td>\n",
       "      <td>1168</td>\n",
       "    </tr>\n",
       "    <tr>\n",
       "      <td>67325</td>\n",
       "      <td>1171_350</td>\n",
       "      <td>2018-09-14</td>\n",
       "      <td>6.23</td>\n",
       "      <td>1171</td>\n",
       "    </tr>\n",
       "    <tr>\n",
       "      <td>74643</td>\n",
       "      <td>1186_465</td>\n",
       "      <td>2018-09-02</td>\n",
       "      <td>0.79</td>\n",
       "      <td>1186</td>\n",
       "    </tr>\n",
       "    <tr>\n",
       "      <td>192311</td>\n",
       "      <td>1472_124</td>\n",
       "      <td>2018-05-04</td>\n",
       "      <td>5.94</td>\n",
       "      <td>1472</td>\n",
       "    </tr>\n",
       "  </tbody>\n",
       "</table>\n",
       "</div>"
      ],
      "text/plain": [
       "               id   call_date  duration  user_id\n",
       "26953    1066_374  2018-08-26      0.00     1066\n",
       "66122   1168_1273  2018-03-28     16.05     1168\n",
       "67325    1171_350  2018-09-14      6.23     1171\n",
       "74643    1186_465  2018-09-02      0.79     1186\n",
       "192311   1472_124  2018-05-04      5.94     1472"
      ]
     },
     "execution_count": 3,
     "metadata": {},
     "output_type": "execute_result"
    }
   ],
   "source": [
    "calls = pd.read_csv('/datasets/calls.csv')\n",
    "calls.info()\n",
    "calls.sample(n=5, random_state=1)"
   ]
  },
  {
   "cell_type": "markdown",
   "metadata": {},
   "source": [
    "Чтение файла с информацией о сообщениях, вывод информации о датафрейме и 5 произвольных строк:"
   ]
  },
  {
   "cell_type": "code",
   "execution_count": 4,
   "metadata": {},
   "outputs": [
    {
     "name": "stdout",
     "output_type": "stream",
     "text": [
      "<class 'pandas.core.frame.DataFrame'>\n",
      "RangeIndex: 123036 entries, 0 to 123035\n",
      "Data columns (total 3 columns):\n",
      "id              123036 non-null object\n",
      "message_date    123036 non-null object\n",
      "user_id         123036 non-null int64\n",
      "dtypes: int64(1), object(2)\n",
      "memory usage: 2.8+ MB\n"
     ]
    },
    {
     "data": {
      "text/html": [
       "<div>\n",
       "<style scoped>\n",
       "    .dataframe tbody tr th:only-of-type {\n",
       "        vertical-align: middle;\n",
       "    }\n",
       "\n",
       "    .dataframe tbody tr th {\n",
       "        vertical-align: top;\n",
       "    }\n",
       "\n",
       "    .dataframe thead th {\n",
       "        text-align: right;\n",
       "    }\n",
       "</style>\n",
       "<table border=\"1\" class=\"dataframe\">\n",
       "  <thead>\n",
       "    <tr style=\"text-align: right;\">\n",
       "      <th></th>\n",
       "      <th>id</th>\n",
       "      <th>message_date</th>\n",
       "      <th>user_id</th>\n",
       "    </tr>\n",
       "  </thead>\n",
       "  <tbody>\n",
       "    <tr>\n",
       "      <td>45696</td>\n",
       "      <td>1197_26</td>\n",
       "      <td>2018-12-31</td>\n",
       "      <td>1197</td>\n",
       "    </tr>\n",
       "    <tr>\n",
       "      <td>66091</td>\n",
       "      <td>1282_523</td>\n",
       "      <td>2018-11-30</td>\n",
       "      <td>1282</td>\n",
       "    </tr>\n",
       "    <tr>\n",
       "      <td>18743</td>\n",
       "      <td>1082_184</td>\n",
       "      <td>2018-10-18</td>\n",
       "      <td>1082</td>\n",
       "    </tr>\n",
       "    <tr>\n",
       "      <td>33759</td>\n",
       "      <td>1146_557</td>\n",
       "      <td>2018-12-22</td>\n",
       "      <td>1146</td>\n",
       "    </tr>\n",
       "    <tr>\n",
       "      <td>11403</td>\n",
       "      <td>1048_49</td>\n",
       "      <td>2018-09-27</td>\n",
       "      <td>1048</td>\n",
       "    </tr>\n",
       "  </tbody>\n",
       "</table>\n",
       "</div>"
      ],
      "text/plain": [
       "             id message_date  user_id\n",
       "45696   1197_26   2018-12-31     1197\n",
       "66091  1282_523   2018-11-30     1282\n",
       "18743  1082_184   2018-10-18     1082\n",
       "33759  1146_557   2018-12-22     1146\n",
       "11403   1048_49   2018-09-27     1048"
      ]
     },
     "execution_count": 4,
     "metadata": {},
     "output_type": "execute_result"
    }
   ],
   "source": [
    "messages = pd.read_csv('/datasets/messages.csv')\n",
    "messages.info()\n",
    "messages.sample(n=5, random_state=1)"
   ]
  },
  {
   "cell_type": "markdown",
   "metadata": {},
   "source": [
    "Чтение файла с информацией об интернет-сессиях, вывод информации о датафрейме и 5 произвольных строк:"
   ]
  },
  {
   "cell_type": "code",
   "execution_count": 5,
   "metadata": {},
   "outputs": [
    {
     "name": "stdout",
     "output_type": "stream",
     "text": [
      "<class 'pandas.core.frame.DataFrame'>\n",
      "Int64Index: 149396 entries, 0 to 149395\n",
      "Data columns (total 4 columns):\n",
      "id              149396 non-null object\n",
      "mb_used         149396 non-null float64\n",
      "session_date    149396 non-null object\n",
      "user_id         149396 non-null int64\n",
      "dtypes: float64(1), int64(1), object(2)\n",
      "memory usage: 5.7+ MB\n"
     ]
    },
    {
     "data": {
      "text/html": [
       "<div>\n",
       "<style scoped>\n",
       "    .dataframe tbody tr th:only-of-type {\n",
       "        vertical-align: middle;\n",
       "    }\n",
       "\n",
       "    .dataframe tbody tr th {\n",
       "        vertical-align: top;\n",
       "    }\n",
       "\n",
       "    .dataframe thead th {\n",
       "        text-align: right;\n",
       "    }\n",
       "</style>\n",
       "<table border=\"1\" class=\"dataframe\">\n",
       "  <thead>\n",
       "    <tr style=\"text-align: right;\">\n",
       "      <th></th>\n",
       "      <th>id</th>\n",
       "      <th>mb_used</th>\n",
       "      <th>session_date</th>\n",
       "      <th>user_id</th>\n",
       "    </tr>\n",
       "  </thead>\n",
       "  <tbody>\n",
       "    <tr>\n",
       "      <td>35745</td>\n",
       "      <td>1124_125</td>\n",
       "      <td>122.45</td>\n",
       "      <td>2018-12-03</td>\n",
       "      <td>1124</td>\n",
       "    </tr>\n",
       "    <tr>\n",
       "      <td>18383</td>\n",
       "      <td>1064_102</td>\n",
       "      <td>320.60</td>\n",
       "      <td>2018-12-19</td>\n",
       "      <td>1064</td>\n",
       "    </tr>\n",
       "    <tr>\n",
       "      <td>59774</td>\n",
       "      <td>1203_22</td>\n",
       "      <td>605.96</td>\n",
       "      <td>2018-06-17</td>\n",
       "      <td>1203</td>\n",
       "    </tr>\n",
       "    <tr>\n",
       "      <td>56317</td>\n",
       "      <td>1188_123</td>\n",
       "      <td>781.73</td>\n",
       "      <td>2018-05-08</td>\n",
       "      <td>1188</td>\n",
       "    </tr>\n",
       "    <tr>\n",
       "      <td>52231</td>\n",
       "      <td>1176_386</td>\n",
       "      <td>150.98</td>\n",
       "      <td>2018-08-20</td>\n",
       "      <td>1176</td>\n",
       "    </tr>\n",
       "  </tbody>\n",
       "</table>\n",
       "</div>"
      ],
      "text/plain": [
       "             id  mb_used session_date  user_id\n",
       "35745  1124_125   122.45   2018-12-03     1124\n",
       "18383  1064_102   320.60   2018-12-19     1064\n",
       "59774   1203_22   605.96   2018-06-17     1203\n",
       "56317  1188_123   781.73   2018-05-08     1188\n",
       "52231  1176_386   150.98   2018-08-20     1176"
      ]
     },
     "execution_count": 5,
     "metadata": {},
     "output_type": "execute_result"
    }
   ],
   "source": [
    "internet = pd.read_csv('/datasets/internet.csv', index_col=0)\n",
    "internet.info()\n",
    "internet.sample(n=5, random_state=1)"
   ]
  },
  {
   "cell_type": "markdown",
   "metadata": {},
   "source": [
    "Чтение файла с информацией о тарифах, вывод информации о датафрейме и всех строк датафрейма:"
   ]
  },
  {
   "cell_type": "code",
   "execution_count": 6,
   "metadata": {},
   "outputs": [
    {
     "name": "stdout",
     "output_type": "stream",
     "text": [
      "<class 'pandas.core.frame.DataFrame'>\n",
      "RangeIndex: 2 entries, 0 to 1\n",
      "Data columns (total 8 columns):\n",
      "messages_included        2 non-null int64\n",
      "mb_per_month_included    2 non-null int64\n",
      "minutes_included         2 non-null int64\n",
      "rub_monthly_fee          2 non-null int64\n",
      "rub_per_gb               2 non-null int64\n",
      "rub_per_message          2 non-null int64\n",
      "rub_per_minute           2 non-null int64\n",
      "tariff_name              2 non-null object\n",
      "dtypes: int64(7), object(1)\n",
      "memory usage: 256.0+ bytes\n"
     ]
    },
    {
     "data": {
      "text/html": [
       "<div>\n",
       "<style scoped>\n",
       "    .dataframe tbody tr th:only-of-type {\n",
       "        vertical-align: middle;\n",
       "    }\n",
       "\n",
       "    .dataframe tbody tr th {\n",
       "        vertical-align: top;\n",
       "    }\n",
       "\n",
       "    .dataframe thead th {\n",
       "        text-align: right;\n",
       "    }\n",
       "</style>\n",
       "<table border=\"1\" class=\"dataframe\">\n",
       "  <thead>\n",
       "    <tr style=\"text-align: right;\">\n",
       "      <th></th>\n",
       "      <th>messages_included</th>\n",
       "      <th>mb_per_month_included</th>\n",
       "      <th>minutes_included</th>\n",
       "      <th>rub_monthly_fee</th>\n",
       "      <th>rub_per_gb</th>\n",
       "      <th>rub_per_message</th>\n",
       "      <th>rub_per_minute</th>\n",
       "      <th>tariff_name</th>\n",
       "    </tr>\n",
       "  </thead>\n",
       "  <tbody>\n",
       "    <tr>\n",
       "      <td>0</td>\n",
       "      <td>50</td>\n",
       "      <td>15360</td>\n",
       "      <td>500</td>\n",
       "      <td>550</td>\n",
       "      <td>200</td>\n",
       "      <td>3</td>\n",
       "      <td>3</td>\n",
       "      <td>smart</td>\n",
       "    </tr>\n",
       "    <tr>\n",
       "      <td>1</td>\n",
       "      <td>1000</td>\n",
       "      <td>30720</td>\n",
       "      <td>3000</td>\n",
       "      <td>1950</td>\n",
       "      <td>150</td>\n",
       "      <td>1</td>\n",
       "      <td>1</td>\n",
       "      <td>ultra</td>\n",
       "    </tr>\n",
       "  </tbody>\n",
       "</table>\n",
       "</div>"
      ],
      "text/plain": [
       "   messages_included  mb_per_month_included  minutes_included  \\\n",
       "0                 50                  15360               500   \n",
       "1               1000                  30720              3000   \n",
       "\n",
       "   rub_monthly_fee  rub_per_gb  rub_per_message  rub_per_minute tariff_name  \n",
       "0              550         200                3               3       smart  \n",
       "1             1950         150                1               1       ultra  "
      ]
     },
     "execution_count": 6,
     "metadata": {},
     "output_type": "execute_result"
    }
   ],
   "source": [
    "tariffs = pd.read_csv('/datasets/tariffs.csv')\n",
    "tariffs.info()\n",
    "tariffs"
   ]
  },
  {
   "cell_type": "markdown",
   "metadata": {},
   "source": [
    "**Вывод**\n",
    "\n",
    "Таблица `users` содержит 8 столбцов, из которых 2 имеют целочисленный тип, остальные - строки. В столбце `churn_date` количество данных отличается от количества данных в остальных столбцах, значит, этот столбец содержит пропуски. Из описания мы знаем, что если значение пропущено, то тариф ещё действовал на момент выгрузки данных, однако эти пропуски всё равно нужно будет заполнить, чтобы сделать датафрейм пригодным для анализа. В столбцах `reg_date` и `churn_date` содержаться даты, а тип они имеют строковый, так что в процессе предобработки нужно будет тип изменить на соответствующий, а также перевести тип int64 в целочисленный тип с меньшим потреблением памяти.\n",
    "\n",
    "Таблицы `calls`, `messages`, `internet`, `tariffs` не содержат пропущенных значений, однако с типами данных тоже нужно будет поработать - столбцы с датами перевести в тип \"дата\", оптимизировать целочисленные и вещественные типы для экономии использования памяти."
   ]
  },
  {
   "cell_type": "markdown",
   "metadata": {},
   "source": [
    "<div class=\"alert alert-success\">\n",
    "<b>Комментарий ревьюера v1:</b>\n",
    "\n",
    "Отлично! Первый взгляд на данные есть, предварительный анализ выполнен.\n",
    "    \n",
    "PS: Unnamed: 0 возникает, когда данные сохраняют с указанием индекса pd.DataFrame().to_csv(..., index=column). Если при чтении указать этот столбец pd.read_csv(..., index_col=0) - данные сразу прочитаются корректно. Index_col =0 означает, что первый столбец выбирается как индексy.\n"
   ]
  },
  {
   "cell_type": "markdown",
   "metadata": {},
   "source": [
    "<div class=\"alert alert-info\"> <b>Комментарий студента:</b> Круто! Спасибо, не знала об этой особенности! Поправила чтение файла и убрала блок по удалению столбца `Unnamed: 0` из шага \"Обработка дубликатов\".</div>"
   ]
  },
  {
   "cell_type": "markdown",
   "metadata": {},
   "source": [
    "<div class=\"alert alert-success\">\n",
    "<b>Комментарий ревьюера v2:</b>\n",
    "    \n",
    "🙌\n"
   ]
  },
  {
   "cell_type": "markdown",
   "metadata": {},
   "source": [
    "## Подготовка данных"
   ]
  },
  {
   "cell_type": "markdown",
   "metadata": {},
   "source": [
    "### Обработка пропусков"
   ]
  },
  {
   "cell_type": "markdown",
   "metadata": {},
   "source": [
    "Как было замечено в предыдущем пункте, только таблица `users` содержит пропуски в столбце `churn_date`. Выведем количество пропусков по всем столбцам этой таблицы на экран:"
   ]
  },
  {
   "cell_type": "code",
   "execution_count": 7,
   "metadata": {},
   "outputs": [
    {
     "data": {
      "text/plain": [
       "user_id         0\n",
       "age             0\n",
       "churn_date    462\n",
       "city            0\n",
       "first_name      0\n",
       "last_name       0\n",
       "reg_date        0\n",
       "tariff          0\n",
       "dtype: int64"
      ]
     },
     "execution_count": 7,
     "metadata": {},
     "output_type": "execute_result"
    }
   ],
   "source": [
    "users.isnull().sum()"
   ]
  },
  {
   "cell_type": "markdown",
   "metadata": {},
   "source": [
    "В процессе исследования нам необходимо изучить поведение пользователей, так что маркер о том, что клиент всё ещё пользуется тарифом, для нас важен. В качестве маркера выберем дату в будущем (2100-01-01) - он нам будет показывать, что тариф для клиента активен. Заполним пропуски выбранным значением методом `.fillna()` и сразу же проверим, остались ли отсутствующие значения после заполнения:"
   ]
  },
  {
   "cell_type": "code",
   "execution_count": 8,
   "metadata": {},
   "outputs": [
    {
     "name": "stdout",
     "output_type": "stream",
     "text": [
      "Количество отсутствующих значений столбца churn_date после заполнения пропусков: 0\n"
     ]
    }
   ],
   "source": [
    "users['churn_date'] = users['churn_date'].fillna('2100-01-01')\n",
    "print('Количество отсутствующих значений столбца churn_date после заполнения пропусков:', users['churn_date'].isnull().sum())"
   ]
  },
  {
   "cell_type": "markdown",
   "metadata": {},
   "source": [
    "<div class=\"alert alert-warning\">\n",
    "<b>Комментарий ревьюера v1:</b>\n",
    "\n",
    "Тут я бы посоветовал ставить какую-то совсем большую дату или оставить как есть иначе в новом году окажется, что у активных клиентов уже есть дата завершения контракта."
   ]
  },
  {
   "cell_type": "markdown",
   "metadata": {},
   "source": [
    "<div class=\"alert alert-info\"> <b>Комментарий студента:</b> Спасибо за ценное замечание:) Исправила на дату на 2100-01-01 </div>"
   ]
  },
  {
   "cell_type": "markdown",
   "metadata": {},
   "source": [
    "<div class=\"alert alert-success\">\n",
    "<b>Комментарий ревьюера v2:</b>\n",
    "    \n",
    "Отлично! В качестве другого варианта здесь также можно сделать новый столбец 1/0, где 1 это уже неактивный клиент.\n"
   ]
  },
  {
   "cell_type": "markdown",
   "metadata": {},
   "source": [
    "Проверим отсутствие пропусков в каждом из датафреймов: `users`, `calls`, `messages`, `internet`. Датафрейм `tariffs` проверять не будем, так как он содержит всего 2 строки, которые мы выводили на экран в предыдущем шаге, и смогли визуально увидеть, что пропусков там нет."
   ]
  },
  {
   "cell_type": "code",
   "execution_count": 9,
   "metadata": {},
   "outputs": [
    {
     "data": {
      "text/plain": [
       "user_id       0\n",
       "age           0\n",
       "churn_date    0\n",
       "city          0\n",
       "first_name    0\n",
       "last_name     0\n",
       "reg_date      0\n",
       "tariff        0\n",
       "dtype: int64"
      ]
     },
     "execution_count": 9,
     "metadata": {},
     "output_type": "execute_result"
    }
   ],
   "source": [
    "users.isnull().sum()"
   ]
  },
  {
   "cell_type": "code",
   "execution_count": 10,
   "metadata": {},
   "outputs": [
    {
     "data": {
      "text/plain": [
       "id           0\n",
       "call_date    0\n",
       "duration     0\n",
       "user_id      0\n",
       "dtype: int64"
      ]
     },
     "execution_count": 10,
     "metadata": {},
     "output_type": "execute_result"
    }
   ],
   "source": [
    "calls.isnull().sum()"
   ]
  },
  {
   "cell_type": "code",
   "execution_count": 11,
   "metadata": {},
   "outputs": [
    {
     "data": {
      "text/plain": [
       "id              0\n",
       "message_date    0\n",
       "user_id         0\n",
       "dtype: int64"
      ]
     },
     "execution_count": 11,
     "metadata": {},
     "output_type": "execute_result"
    }
   ],
   "source": [
    "messages.isnull().sum()"
   ]
  },
  {
   "cell_type": "code",
   "execution_count": 12,
   "metadata": {},
   "outputs": [
    {
     "data": {
      "text/plain": [
       "id              0\n",
       "mb_used         0\n",
       "session_date    0\n",
       "user_id         0\n",
       "dtype: int64"
      ]
     },
     "execution_count": 12,
     "metadata": {},
     "output_type": "execute_result"
    }
   ],
   "source": [
    "internet.isnull().sum()"
   ]
  },
  {
   "cell_type": "markdown",
   "metadata": {},
   "source": [
    "**Вывод**\n",
    "\n",
    "Пропуски в таблице `users` по столбцу `churn_date` заполнены. Произведена проверка всех датафреймов на наличие пропусков. В таблицах больше нет отсутствующих значений."
   ]
  },
  {
   "cell_type": "markdown",
   "metadata": {},
   "source": [
    "### Замена типа данных"
   ]
  },
  {
   "cell_type": "markdown",
   "metadata": {},
   "source": [
    "На этапе знакомства с таблицами мы увидели, что некоторые столбцы имеют неудобные для исследования или неэкономичные для памяти типы данных.\n",
    "\n",
    "Датафрейм `users`:\n",
    "- столбцы `reg_date` и `churn_date` содержат даты, а тип данных имеет строковый (object). Переведём эти столбцы в формат даты методом `to_datetime()`;\n",
    "- столбец `age` лучше перевести в беззнаковый целочисленный подтип uint8, так как в нём значения не принимают отрицательных значений и значений, превышающих число 256;\n",
    "- столбец `user_id` по этой же логике переведём в целочисленный подтип uint16 методом `astype()`."
   ]
  },
  {
   "cell_type": "code",
   "execution_count": 13,
   "metadata": {},
   "outputs": [
    {
     "name": "stdout",
     "output_type": "stream",
     "text": [
      "Типы данных в таблице users изменены, результат:\n",
      "\n",
      "<class 'pandas.core.frame.DataFrame'>\n",
      "RangeIndex: 500 entries, 0 to 499\n",
      "Data columns (total 8 columns):\n",
      "user_id       500 non-null uint16\n",
      "age           500 non-null uint8\n",
      "churn_date    500 non-null datetime64[ns]\n",
      "city          500 non-null object\n",
      "first_name    500 non-null object\n",
      "last_name     500 non-null object\n",
      "reg_date      500 non-null datetime64[ns]\n",
      "tariff        500 non-null object\n",
      "dtypes: datetime64[ns](2), object(4), uint16(1), uint8(1)\n",
      "memory usage: 25.0+ KB\n"
     ]
    }
   ],
   "source": [
    "users['reg_date'] = pd.to_datetime(users['reg_date'])\n",
    "users['churn_date'] = pd.to_datetime(users['churn_date'])\n",
    "\n",
    "users['age'] = users['age'].astype('uint8')\n",
    "users['user_id'] = users['user_id'].astype('uint16')\n",
    "\n",
    "print('Типы данных в таблице users изменены, результат:')\n",
    "print()\n",
    "users.info()"
   ]
  },
  {
   "cell_type": "markdown",
   "metadata": {},
   "source": [
    "Датафрейм `calls`:\n",
    "\n",
    "- столбец `call_date` содержит даты, а тип имеет object. Переведём его в  соответствующий формат даты методом `to_datetime()`;\n",
    "- столбец `user_id` переведём в целочисленный подтип uint16 методом `astype()`;\n",
    "- изменим тип данных в столбце `duration` на float32."
   ]
  },
  {
   "cell_type": "code",
   "execution_count": 14,
   "metadata": {},
   "outputs": [
    {
     "name": "stdout",
     "output_type": "stream",
     "text": [
      "Типы данных в таблице calls изменены, результат:\n",
      "\n",
      "<class 'pandas.core.frame.DataFrame'>\n",
      "RangeIndex: 202607 entries, 0 to 202606\n",
      "Data columns (total 4 columns):\n",
      "id           202607 non-null object\n",
      "call_date    202607 non-null datetime64[ns]\n",
      "duration     202607 non-null float32\n",
      "user_id      202607 non-null uint16\n",
      "dtypes: datetime64[ns](1), float32(1), object(1), uint16(1)\n",
      "memory usage: 4.3+ MB\n"
     ]
    }
   ],
   "source": [
    "calls['call_date'] = pd.to_datetime(calls['call_date'])\n",
    "calls['user_id'] = calls['user_id'].astype('uint16')\n",
    "calls['duration'] = calls['duration'].astype('float32')\n",
    "\n",
    "print('Типы данных в таблице calls изменены, результат:')\n",
    "print()\n",
    "calls.info()"
   ]
  },
  {
   "cell_type": "markdown",
   "metadata": {},
   "source": [
    "Датафрейм `messages`:\n",
    "\n",
    "- в столбце `message_date` хранятся даты, поэтому переведём его в соответствующий формат даты методом `to_datetime()`;\n",
    "- столбец `user_id` переведём в целочисленный подтип uint16 методом `astype()`."
   ]
  },
  {
   "cell_type": "code",
   "execution_count": 15,
   "metadata": {},
   "outputs": [
    {
     "name": "stdout",
     "output_type": "stream",
     "text": [
      "Типы данных в таблице messages изменены, результат:\n",
      "\n",
      "<class 'pandas.core.frame.DataFrame'>\n",
      "RangeIndex: 123036 entries, 0 to 123035\n",
      "Data columns (total 3 columns):\n",
      "id              123036 non-null object\n",
      "message_date    123036 non-null datetime64[ns]\n",
      "user_id         123036 non-null uint16\n",
      "dtypes: datetime64[ns](1), object(1), uint16(1)\n",
      "memory usage: 2.1+ MB\n"
     ]
    }
   ],
   "source": [
    "messages['message_date'] = pd.to_datetime(messages['message_date'])\n",
    "messages['user_id'] = messages['user_id'].astype('uint16')\n",
    "\n",
    "print('Типы данных в таблице messages изменены, результат:')\n",
    "print()\n",
    "messages.info()"
   ]
  },
  {
   "cell_type": "markdown",
   "metadata": {},
   "source": [
    "Датафрейм `internet`:\n",
    "\n",
    "- изменим тип данных столбца `session_date` со строкового на \"дата\" методом `to_datetime()`;\n",
    "- столбец `user_id` переведём в целочисленный подтип uint16 методом `astype()`;\n",
    "- изменим тип данных в столбце `mb_used` на float32."
   ]
  },
  {
   "cell_type": "code",
   "execution_count": 16,
   "metadata": {},
   "outputs": [
    {
     "name": "stdout",
     "output_type": "stream",
     "text": [
      "Типы данных в таблице internet изменены, результат:\n",
      "\n",
      "<class 'pandas.core.frame.DataFrame'>\n",
      "Int64Index: 149396 entries, 0 to 149395\n",
      "Data columns (total 4 columns):\n",
      "id              149396 non-null object\n",
      "mb_used         149396 non-null float32\n",
      "session_date    149396 non-null datetime64[ns]\n",
      "user_id         149396 non-null uint16\n",
      "dtypes: datetime64[ns](1), float32(1), object(1), uint16(1)\n",
      "memory usage: 4.3+ MB\n"
     ]
    }
   ],
   "source": [
    "internet['session_date'] = pd.to_datetime(internet['session_date'])\n",
    "internet['user_id'] = internet['user_id'].astype('uint16')\n",
    "internet['mb_used'] = internet['mb_used'].astype('float32')\n",
    "\n",
    "print('Типы данных в таблице internet изменены, результат:')\n",
    "print()\n",
    "internet.info()"
   ]
  },
  {
   "cell_type": "markdown",
   "metadata": {},
   "source": [
    "Датафрейм `tariffs`:\n",
    "- столбцы `rub_per_gb`, `rub_per_message`, `rub_per_minute` переведём в беззнаковый целочисленный подтип uint8, так как в нём значения не принимают отрицательных и превышающих число 256 значений;\n",
    "- столбцы `messages_included`, `mb_per_month_included`, `minutes_included`, `rub_monthly_fee` переведём в целочисленный подтип uint16. Для изменения типов воспользуемся методом `astype()`."
   ]
  },
  {
   "cell_type": "code",
   "execution_count": 17,
   "metadata": {},
   "outputs": [
    {
     "name": "stdout",
     "output_type": "stream",
     "text": [
      "Типы данных в таблице tariffs изменены, результат:\n",
      "\n",
      "<class 'pandas.core.frame.DataFrame'>\n",
      "RangeIndex: 2 entries, 0 to 1\n",
      "Data columns (total 8 columns):\n",
      "messages_included        2 non-null uint16\n",
      "mb_per_month_included    2 non-null uint16\n",
      "minutes_included         2 non-null uint16\n",
      "rub_monthly_fee          2 non-null uint16\n",
      "rub_per_gb               2 non-null uint8\n",
      "rub_per_message          2 non-null uint8\n",
      "rub_per_minute           2 non-null uint8\n",
      "tariff_name              2 non-null object\n",
      "dtypes: object(1), uint16(4), uint8(3)\n",
      "memory usage: 166.0+ bytes\n"
     ]
    }
   ],
   "source": [
    "tariffs['rub_per_gb'] = tariffs['rub_per_gb'].astype('uint8')\n",
    "tariffs['rub_per_message'] = tariffs['rub_per_message'].astype('uint8')\n",
    "tariffs['rub_per_minute'] = tariffs['rub_per_minute'].astype('uint8')\n",
    "\n",
    "tariffs['messages_included'] = tariffs['messages_included'].astype('uint16')\n",
    "tariffs['mb_per_month_included'] = tariffs['mb_per_month_included'].astype('uint16')\n",
    "tariffs['minutes_included'] = tariffs['minutes_included'].astype('uint16')\n",
    "tariffs['rub_monthly_fee'] = tariffs['rub_monthly_fee'].astype('uint16')\n",
    "\n",
    "print('Типы данных в таблице tariffs изменены, результат:')\n",
    "print()\n",
    "tariffs.info()"
   ]
  },
  {
   "cell_type": "markdown",
   "metadata": {},
   "source": [
    "**Вывод**\n",
    "\n",
    "Типы данных в каждом датафрейме приведены к более удобным и логичным. В результате этого потребление памяти удалось снизить на 27%."
   ]
  },
  {
   "cell_type": "markdown",
   "metadata": {},
   "source": [
    "<div class=\"alert alert-success\">\n",
    "<b>Комментарий ревьюера v1:</b>\n",
    "\n",
    "Здорово, что заменила типы данных где нужно и сократила объем используемой памяти на датасет.\n"
   ]
  },
  {
   "cell_type": "markdown",
   "metadata": {},
   "source": [
    "### Обработка дубликатов"
   ]
  },
  {
   "cell_type": "markdown",
   "metadata": {},
   "source": [
    "Проверим наши датафреймы (кроме таблицы `tariffs`) на наличие дубликатов:"
   ]
  },
  {
   "cell_type": "code",
   "execution_count": 18,
   "metadata": {},
   "outputs": [
    {
     "name": "stdout",
     "output_type": "stream",
     "text": [
      "Количество дубликатов в таблице users: 0\n",
      "Количество дубликатов в таблице calls: 0\n",
      "Количество дубликатов в таблице messages: 0\n",
      "Количество дубликатов в таблице internet: 0\n"
     ]
    }
   ],
   "source": [
    "print('Количество дубликатов в таблице users:', users.duplicated().sum())\n",
    "print('Количество дубликатов в таблице calls:', calls.duplicated().sum())\n",
    "print('Количество дубликатов в таблице messages:', messages.duplicated().sum())\n",
    "print('Количество дубликатов в таблице internet:', internet.duplicated().sum())"
   ]
  },
  {
   "cell_type": "markdown",
   "metadata": {},
   "source": [
    "Дубликаты по строкам не обнаружены."
   ]
  },
  {
   "cell_type": "markdown",
   "metadata": {},
   "source": [
    "**Вывод**\n",
    "\n",
    "Каждый из датафреймов был проверен на наличие дублированных строк, в результате дублированные строки не были обнаружены."
   ]
  },
  {
   "cell_type": "markdown",
   "metadata": {},
   "source": [
    "### Подготовка пользовательских данных к анализу"
   ]
  },
  {
   "cell_type": "markdown",
   "metadata": {},
   "source": [
    "Так как в процессе анализа нам необходимо описать поведение пользователей, то наибольший интерес для нас представляют следующие столбцы датафреймов, содержащие количественные значения:\n",
    "- столбец `duration` таблицы `calls`;\n",
    "- столбец `mb_used` таблицы `internet`.\n",
    "\n",
    "Выведем на экран числовое описание этих столбцов:"
   ]
  },
  {
   "cell_type": "code",
   "execution_count": 19,
   "metadata": {},
   "outputs": [
    {
     "data": {
      "text/plain": [
       "count    202607.000000\n",
       "mean          6.755887\n",
       "std           5.843365\n",
       "min           0.000000\n",
       "25%           1.300000\n",
       "50%           6.000000\n",
       "75%          10.700000\n",
       "max          38.000000\n",
       "Name: duration, dtype: float64"
      ]
     },
     "execution_count": 19,
     "metadata": {},
     "output_type": "execute_result"
    }
   ],
   "source": [
    "calls['duration'].describe()"
   ]
  },
  {
   "cell_type": "code",
   "execution_count": 20,
   "metadata": {},
   "outputs": [
    {
     "data": {
      "text/plain": [
       "count    149396.000000\n",
       "mean        370.192444\n",
       "std         278.300964\n",
       "min           0.000000\n",
       "25%         138.187496\n",
       "50%         348.014999\n",
       "75%         559.552490\n",
       "max        1724.829956\n",
       "Name: mb_used, dtype: float64"
      ]
     },
     "execution_count": 20,
     "metadata": {},
     "output_type": "execute_result"
    }
   ],
   "source": [
    "internet['mb_used'].describe()"
   ]
  },
  {
   "cell_type": "markdown",
   "metadata": {},
   "source": [
    "Видно, что по обоим столбцам минимальное значение равно 0.\n",
    "\n",
    "В случае с продолжительностью звонков `calls['duration']` мы знаем, что нулевые значения соответствуют пропущенным звонкам. Так как для анализа поведения пользователей нам необходимо знать не только длительность, но и количество звонков, то нулевые значения здесь удалять не нужно, они нам пригодятся.\n",
    "\n",
    "Если говорить о количестве израсходованных мегабайт интернета `internet['mb_used']`, нулевые значения скорее всего означают, что у пользователя на смартфоне подключен мобильный интернет, но в какие-то дни он им не пользовался. Другими словами, здесь нули означают факт подключения к интернету. В этом случае нулевые значения не представляют для нас никакой ценности, поскольку нам интересен объём потраченного трафика, а не количество интернет-сессий. Поэтому строки с нулевыми значениями по столбцу `mb_used` исключим."
   ]
  },
  {
   "cell_type": "code",
   "execution_count": 21,
   "metadata": {},
   "outputs": [],
   "source": [
    "internet = internet[internet['mb_used'] != 0]\n",
    "internet = internet.reset_index(drop=True)"
   ]
  },
  {
   "cell_type": "markdown",
   "metadata": {},
   "source": [
    "<div class=\"alert alert-success\">\n",
    "<b>Комментарий ревьюера v1:</b>\n",
    "    \n",
    "Здорово, что добавила решение по нулям в данных. Да, их можно оставить, а можно и удалить. Ведь при сборке сводной таблицы они просуммируются, а наш анализ это никак не исказит. Важно было, чтобы ты это заметила и оценила влияние. "
   ]
  },
  {
   "cell_type": "markdown",
   "metadata": {},
   "source": [
    "В датафреймах `calls`, `messages`, `internet` есть столбцы с датами звонка, сообщения и интернет-сессий соответственно. Добавим в эти датафреймы столбцы с месяцем и годом."
   ]
  },
  {
   "cell_type": "code",
   "execution_count": 22,
   "metadata": {},
   "outputs": [],
   "source": [
    "calls['month_year'] = calls['call_date'].dt.to_period('M')\n",
    "messages['month_year'] = messages['message_date'].dt.to_period('M')\n",
    "internet['month_year'] = internet['session_date'].dt.to_period('M')"
   ]
  },
  {
   "cell_type": "markdown",
   "metadata": {},
   "source": [
    "Так как «Мегалайн» всегда округляет секунды до минут, и каждый звонок округляется отдельно (даже если он длился всего 1 секунду, будет засчитан как 1 минута), то округлим количество минут вверх до целого в `calls['duration']`."
   ]
  },
  {
   "cell_type": "code",
   "execution_count": 23,
   "metadata": {},
   "outputs": [],
   "source": [
    "calls['duration'] = np.ceil(calls['duration']).astype('uint16')"
   ]
  },
  {
   "cell_type": "markdown",
   "metadata": {},
   "source": [
    "<div class=\"alert alert-success\">\n",
    "<b>Комментарий ревьюера v1:</b>\n",
    "\n",
    "Супер, что не забыла про округление и использовала функцию np.ceil().\n"
   ]
  },
  {
   "cell_type": "markdown",
   "metadata": {},
   "source": [
    "Сгруппируем данные в таблице `calls` по пользователю и месяцу, а затем посчитаем для каждой группы суммарную продолжительность звонков и их количество (сумма и количество по столбцу `duration`) и сохраним результат в переменную `calls_per_user`. Выведем на экран наименование столбцов получившегося датафрейма."
   ]
  },
  {
   "cell_type": "code",
   "execution_count": 24,
   "metadata": {},
   "outputs": [
    {
     "data": {
      "text/plain": [
       "Index([('user_id', ''), ('month_year', ''), ('duration', 'count'),\n",
       "       ('duration', 'sum')],\n",
       "      dtype='object')"
      ]
     },
     "execution_count": 24,
     "metadata": {},
     "output_type": "execute_result"
    }
   ],
   "source": [
    "calls_per_user = calls.groupby(['user_id', 'month_year']).agg({'duration': ['count', 'sum']}).reset_index()\n",
    "calls_per_user.columns = list(calls_per_user.columns)\n",
    "calls_per_user.columns"
   ]
  },
  {
   "cell_type": "markdown",
   "metadata": {},
   "source": [
    "Переименуем столбцы в датафрейме `calls_per_user`, чтобы избежать возможных ошибок в дальнейшем при объединении таблиц. Чтобы увидеть результат, выведем на экран наименования столбцов."
   ]
  },
  {
   "cell_type": "code",
   "execution_count": 25,
   "metadata": {},
   "outputs": [
    {
     "data": {
      "text/plain": [
       "Index(['user_id', 'month_year', 'calls_quantity', 'sum_calls_duration'], dtype='object')"
      ]
     },
     "execution_count": 25,
     "metadata": {},
     "output_type": "execute_result"
    }
   ],
   "source": [
    "calls_per_user.rename(columns={('user_id',''): 'user_id', ('month_year',''): 'month_year', ('duration', 'count'): 'calls_quantity', ('duration', 'sum'): 'sum_calls_duration'}, inplace=True)\n",
    "calls_per_user.columns"
   ]
  },
  {
   "cell_type": "markdown",
   "metadata": {},
   "source": [
    "Аналогично сгруппируем данные в таблицах `messages` и `internet` по столбцам `user_id` и `month_year`, и посчитаем для каждой группы количество сообщений (количество по столбцу `id`) и суммарный объём интернет-трафика (сумма по столбцу `mb_used`) соответственно. Сохраним результирующие датафреймы в `messages_per_user` и `internet_per_user`. В таблице `messages_per_user` сразу переименуем столбец с неинформативным названием `id`, по которому производится подсчёт количества сообщений, на `messages_quantity`."
   ]
  },
  {
   "cell_type": "code",
   "execution_count": 26,
   "metadata": {},
   "outputs": [],
   "source": [
    "messages_per_user = messages.groupby(['user_id', 'month_year'])['id'].count().reset_index()\n",
    "messages_per_user.rename(columns={'id': 'messages_quantity'}, inplace=True)\n",
    "\n",
    "internet_per_user = internet.groupby(['user_id', 'month_year'])['mb_used'].sum().reset_index()"
   ]
  },
  {
   "cell_type": "markdown",
   "metadata": {},
   "source": [
    "Присоединим к информации о количестве и продолжительности звонков (таблица `calls_per_user`) сначала информацию о количестве смс-сообщений (таблица `messages_per_user`), и сохраним результат в переменной `calls_messages_per_user`. Слияние будем проводить по двум столбцам - `user_id`, `month_year`, а метод слияния выберем `how='outer'`, чтобы никакие данные не потерялись при соединении таблиц."
   ]
  },
  {
   "cell_type": "code",
   "execution_count": 27,
   "metadata": {},
   "outputs": [],
   "source": [
    "calls_messages_per_user = calls_per_user.merge(messages_per_user, on = ['user_id', 'month_year'], how='outer')"
   ]
  },
  {
   "cell_type": "markdown",
   "metadata": {},
   "source": [
    "Теперь к датафрейму `calls_messages_per_user` аналогично присоединим информацию об интернет-трафике (таблица `internet_per_user`). Результат сохраним в итоговый датафрейм `users_behavior`."
   ]
  },
  {
   "cell_type": "code",
   "execution_count": 28,
   "metadata": {},
   "outputs": [],
   "source": [
    "users_behavior = calls_messages_per_user.merge(internet_per_user, on=['user_id', 'month_year'], how='outer')"
   ]
  },
  {
   "cell_type": "markdown",
   "metadata": {},
   "source": [
    "При типе слияния `how='outer'` в итоговой таблице могут появится отсутствующие значения. Например, если пользователь в каком-то месяце пользовался звонками и интернетом, но не отправил ни одного смс-сообщения. Понятно, что такие пропуски нужно заполнить нулевыми значениями. Посмотрим, в каких столбцах датафрейма `users_behavior` есть пропуски:"
   ]
  },
  {
   "cell_type": "markdown",
   "metadata": {},
   "source": [
    "<div class=\"alert alert-success\">\n",
    "<b>Комментарий ревьюера v1:</b>\n",
    "\n",
    "\n",
    "Здорово. how='outer' здесь подходит, чтобы не потерять данныe.\n",
    "\n",
    "Кстати, можно сгруппировать 3 таблицы одновременно с помощью reduce. Почитать можно тут:\n",
    "https://www.codegrepper.com/code-examples/python/merge+more+than+2+dataframes+in+pandas\n",
    "</div>\n"
   ]
  },
  {
   "cell_type": "markdown",
   "metadata": {},
   "source": [
    "<div class=\"alert alert-info\"> <b>Комментарий студента:</b> Спасибо за новый метод .reduce! Сохранила себе ссылку и посмотрела, как он реализуется в коде. Обязательно использую его в следующих своих проектах, так как код с ним выглядит проще и наглядней! </div>"
   ]
  },
  {
   "cell_type": "code",
   "execution_count": 29,
   "metadata": {},
   "outputs": [
    {
     "data": {
      "text/plain": [
       "user_id                 0\n",
       "month_year              0\n",
       "calls_quantity         40\n",
       "sum_calls_duration     40\n",
       "messages_quantity     497\n",
       "mb_used                13\n",
       "dtype: int64"
      ]
     },
     "execution_count": 29,
     "metadata": {},
     "output_type": "execute_result"
    }
   ],
   "source": [
    "users_behavior.isnull().sum()"
   ]
  },
  {
   "cell_type": "markdown",
   "metadata": {},
   "source": [
    "Заполним обнаруженные пропуски нулями:"
   ]
  },
  {
   "cell_type": "code",
   "execution_count": 30,
   "metadata": {},
   "outputs": [
    {
     "name": "stdout",
     "output_type": "stream",
     "text": [
      "Количество отсутствующих значений по столбцам после заполнения пропусков:\n",
      "\n"
     ]
    },
    {
     "data": {
      "text/plain": [
       "user_id               0\n",
       "month_year            0\n",
       "calls_quantity        0\n",
       "sum_calls_duration    0\n",
       "messages_quantity     0\n",
       "mb_used               0\n",
       "dtype: int64"
      ]
     },
     "execution_count": 30,
     "metadata": {},
     "output_type": "execute_result"
    }
   ],
   "source": [
    "users_behavior['calls_quantity'] = users_behavior['calls_quantity'].fillna(0)\n",
    "users_behavior['sum_calls_duration'] = users_behavior['sum_calls_duration'].fillna(0)\n",
    "users_behavior['messages_quantity'] = users_behavior['messages_quantity'].fillna(0)\n",
    "users_behavior['mb_used'] = users_behavior['mb_used'].fillna(0)\n",
    "\n",
    "print('Количество отсутствующих значений по столбцам после заполнения пропусков:')\n",
    "print()\n",
    "users_behavior.isnull().sum()"
   ]
  },
  {
   "cell_type": "markdown",
   "metadata": {},
   "source": [
    "Переведём мегабайты интернет-трафика в гигабайты (1 ГБ = 1024 МВ), так как расчёт идет именно по гигабайтам. Затем округлим гигабайты вверх до целого. Результат запишем в отдельный столбец `gb_used`:"
   ]
  },
  {
   "cell_type": "code",
   "execution_count": 31,
   "metadata": {},
   "outputs": [],
   "source": [
    "users_behavior['gb_used'] = np.ceil(users_behavior['mb_used'] / 1024)"
   ]
  },
  {
   "cell_type": "markdown",
   "metadata": {},
   "source": [
    "<div class=\"alert alert-success\">\n",
    "<b>Комментарий ревьюера v1:</b>\n",
    "\n",
    "\n",
    "Здесь все верно."
   ]
  },
  {
   "cell_type": "markdown",
   "metadata": {},
   "source": [
    "Добавим в таблицу столбец с названием тарифа - это поможет нам рассчитать помесячную выручку с каждого пользователя. Тариф будем брать из таблицы пользователей `users`, в соответствии с `user_id`."
   ]
  },
  {
   "cell_type": "code",
   "execution_count": 32,
   "metadata": {},
   "outputs": [
    {
     "data": {
      "text/html": [
       "<div>\n",
       "<style scoped>\n",
       "    .dataframe tbody tr th:only-of-type {\n",
       "        vertical-align: middle;\n",
       "    }\n",
       "\n",
       "    .dataframe tbody tr th {\n",
       "        vertical-align: top;\n",
       "    }\n",
       "\n",
       "    .dataframe thead th {\n",
       "        text-align: right;\n",
       "    }\n",
       "</style>\n",
       "<table border=\"1\" class=\"dataframe\">\n",
       "  <thead>\n",
       "    <tr style=\"text-align: right;\">\n",
       "      <th></th>\n",
       "      <th>user_id</th>\n",
       "      <th>month_year</th>\n",
       "      <th>calls_quantity</th>\n",
       "      <th>sum_calls_duration</th>\n",
       "      <th>messages_quantity</th>\n",
       "      <th>mb_used</th>\n",
       "      <th>gb_used</th>\n",
       "      <th>tariff</th>\n",
       "    </tr>\n",
       "  </thead>\n",
       "  <tbody>\n",
       "    <tr>\n",
       "      <td>0</td>\n",
       "      <td>1000</td>\n",
       "      <td>2018-05</td>\n",
       "      <td>22.0</td>\n",
       "      <td>159.0</td>\n",
       "      <td>22.0</td>\n",
       "      <td>2253.489990</td>\n",
       "      <td>3.0</td>\n",
       "      <td>ultra</td>\n",
       "    </tr>\n",
       "    <tr>\n",
       "      <td>1</td>\n",
       "      <td>1000</td>\n",
       "      <td>2018-06</td>\n",
       "      <td>43.0</td>\n",
       "      <td>172.0</td>\n",
       "      <td>60.0</td>\n",
       "      <td>23233.769531</td>\n",
       "      <td>23.0</td>\n",
       "      <td>ultra</td>\n",
       "    </tr>\n",
       "    <tr>\n",
       "      <td>2</td>\n",
       "      <td>1000</td>\n",
       "      <td>2018-07</td>\n",
       "      <td>47.0</td>\n",
       "      <td>340.0</td>\n",
       "      <td>75.0</td>\n",
       "      <td>14003.639648</td>\n",
       "      <td>14.0</td>\n",
       "      <td>ultra</td>\n",
       "    </tr>\n",
       "    <tr>\n",
       "      <td>3</td>\n",
       "      <td>1000</td>\n",
       "      <td>2018-08</td>\n",
       "      <td>52.0</td>\n",
       "      <td>408.0</td>\n",
       "      <td>81.0</td>\n",
       "      <td>14055.929688</td>\n",
       "      <td>14.0</td>\n",
       "      <td>ultra</td>\n",
       "    </tr>\n",
       "    <tr>\n",
       "      <td>4</td>\n",
       "      <td>1000</td>\n",
       "      <td>2018-09</td>\n",
       "      <td>58.0</td>\n",
       "      <td>466.0</td>\n",
       "      <td>57.0</td>\n",
       "      <td>14568.910156</td>\n",
       "      <td>15.0</td>\n",
       "      <td>ultra</td>\n",
       "    </tr>\n",
       "    <tr>\n",
       "      <td>5</td>\n",
       "      <td>1000</td>\n",
       "      <td>2018-10</td>\n",
       "      <td>57.0</td>\n",
       "      <td>350.0</td>\n",
       "      <td>73.0</td>\n",
       "      <td>14702.490234</td>\n",
       "      <td>15.0</td>\n",
       "      <td>ultra</td>\n",
       "    </tr>\n",
       "    <tr>\n",
       "      <td>6</td>\n",
       "      <td>1000</td>\n",
       "      <td>2018-11</td>\n",
       "      <td>43.0</td>\n",
       "      <td>338.0</td>\n",
       "      <td>58.0</td>\n",
       "      <td>14756.469727</td>\n",
       "      <td>15.0</td>\n",
       "      <td>ultra</td>\n",
       "    </tr>\n",
       "    <tr>\n",
       "      <td>7</td>\n",
       "      <td>1000</td>\n",
       "      <td>2018-12</td>\n",
       "      <td>46.0</td>\n",
       "      <td>333.0</td>\n",
       "      <td>70.0</td>\n",
       "      <td>9817.610352</td>\n",
       "      <td>10.0</td>\n",
       "      <td>ultra</td>\n",
       "    </tr>\n",
       "    <tr>\n",
       "      <td>8</td>\n",
       "      <td>1001</td>\n",
       "      <td>2018-11</td>\n",
       "      <td>59.0</td>\n",
       "      <td>430.0</td>\n",
       "      <td>0.0</td>\n",
       "      <td>18429.339844</td>\n",
       "      <td>18.0</td>\n",
       "      <td>smart</td>\n",
       "    </tr>\n",
       "    <tr>\n",
       "      <td>9</td>\n",
       "      <td>1001</td>\n",
       "      <td>2018-12</td>\n",
       "      <td>63.0</td>\n",
       "      <td>414.0</td>\n",
       "      <td>0.0</td>\n",
       "      <td>14036.660156</td>\n",
       "      <td>14.0</td>\n",
       "      <td>smart</td>\n",
       "    </tr>\n",
       "  </tbody>\n",
       "</table>\n",
       "</div>"
      ],
      "text/plain": [
       "   user_id month_year  calls_quantity  sum_calls_duration  messages_quantity  \\\n",
       "0     1000    2018-05            22.0               159.0               22.0   \n",
       "1     1000    2018-06            43.0               172.0               60.0   \n",
       "2     1000    2018-07            47.0               340.0               75.0   \n",
       "3     1000    2018-08            52.0               408.0               81.0   \n",
       "4     1000    2018-09            58.0               466.0               57.0   \n",
       "5     1000    2018-10            57.0               350.0               73.0   \n",
       "6     1000    2018-11            43.0               338.0               58.0   \n",
       "7     1000    2018-12            46.0               333.0               70.0   \n",
       "8     1001    2018-11            59.0               430.0                0.0   \n",
       "9     1001    2018-12            63.0               414.0                0.0   \n",
       "\n",
       "        mb_used  gb_used tariff  \n",
       "0   2253.489990      3.0  ultra  \n",
       "1  23233.769531     23.0  ultra  \n",
       "2  14003.639648     14.0  ultra  \n",
       "3  14055.929688     14.0  ultra  \n",
       "4  14568.910156     15.0  ultra  \n",
       "5  14702.490234     15.0  ultra  \n",
       "6  14756.469727     15.0  ultra  \n",
       "7   9817.610352     10.0  ultra  \n",
       "8  18429.339844     18.0  smart  \n",
       "9  14036.660156     14.0  smart  "
      ]
     },
     "execution_count": 32,
     "metadata": {},
     "output_type": "execute_result"
    }
   ],
   "source": [
    "users_behavior['tariff'] = np.nan\n",
    "for i in users.index:\n",
    "    users_behavior.loc[users_behavior['user_id'] == users.loc[i, 'user_id'],'tariff'] = users_behavior.loc[users_behavior['user_id'] == users.loc[i, 'user_id'],'tariff'].fillna(users.loc[i, 'tariff'])\n",
    "    \n",
    "users_behavior.head(10)    "
   ]
  },
  {
   "cell_type": "markdown",
   "metadata": {},
   "source": [
    "Добавим столбец `gain` с помесячной выручкой для каждого пользователя. Для нахождения выручки вычтем бесплатный лимит суммарного количества звонков, сообщений и интернет-трафика, остаток умножим на значение из тарифного плана, прибавим абонентскую плату - всё в соответствии с тарифом - smart или ultra. Если остаток получается отрицательным, т.е. абонент не вышел за пределы включенных в тариф лимитов, то за остаток принимается 0. Напишем функцию для подсчёта выручки, которая берёт значения абонентской платы, лимитов для звонков, сообщений и интернета из таблицы `tariffs`. "
   ]
  },
  {
   "cell_type": "code",
   "execution_count": 33,
   "metadata": {},
   "outputs": [
    {
     "data": {
      "text/html": [
       "<div>\n",
       "<style scoped>\n",
       "    .dataframe tbody tr th:only-of-type {\n",
       "        vertical-align: middle;\n",
       "    }\n",
       "\n",
       "    .dataframe tbody tr th {\n",
       "        vertical-align: top;\n",
       "    }\n",
       "\n",
       "    .dataframe thead th {\n",
       "        text-align: right;\n",
       "    }\n",
       "</style>\n",
       "<table border=\"1\" class=\"dataframe\">\n",
       "  <thead>\n",
       "    <tr style=\"text-align: right;\">\n",
       "      <th></th>\n",
       "      <th>user_id</th>\n",
       "      <th>month_year</th>\n",
       "      <th>calls_quantity</th>\n",
       "      <th>sum_calls_duration</th>\n",
       "      <th>messages_quantity</th>\n",
       "      <th>mb_used</th>\n",
       "      <th>gb_used</th>\n",
       "      <th>tariff</th>\n",
       "      <th>gain</th>\n",
       "    </tr>\n",
       "  </thead>\n",
       "  <tbody>\n",
       "    <tr>\n",
       "      <td>1719</td>\n",
       "      <td>1275</td>\n",
       "      <td>2018-10</td>\n",
       "      <td>77.0</td>\n",
       "      <td>470.0</td>\n",
       "      <td>29.0</td>\n",
       "      <td>18446.070312</td>\n",
       "      <td>19.0</td>\n",
       "      <td>smart</td>\n",
       "      <td>1350.0</td>\n",
       "    </tr>\n",
       "    <tr>\n",
       "      <td>2922</td>\n",
       "      <td>1459</td>\n",
       "      <td>2018-11</td>\n",
       "      <td>82.0</td>\n",
       "      <td>662.0</td>\n",
       "      <td>29.0</td>\n",
       "      <td>15475.200195</td>\n",
       "      <td>16.0</td>\n",
       "      <td>smart</td>\n",
       "      <td>1236.0</td>\n",
       "    </tr>\n",
       "    <tr>\n",
       "      <td>1895</td>\n",
       "      <td>1302</td>\n",
       "      <td>2018-06</td>\n",
       "      <td>27.0</td>\n",
       "      <td>171.0</td>\n",
       "      <td>77.0</td>\n",
       "      <td>19664.109375</td>\n",
       "      <td>20.0</td>\n",
       "      <td>smart</td>\n",
       "      <td>1631.0</td>\n",
       "    </tr>\n",
       "    <tr>\n",
       "      <td>161</td>\n",
       "      <td>1025</td>\n",
       "      <td>2018-03</td>\n",
       "      <td>45.0</td>\n",
       "      <td>323.0</td>\n",
       "      <td>14.0</td>\n",
       "      <td>7332.689941</td>\n",
       "      <td>8.0</td>\n",
       "      <td>smart</td>\n",
       "      <td>550.0</td>\n",
       "    </tr>\n",
       "    <tr>\n",
       "      <td>255</td>\n",
       "      <td>1040</td>\n",
       "      <td>2018-11</td>\n",
       "      <td>54.0</td>\n",
       "      <td>437.0</td>\n",
       "      <td>0.0</td>\n",
       "      <td>19871.371094</td>\n",
       "      <td>20.0</td>\n",
       "      <td>smart</td>\n",
       "      <td>1550.0</td>\n",
       "    </tr>\n",
       "  </tbody>\n",
       "</table>\n",
       "</div>"
      ],
      "text/plain": [
       "      user_id month_year  calls_quantity  sum_calls_duration  \\\n",
       "1719     1275    2018-10            77.0               470.0   \n",
       "2922     1459    2018-11            82.0               662.0   \n",
       "1895     1302    2018-06            27.0               171.0   \n",
       "161      1025    2018-03            45.0               323.0   \n",
       "255      1040    2018-11            54.0               437.0   \n",
       "\n",
       "      messages_quantity       mb_used  gb_used tariff    gain  \n",
       "1719               29.0  18446.070312     19.0  smart  1350.0  \n",
       "2922               29.0  15475.200195     16.0  smart  1236.0  \n",
       "1895               77.0  19664.109375     20.0  smart  1631.0  \n",
       "161                14.0   7332.689941      8.0  smart   550.0  \n",
       "255                 0.0  19871.371094     20.0  smart  1550.0  "
      ]
     },
     "execution_count": 33,
     "metadata": {},
     "output_type": "execute_result"
    }
   ],
   "source": [
    "def profit_func(row):\n",
    "    for i in tariffs.index:\n",
    "        if row['tariff'] == tariffs.loc[i, 'tariff_name']:\n",
    "            return (max(0, (row['sum_calls_duration'] - tariffs.loc[i, 'minutes_included'])) * tariffs.loc[i, 'rub_per_minute']) + (max(0, (row['messages_quantity'] - tariffs.loc[i, 'messages_included'])) * tariffs.loc[i, 'rub_per_message']) + (max(0, (row['gb_used'] - (tariffs.loc[i, 'mb_per_month_included'] / 1024))) * tariffs.loc[i, 'rub_per_gb']) + tariffs.loc[i, 'rub_monthly_fee']\n",
    "        \n",
    "users_behavior['gain'] = users_behavior.apply(profit_func, axis=1)\n",
    "users_behavior.sample(n=5, random_state=1)"
   ]
  },
  {
   "cell_type": "markdown",
   "metadata": {},
   "source": [
    "**Вывод**\n",
    "\n",
    "Мы получили итоговую таблицу `users_behavior`, описывающую поведение абонентов - каким тарифом они пользуются, какое количество звонков совершают и сколько смс отправляют, сколько минут разговора и сколько интрнет-трафика тратят ежемесячно. Также для каждого пользователя посчитали помесячную выручку. Теперь данные готовы для дальнейшего анализа."
   ]
  },
  {
   "cell_type": "markdown",
   "metadata": {},
   "source": [
    "<div class=\"alert alert-success\">\n",
    "<b>Комментарий ревьюера v1:</b>\n",
    " \n",
    "Отлично, расчет выручки выполнен и здорово, что через функцию. \n",
    "\n",
    "Здесь можно также сделать расчет с помощью np.where ([https://numpy.org/doc/stable/reference/generated/numpy.where.html](https://numpy.org/doc/stable/reference/generated/numpy.where.html)):\n",
    "\n",
    "    ```\n",
    "    np.where('условие: если перерасход выполняем второй аргумент','перерасход умножаем на цену', '0')\n",
    "    ```    \n",
    "</div>"
   ]
  },
  {
   "cell_type": "markdown",
   "metadata": {},
   "source": [
    "<div class=\"alert alert-info\"> <b>Комментарий студента:</b> Спасибо большое за альтернативный вариант расчёта! И за такое краткое и наглядное объяснение того, как метод np.where работает! Думаю, он мне точно пригодится в дальнейшем!:) </div>"
   ]
  },
  {
   "cell_type": "markdown",
   "metadata": {},
   "source": [
    "<div class=\"alert alert-success\">\n",
    "<b>Комментарий ревьюера v2:</b>\n",
    "    \n",
    "Здорово :)"
   ]
  },
  {
   "cell_type": "markdown",
   "metadata": {},
   "source": [
    "## Анализ и описание данных"
   ]
  },
  {
   "cell_type": "markdown",
   "metadata": {},
   "source": [
    "Посмотрим, как различается поведение клиентов в зависимости от тарифа. Сохраним пользователей разных тарифов в разные датафреймы:"
   ]
  },
  {
   "cell_type": "code",
   "execution_count": 34,
   "metadata": {},
   "outputs": [],
   "source": [
    "users_behavior_smart = users_behavior[users_behavior['tariff'] == 'smart'].copy()\n",
    "users_behavior_ultra = users_behavior[users_behavior['tariff'] == 'ultra'].copy()"
   ]
  },
  {
   "cell_type": "markdown",
   "metadata": {},
   "source": [
    "Выведем на экран числовое описание выборок по каждому тарифу:"
   ]
  },
  {
   "cell_type": "code",
   "execution_count": 35,
   "metadata": {},
   "outputs": [
    {
     "name": "stdout",
     "output_type": "stream",
     "text": [
      "Числовое описание поведения пользователей тарифа smart:\n"
     ]
    },
    {
     "data": {
      "text/html": [
       "<div>\n",
       "<style scoped>\n",
       "    .dataframe tbody tr th:only-of-type {\n",
       "        vertical-align: middle;\n",
       "    }\n",
       "\n",
       "    .dataframe tbody tr th {\n",
       "        vertical-align: top;\n",
       "    }\n",
       "\n",
       "    .dataframe thead th {\n",
       "        text-align: right;\n",
       "    }\n",
       "</style>\n",
       "<table border=\"1\" class=\"dataframe\">\n",
       "  <thead>\n",
       "    <tr style=\"text-align: right;\">\n",
       "      <th></th>\n",
       "      <th>count</th>\n",
       "      <th>mean</th>\n",
       "      <th>std</th>\n",
       "      <th>min</th>\n",
       "      <th>25%</th>\n",
       "      <th>50%</th>\n",
       "      <th>75%</th>\n",
       "      <th>max</th>\n",
       "    </tr>\n",
       "  </thead>\n",
       "  <tbody>\n",
       "    <tr>\n",
       "      <td>user_id</td>\n",
       "      <td>2229.0</td>\n",
       "      <td>1246.506505</td>\n",
       "      <td>146.119496</td>\n",
       "      <td>1001.0</td>\n",
       "      <td>1121.000000</td>\n",
       "      <td>1239.000000</td>\n",
       "      <td>1376.000000</td>\n",
       "      <td>1499.000000</td>\n",
       "    </tr>\n",
       "    <tr>\n",
       "      <td>calls_quantity</td>\n",
       "      <td>2229.0</td>\n",
       "      <td>58.463437</td>\n",
       "      <td>25.939858</td>\n",
       "      <td>0.0</td>\n",
       "      <td>40.000000</td>\n",
       "      <td>60.000000</td>\n",
       "      <td>76.000000</td>\n",
       "      <td>198.000000</td>\n",
       "    </tr>\n",
       "    <tr>\n",
       "      <td>sum_calls_duration</td>\n",
       "      <td>2229.0</td>\n",
       "      <td>417.934948</td>\n",
       "      <td>190.313730</td>\n",
       "      <td>0.0</td>\n",
       "      <td>282.000000</td>\n",
       "      <td>422.000000</td>\n",
       "      <td>545.000000</td>\n",
       "      <td>1435.000000</td>\n",
       "    </tr>\n",
       "    <tr>\n",
       "      <td>messages_quantity</td>\n",
       "      <td>2229.0</td>\n",
       "      <td>33.384029</td>\n",
       "      <td>28.227876</td>\n",
       "      <td>0.0</td>\n",
       "      <td>10.000000</td>\n",
       "      <td>28.000000</td>\n",
       "      <td>51.000000</td>\n",
       "      <td>143.000000</td>\n",
       "    </tr>\n",
       "    <tr>\n",
       "      <td>mb_used</td>\n",
       "      <td>2229.0</td>\n",
       "      <td>16208.387695</td>\n",
       "      <td>5870.476562</td>\n",
       "      <td>0.0</td>\n",
       "      <td>12643.009766</td>\n",
       "      <td>16506.839844</td>\n",
       "      <td>20042.929688</td>\n",
       "      <td>38552.449219</td>\n",
       "    </tr>\n",
       "    <tr>\n",
       "      <td>gb_used</td>\n",
       "      <td>2229.0</td>\n",
       "      <td>16.328848</td>\n",
       "      <td>5.747061</td>\n",
       "      <td>0.0</td>\n",
       "      <td>13.000000</td>\n",
       "      <td>17.000000</td>\n",
       "      <td>20.000000</td>\n",
       "      <td>38.000000</td>\n",
       "    </tr>\n",
       "    <tr>\n",
       "      <td>gain</td>\n",
       "      <td>2229.0</td>\n",
       "      <td>1289.973531</td>\n",
       "      <td>818.404367</td>\n",
       "      <td>550.0</td>\n",
       "      <td>550.000000</td>\n",
       "      <td>1023.000000</td>\n",
       "      <td>1750.000000</td>\n",
       "      <td>6770.000000</td>\n",
       "    </tr>\n",
       "  </tbody>\n",
       "</table>\n",
       "</div>"
      ],
      "text/plain": [
       "                     count          mean          std     min           25%  \\\n",
       "user_id             2229.0   1246.506505   146.119496  1001.0   1121.000000   \n",
       "calls_quantity      2229.0     58.463437    25.939858     0.0     40.000000   \n",
       "sum_calls_duration  2229.0    417.934948   190.313730     0.0    282.000000   \n",
       "messages_quantity   2229.0     33.384029    28.227876     0.0     10.000000   \n",
       "mb_used             2229.0  16208.387695  5870.476562     0.0  12643.009766   \n",
       "gb_used             2229.0     16.328848     5.747061     0.0     13.000000   \n",
       "gain                2229.0   1289.973531   818.404367   550.0    550.000000   \n",
       "\n",
       "                             50%           75%           max  \n",
       "user_id              1239.000000   1376.000000   1499.000000  \n",
       "calls_quantity         60.000000     76.000000    198.000000  \n",
       "sum_calls_duration    422.000000    545.000000   1435.000000  \n",
       "messages_quantity      28.000000     51.000000    143.000000  \n",
       "mb_used             16506.839844  20042.929688  38552.449219  \n",
       "gb_used                17.000000     20.000000     38.000000  \n",
       "gain                 1023.000000   1750.000000   6770.000000  "
      ]
     },
     "execution_count": 35,
     "metadata": {},
     "output_type": "execute_result"
    }
   ],
   "source": [
    "print('Числовое описание поведения пользователей тарифа smart:')\n",
    "users_behavior_smart.describe().T"
   ]
  },
  {
   "cell_type": "code",
   "execution_count": 36,
   "metadata": {},
   "outputs": [
    {
     "name": "stdout",
     "output_type": "stream",
     "text": [
      "Числовое описание поведения пользователей тарифа ultra:\n"
     ]
    },
    {
     "data": {
      "text/html": [
       "<div>\n",
       "<style scoped>\n",
       "    .dataframe tbody tr th:only-of-type {\n",
       "        vertical-align: middle;\n",
       "    }\n",
       "\n",
       "    .dataframe tbody tr th {\n",
       "        vertical-align: top;\n",
       "    }\n",
       "\n",
       "    .dataframe thead th {\n",
       "        text-align: right;\n",
       "    }\n",
       "</style>\n",
       "<table border=\"1\" class=\"dataframe\">\n",
       "  <thead>\n",
       "    <tr style=\"text-align: right;\">\n",
       "      <th></th>\n",
       "      <th>count</th>\n",
       "      <th>mean</th>\n",
       "      <th>std</th>\n",
       "      <th>min</th>\n",
       "      <th>25%</th>\n",
       "      <th>50%</th>\n",
       "      <th>75%</th>\n",
       "      <th>max</th>\n",
       "    </tr>\n",
       "  </thead>\n",
       "  <tbody>\n",
       "    <tr>\n",
       "      <td>user_id</td>\n",
       "      <td>985.0</td>\n",
       "      <td>1263.094416</td>\n",
       "      <td>140.694908</td>\n",
       "      <td>1000.0</td>\n",
       "      <td>1143.000000</td>\n",
       "      <td>1277.000000</td>\n",
       "      <td>1381.000000</td>\n",
       "      <td>1495.000000</td>\n",
       "    </tr>\n",
       "    <tr>\n",
       "      <td>calls_quantity</td>\n",
       "      <td>985.0</td>\n",
       "      <td>73.392893</td>\n",
       "      <td>43.916853</td>\n",
       "      <td>0.0</td>\n",
       "      <td>41.000000</td>\n",
       "      <td>74.000000</td>\n",
       "      <td>104.000000</td>\n",
       "      <td>244.000000</td>\n",
       "    </tr>\n",
       "    <tr>\n",
       "      <td>sum_calls_duration</td>\n",
       "      <td>985.0</td>\n",
       "      <td>526.623350</td>\n",
       "      <td>317.606098</td>\n",
       "      <td>0.0</td>\n",
       "      <td>284.000000</td>\n",
       "      <td>518.000000</td>\n",
       "      <td>752.000000</td>\n",
       "      <td>1673.000000</td>\n",
       "    </tr>\n",
       "    <tr>\n",
       "      <td>messages_quantity</td>\n",
       "      <td>985.0</td>\n",
       "      <td>49.363452</td>\n",
       "      <td>47.804457</td>\n",
       "      <td>0.0</td>\n",
       "      <td>6.000000</td>\n",
       "      <td>38.000000</td>\n",
       "      <td>79.000000</td>\n",
       "      <td>224.000000</td>\n",
       "    </tr>\n",
       "    <tr>\n",
       "      <td>mb_used</td>\n",
       "      <td>985.0</td>\n",
       "      <td>19468.804688</td>\n",
       "      <td>10087.170898</td>\n",
       "      <td>0.0</td>\n",
       "      <td>11770.259766</td>\n",
       "      <td>19308.009766</td>\n",
       "      <td>26837.689453</td>\n",
       "      <td>49745.691406</td>\n",
       "    </tr>\n",
       "    <tr>\n",
       "      <td>gb_used</td>\n",
       "      <td>985.0</td>\n",
       "      <td>19.494417</td>\n",
       "      <td>9.853511</td>\n",
       "      <td>0.0</td>\n",
       "      <td>12.000000</td>\n",
       "      <td>19.000000</td>\n",
       "      <td>27.000000</td>\n",
       "      <td>49.000000</td>\n",
       "    </tr>\n",
       "    <tr>\n",
       "      <td>gain</td>\n",
       "      <td>985.0</td>\n",
       "      <td>2070.152284</td>\n",
       "      <td>376.187114</td>\n",
       "      <td>1950.0</td>\n",
       "      <td>1950.000000</td>\n",
       "      <td>1950.000000</td>\n",
       "      <td>1950.000000</td>\n",
       "      <td>4800.000000</td>\n",
       "    </tr>\n",
       "  </tbody>\n",
       "</table>\n",
       "</div>"
      ],
      "text/plain": [
       "                    count          mean           std     min           25%  \\\n",
       "user_id             985.0   1263.094416    140.694908  1000.0   1143.000000   \n",
       "calls_quantity      985.0     73.392893     43.916853     0.0     41.000000   \n",
       "sum_calls_duration  985.0    526.623350    317.606098     0.0    284.000000   \n",
       "messages_quantity   985.0     49.363452     47.804457     0.0      6.000000   \n",
       "mb_used             985.0  19468.804688  10087.170898     0.0  11770.259766   \n",
       "gb_used             985.0     19.494417      9.853511     0.0     12.000000   \n",
       "gain                985.0   2070.152284    376.187114  1950.0   1950.000000   \n",
       "\n",
       "                             50%           75%           max  \n",
       "user_id              1277.000000   1381.000000   1495.000000  \n",
       "calls_quantity         74.000000    104.000000    244.000000  \n",
       "sum_calls_duration    518.000000    752.000000   1673.000000  \n",
       "messages_quantity      38.000000     79.000000    224.000000  \n",
       "mb_used             19308.009766  26837.689453  49745.691406  \n",
       "gb_used                19.000000     27.000000     49.000000  \n",
       "gain                 1950.000000   1950.000000   4800.000000  "
      ]
     },
     "execution_count": 36,
     "metadata": {},
     "output_type": "execute_result"
    }
   ],
   "source": [
    "print('Числовое описание поведения пользователей тарифа ultra:')\n",
    "users_behavior_ultra.describe().T"
   ]
  },
  {
   "cell_type": "markdown",
   "metadata": {},
   "source": [
    "Видно, что количество пользователей более дорогого тарифа ultra более чем в 2 раза меньше, чем бюджетного smart, и это предсказуемо - большинство людей любят экономить и выбирают тариф с более низкой абонентской платой. Если проанализировать другие характеристики выборок, то придём к таким выводам:\n",
    "\n",
    "- Средняя и медианная выручки от пользователей smart приблизительно в 2 раза больше, чем абонентская плата;\n",
    "- Средняя и медиана выручки по тарифу ultra примерно равна абонентской плате;\n",
    "- Максимальная выручка в выборке по тарифу smart почти в 1,5 раза выше, чем максимум по выборке ultra;\n",
    "- Среднее и медианное значения использованного интернет-трафика в тарифе smart превышают включенный в абонентскую плату лимит;\n",
    "- Медиана по интернет-трафику тарифа smart всего на 10% меньше аналогичной медианы по тарифу ultra;\n",
    "- Среднее и медианное значения по количеству звонков в выборке по пользователям тарифа ultra всего на 19% превышает среднее и медианное количество звонков по тарифу smart. Примерно так же отличаются средние и медианы по продолжительности звонков в обоих тарифах. При этом количество включенных в абонентскую плату минут в тарифе ultra в 6 раз превышает количество в тарифе smart.\n",
    "\n",
    "В целом заметно, что пользователи бюджетного тарифного плана допускают гораздо больше переплат, чем абоненты более дорогого тарифа. Превышение лимитов тарифа smart есть в выборке по всем пунктам (минуты разговора, смс, интернет). А вот у ultra, судя по выборке, превышение происходит в основном только по интернет-трафику.\n",
    "<br><br>\n",
    "\n",
    "Выведем на экран среднее, дисперсию и стандартное отклонение для выборок по каждому из тарифов. Так как мы имеем дело не с генеральной совокупностью всех абонентов, а с выборкой, то при расчёте дисперсии добавим в метод `.var()` параметр `ddof=1`."
   ]
  },
  {
   "cell_type": "code",
   "execution_count": 37,
   "metadata": {},
   "outputs": [
    {
     "name": "stdout",
     "output_type": "stream",
     "text": [
      "Статистики выборки для тарифа smart:\n",
      "Cреднее по столбцу sum_calls_duration : 417.9349484073576\n",
      "Дисперсия по столбцу sum_calls_duration : 36219.31578434428\n",
      "Стандартное отклонение по столбцу sum_calls_duration : 190.27103471651876\n",
      "\n",
      "Cреднее по столбцу messages_quantity : 33.384028712427096\n",
      "Дисперсия по столбцу messages_quantity : 796.8129584480083\n",
      "Стандартное отклонение по столбцу messages_quantity : 28.221542886898938\n",
      "\n",
      "Cреднее по столбцу gb_used : 16.328848\n",
      "Дисперсия по столбцу gb_used : 33.028706\n",
      "Стандартное отклонение по столбцу gb_used : 5.745771\n",
      "\n",
      "Cреднее по столбцу gain : 1289.9735307312696\n",
      "Дисперсия по столбцу gain : 669785.7080064242\n",
      "Стандартное отклонение по столбцу gain : 818.2207653949051\n",
      "\n",
      "\n",
      "Статистики выборки для тарифа ultra:\n",
      "Cреднее по столбцу sum_calls_duration : 526.6233502538071\n",
      "Дисперсия по столбцу sum_calls_duration : 100873.63339730098\n",
      "Стандартное отклонение по столбцу sum_calls_duration : 317.44483554974113\n",
      "\n",
      "Cреднее по столбцу messages_quantity : 49.36345177664975\n",
      "Дисперсия по столбцу messages_quantity : 2285.2661425446736\n",
      "Стандартное отклонение по столбцу messages_quantity : 47.78018496610161\n",
      "\n",
      "Cреднее по столбцу gb_used : 19.494417\n",
      "Дисперсия по столбцу gb_used : 97.09168\n",
      "Стандартное отклонение по столбцу gb_used : 9.848509\n",
      "\n",
      "Cреднее по столбцу gain : 2070.1522842639592\n",
      "Дисперсия по столбцу gain : 141516.7450786183\n",
      "Стандартное отклонение по столбцу gain : 375.9961080333192\n",
      "\n"
     ]
    }
   ],
   "source": [
    "list_of_columns = ['sum_calls_duration', 'messages_quantity', 'gb_used', 'gain']\n",
    "\n",
    "print('Статистики выборки для тарифа smart:')\n",
    "for column in list_of_columns:\n",
    "    print('Cреднее по столбцу', column, ':', users_behavior_smart[column].mean())\n",
    "    print('Дисперсия по столбцу', column, ':', np.var(users_behavior_smart[column], ddof=1))\n",
    "    print('Стандартное отклонение по столбцу', column, ':', np.std(users_behavior_smart[column]))\n",
    "    print()\n",
    "\n",
    "print()\n",
    "print('Статистики выборки для тарифа ultra:')\n",
    "for column in list_of_columns:\n",
    "    print('Cреднее по столбцу', column, ':', users_behavior_ultra[column].mean())\n",
    "    print('Дисперсия по столбцу', column, ':', np.var(users_behavior_ultra[column], ddof=1))\n",
    "    print('Стандартное отклонение по столбцу', column, ':', np.std(users_behavior_ultra[column]))\n",
    "    print()"
   ]
  },
  {
   "cell_type": "markdown",
   "metadata": {},
   "source": [
    "Дисперсия и стандартное отклонение показывают, насколько сильно значения в выборке разбросаны вокруг среднего арифметического. Дисперсия выражется в квадратах единиц измерений, а стандартное отклонение - в единицах измерения, поэтому эта характеристика для нас наглядней. Низкое стандартное отклонение указывает на то, что значения обладают тенденцией быть близкими к среднему, в то время как высокое стандартное отклонение указывает, что значения разбросаны в более широком диапазоне.\n",
    "\n",
    "Разброс значений по каждому из параметров - длительность разговора, количество сообщений и объём интернет-трафика - больше в выборке по тарифу ultra, чем по тарифу smart. Однако это не касается выручки `gain` - здесь стандартное отклонение по тарифу smart примерно в 2.2 раза больше, чем по ultra, т.е. значения разбросаны сильнее! Как уже и было замечено, это связано с большим количеством перерасходов у пользователей smart-a.\n",
    "<br><br>"
   ]
  },
  {
   "cell_type": "markdown",
   "metadata": {},
   "source": [
    "Построим гистограммы по столбцам `'sum_calls_duration', 'messages_quantity', 'gb_used', 'gain'` обеих таблиц `users_behavior_smart` и `users_behavior_ultra`."
   ]
  },
  {
   "cell_type": "code",
   "execution_count": 38,
   "metadata": {
    "scrolled": false
   },
   "outputs": [
    {
     "name": "stdout",
     "output_type": "stream",
     "text": [
      "Гистограммы по выборке для тарифа smart:\n"
     ]
    },
    {
     "data": {
      "image/png": "[encoded data removed]",
      "text/plain": [
       "<Figure size 1440x720 with 1 Axes>"
      ]
     },
     "metadata": {
      "needs_background": "light"
     },
     "output_type": "display_data"
    },
    {
     "data": {
      "image/png": "[encoded data removed]",
      "text/plain": [
       "<Figure size 1440x720 with 1 Axes>"
      ]
     },
     "metadata": {
      "needs_background": "light"
     },
     "output_type": "display_data"
    },
    {
     "data": {
      "image/png": "[encoded data removed]",
      "text/plain": [
       "<Figure size 1440x720 with 1 Axes>"
      ]
     },
     "metadata": {
      "needs_background": "light"
     },
     "output_type": "display_data"
    },
    {
     "data": {
      "image/png": "[encoded data removed]",
      "text/plain": [
       "<Figure size 1440x720 with 1 Axes>"
      ]
     },
     "metadata": {
      "needs_background": "light"
     },
     "output_type": "display_data"
    }
   ],
   "source": [
    "dict_of_columns = {'sum_calls_duration' : 'Суммарная продолжительность разговора, мин', 'messages_quantity' : 'Количество отправленных сообщений, шт.', 'gb_used' : 'Объём использованного интернет-трафика, ГБ', 'gain' : 'Выручка, руб.'}\n",
    "\n",
    "print('Гистограммы по выборке для тарифа smart:')\n",
    "\n",
    "for column in dict_of_columns.keys():\n",
    "    ax = users_behavior_smart[column].plot(kind = 'hist', figsize = (20,10), grid=True, bins=112)\n",
    "    ax.set_title('Гистограмма по столбцу ' + column)\n",
    "    ax.set_xlabel(dict_of_columns[column], fontsize = 12)\n",
    "    ax.set_ylabel('Частота, шт.', fontsize = 12)\n",
    "    plt.show()"
   ]
  },
  {
   "cell_type": "markdown",
   "metadata": {},
   "source": [
    "Гистограмма по суммарной продолжительности разговора для тарифа smart имеет колоколообразный вид. Большинство значений лежит в интервале от 300 до 550 минут, при среднем арифметическом в 418 минут. Примерно 30% значений лежит в области, выходящей за включенный в абонентскую плату предел в 500 минут. Гистограмма показывает, что датасет по продолжительности разговора скошен влево.\n",
    "\n",
    "Гистограмма по количеству сообщений имеет один большой локальный максимум около 0. Это ожидаемое явление - с приходом в нашу жизнь мессенджеров люди всё реже пользуются услугой sms. За значением 0 мы видим очень пологий \"колокол\", скошенный вправо, с довольно длинным \"хвостом\".\n",
    "\n",
    "Гистограмма по использованному интернет-трафику представляет из себя почти симметричный \"колокол\", где среднее и медиана практически равны между собой. Однако отчетливо видна небольшая скошенность вправо. Медианное значение выборки лежит за пределами включенного в тарифный план лимита в 15 ГБ, это значит, что более чем в половине случаев пользователи перерасходуют интернет-трафик. \n",
    "\n",
    "Гистограмма по выручке имеет пик на значении 550 руб. - одновременно это значение является первым квартилем для выборки. Другими словами, пользователи тарифа smart укладываются в лимит лишь в 25% случаев; в 75% случаев пользователи доплачивают за перерасход. Гистограмма имеет ритмичные убывающие пики, которые угасают с возрастанием значений выручки. Такие пики возникают из-за того, что за 1 ГБ перерасхода по интернет-трафику пользователь платит 200 руб, что сразу вносит значимый вклад в размер выручки (особенно если сравнить со стоимостью перерасхода по минутам - 3 руб/мин, и по сообщениям - 3 руб/сообщение)."
   ]
  },
  {
   "cell_type": "code",
   "execution_count": 39,
   "metadata": {
    "scrolled": false
   },
   "outputs": [
    {
     "name": "stdout",
     "output_type": "stream",
     "text": [
      "Гистограммы по выборке для тарифа ultra:\n"
     ]
    },
    {
     "data": {
      "image/png": "[encoded data removed]",
      "text/plain": [
       "<Figure size 1440x720 with 1 Axes>"
      ]
     },
     "metadata": {
      "needs_background": "light"
     },
     "output_type": "display_data"
    },
    {
     "data": {
      "image/png": "[encoded data removed]",
      "text/plain": [
       "<Figure size 1440x720 with 1 Axes>"
      ]
     },
     "metadata": {
      "needs_background": "light"
     },
     "output_type": "display_data"
    },
    {
     "data": {
      "image/png": "[encoded data removed]",
      "text/plain": [
       "<Figure size 1440x720 with 1 Axes>"
      ]
     },
     "metadata": {
      "needs_background": "light"
     },
     "output_type": "display_data"
    },
    {
     "data": {
      "image/png": "[encoded data removed]",
      "text/plain": [
       "<Figure size 1440x720 with 1 Axes>"
      ]
     },
     "metadata": {
      "needs_background": "light"
     },
     "output_type": "display_data"
    }
   ],
   "source": [
    "print('Гистограммы по выборке для тарифа ultra:')\n",
    "\n",
    "for column in dict_of_columns.keys():\n",
    "    ax = users_behavior_ultra[column].plot(kind = 'hist', figsize = (20,10), grid=True, bins=99)\n",
    "    ax.set_title('Гистограмма по столбцу ' + column)\n",
    "    ax.set_xlabel(dict_of_columns[column], fontsize = 12)\n",
    "    ax.set_ylabel('Частота, шт.', fontsize = 12)\n",
    "    plt.show()"
   ]
  },
  {
   "cell_type": "markdown",
   "metadata": {},
   "source": [
    "Теперь опишем гистограммы по параметрам тарифа ultra.\n",
    "\n",
    "Гистограмма по продолжительности разговора имеет энергичный максимум у нулевого значения. То есть в значительной части случаев звонки не используются, что может быть связано с хорошим лимитом включенного в тариф интернета - 30 ГБ, и пользователи предпочитают звонки из мессенджеров. Несмотря на то, что в тариф также включено 3000 мин разговора, ни в одном случае этот лимит не был достигнут, а максимум зарегистрирован на значении в 1673 минуты.\n",
    "\n",
    "По гистограмме по количеству сообщений также виден максимум на значении 0. Тут наверняка \"виноваты\" те же мессенджеры. В целом пользователи неохотно пользуются возможностью отправки смс-сообщений, что подтверждается тем, что лимит в 1000 сообщений не был достигнут ни разу. Более того, медиана по выборке равна 38 сообщениям, а максимум - это 224 сообщения. По форме гистограмма не похожа на колокол, и имеет длинный \"хвост\" редких значений, который начинается приблизительно от значения 100.\n",
    "\n",
    "Гистограмма по объёму использованного интернета имеет колоколообразную структуру. Здесь заметно, что в более чем 75% случаев пользователи укладываются во включенный в абонентскую плату лимит в 30 ГБ. Медианное и среднее значение в этой выборке также практически совпадают.\n",
    "\n",
    "Весьма интересный вид имеет гистограмма по параметру \"Выручка\" - виден один большой пик на значении 1950 руб. - это размер абонентской платы для тарифа ultra. Более 75% значений выручки находятся на этой отметке. Остальные значения в выборке встречаются довольно редко."
   ]
  },
  {
   "cell_type": "markdown",
   "metadata": {},
   "source": [
    "Для более наглядного сравнения выведем гистограммы по выручке двух тарифов - Smart и Ultra на одном графике:"
   ]
  },
  {
   "cell_type": "code",
   "execution_count": 40,
   "metadata": {},
   "outputs": [
    {
     "data": {
      "image/png": "[encoded data removed]",
      "text/plain": [
       "<Figure size 1440x720 with 1 Axes>"
      ]
     },
     "metadata": {
      "needs_background": "light"
     },
     "output_type": "display_data"
    }
   ],
   "source": [
    "ax1 = users_behavior_smart['gain'].plot(kind = 'hist', figsize = (20,10), grid=True, bins=100, label='Smart')\n",
    "ax2 = users_behavior_ultra['gain'].plot(kind = 'hist', figsize = (20,10), grid=True, bins=100, label='Ultra')\n",
    "ax1.set_title('Помесячная выручка, руб.')\n",
    "ax1.set_xlabel('Выручка, руб.', fontsize = 12)\n",
    "ax1.set_ylabel('Частота, шт.', fontsize = 12)\n",
    "ax1.legend(loc = 'upper right')\n",
    "ax2.legend(loc = 'upper right')\n",
    "plt.show()"
   ]
  },
  {
   "cell_type": "markdown",
   "metadata": {},
   "source": [
    "**Вывод**\n",
    "\n",
    "Пользователям тарифа smart в среднем требуется 418 минут разговора ежемесячно - это значение лежит довольно близко к лимиту в 500 минут, включенному в данный тарифный план. Около 30% пользователей перерасходуют этот лимит. В тариф также включено 50 сообщений и 15 ГБ интернет-трафика. В около 75% случаев пользователям smart хватает такого лимита сообщений, а вот гигабайтов интернета многим не хватает - среднее в 16,33 ГБ и медиана в 17 ГБ уже лежат вне включенного в тариф объёма. Это означает, что в более чем половине случаев пользователи вынуждены докупать интернет-трафик.\n",
    "\n",
    "Пользователи тарифа ultra тратят в среднем 527 минут разговора в месяц, а максимум по выборке достигается на отметке в 1673 минуты при лимите в 3000 минут. Другими словами, абонентам включенных в тариф минут разговора хватает сполна. Похожая ситуация складывается с смс-ками: в тариф включено 1000 сообщений, а абоненты в среднем тратят всего около 50 сообщений, при этом максимальное значение - 224 отправленных сообщений за месяц. И только по объёму интернет-трафика наблюдаются перерасходы, но и они происходят довольно редко - менее чем в 25% случаев.\n",
    "\n",
    "Абоненты тарифа smart перерасходуют свои лимиты намного чаще, чем абоненты ultra."
   ]
  },
  {
   "cell_type": "markdown",
   "metadata": {},
   "source": [
    "<div class=\"alert alert-success\">\n",
    "<b>Комментарий ревьюера v1:</b>\n",
    "\n",
    "В целом отличная аналитика, выводы и предположения. Наглядная и аккуратная визуализация данных. \n",
    "\n",
    "Было бы круто попробовать наложить два тарифа на один график, для более наглядного сравнения.\n",
    "\n",
    "Если бы у нас было 3 и более тарифов для сравнения, то проще было бы использовать диаграмму размаха для анализа данных (разброс, средние значения и т.д.) в дополнение к гистограмме распределения. Но если есть время и желание попрактиковаться, то можно вывести два графика (гистограмму и диаграмму размаха) с помощью сабплота в две колонки.\n",
    "    \n",
    "    # Создадим одну строку с двумя колонками\n",
    "    fig, axes = plt.subplots(1, 2, figsize=(16, 5))\n",
    "    \n",
    "    sns.distplot(...)\n",
    "    ...\n",
    "    sns.boxplot(...)\n",
    "    \n",
    "    ...\n",
    "\n",
    "\n",
    "</div>"
   ]
  },
  {
   "cell_type": "markdown",
   "metadata": {},
   "source": [
    "<div class=\"alert alert-info\"> <b>Комментарий студента:</b> Сделала наложение двух тарифов на одном графике по выручке. Идея сделать два графика в две колонки мне очень нравится! Но я никогда не работала с библиотекой seaborn (а sns перед методами в твоей подсказке, как я понимаю, именно она:)). Обязательно разберусь с ней немного позже, т.к. сейчас по времени нет возможности, к сожалению) </div>"
   ]
  },
  {
   "cell_type": "markdown",
   "metadata": {},
   "source": [
    "<div class=\"alert alert-success\">\n",
    "<b>Комментарий ревьюера v2:</b>\n",
    "    \n",
    "У вас как раз будет отдельный спринт по визуализации данных, где seaborn подробно разбирается, поэтому здесь мы даже забежали вперед."
   ]
  },
  {
   "cell_type": "markdown",
   "metadata": {},
   "source": [
    "## Проверка гипотез и пояснения"
   ]
  },
  {
   "cell_type": "markdown",
   "metadata": {},
   "source": [
    "Проверим гипотезу о том, что средняя выручка пользователей тарифов \"Ультра\" и \"Смарт\" различаются. Начнём с формулировки нулевой гипотезы. Поскольку нулевая гипотеза всегда формулируется так, чтобы использовать знак равенства, то в нашем случае она будет звучать так:<br><br>\n",
    "*Средняя выручка пользователей тарифов \"Ультра\" и \"Смарт\" равны*,<br><br>\n",
    "а альтернативную гипотезу для такой нулевой гипотезы сформулируем как:<br><br>\n",
    "*Средняя выручка пользователей тарифов \"Ультра\" и \"Смарт\" различаются*<br><br>\n",
    "Так как мы проверяем равенство средних двух независимых генеральных совокупностей по их выборкам, то для проверки гипотезы используем метод `.ttest_ind()` из библиотеки `scipy`, применив его к столбцам с выручкой из выборок по тарифам ultra и smart. Из предыдущего шага мы увидели, что дисперсии по выручке обеих выборок ощутимо отличаются друг от друга, поэтому передадим в метод параметр `equal_var` со значением `False`. Установим критический уровень статистической значимости 5%. "
   ]
  },
  {
   "cell_type": "code",
   "execution_count": 41,
   "metadata": {},
   "outputs": [
    {
     "name": "stdout",
     "output_type": "stream",
     "text": [
      "p-значение: 4.2606313931076085e-250\n",
      "Отвергаем нулевую гипотезу\n"
     ]
    }
   ],
   "source": [
    "alpha = 0.05  # критический уровень статистической значимости\n",
    "\n",
    "results = st.ttest_ind(users_behavior_smart['gain'], users_behavior_ultra['gain'], equal_var = False)\n",
    "\n",
    "print('p-значение:', results.pvalue)\n",
    "\n",
    "if results.pvalue < alpha:\n",
    "    print('Отвергаем нулевую гипотезу')\n",
    "else:\n",
    "    print('Не получилось отвергнуть нулевую гипотезу') "
   ]
  },
  {
   "cell_type": "markdown",
   "metadata": {},
   "source": [
    "Видим, что `pvalue` получился очень близким к нулю, и мы отвергаем нулевую гипотезу. Значит, мы не отвергаем альтернативную гипотезу о том, что средняя выручка пользователей тарифов \"Ультра\" и \"Смарт\" различаются.\n",
    "\n",
    "<br><br><br>"
   ]
  },
  {
   "cell_type": "markdown",
   "metadata": {},
   "source": [
    "Теперь проанализируем среднюю выручку от клиентов из Москвы и из других регионов.\n",
    "Для этого добавим в общий датафрейм `users_behavior` столбец с городом пользователя `city`, а затем выделим две выборки - пользователей из Москвы и пользователей из других регионов и посчитаем среднюю выручку по каждой выборке."
   ]
  },
  {
   "cell_type": "code",
   "execution_count": 42,
   "metadata": {},
   "outputs": [
    {
     "data": {
      "text/html": [
       "<div>\n",
       "<style scoped>\n",
       "    .dataframe tbody tr th:only-of-type {\n",
       "        vertical-align: middle;\n",
       "    }\n",
       "\n",
       "    .dataframe tbody tr th {\n",
       "        vertical-align: top;\n",
       "    }\n",
       "\n",
       "    .dataframe thead th {\n",
       "        text-align: right;\n",
       "    }\n",
       "</style>\n",
       "<table border=\"1\" class=\"dataframe\">\n",
       "  <thead>\n",
       "    <tr style=\"text-align: right;\">\n",
       "      <th></th>\n",
       "      <th>user_id</th>\n",
       "      <th>month_year</th>\n",
       "      <th>calls_quantity</th>\n",
       "      <th>sum_calls_duration</th>\n",
       "      <th>messages_quantity</th>\n",
       "      <th>mb_used</th>\n",
       "      <th>gb_used</th>\n",
       "      <th>tariff</th>\n",
       "      <th>gain</th>\n",
       "      <th>city</th>\n",
       "    </tr>\n",
       "  </thead>\n",
       "  <tbody>\n",
       "    <tr>\n",
       "      <td>1719</td>\n",
       "      <td>1275</td>\n",
       "      <td>2018-10</td>\n",
       "      <td>77.0</td>\n",
       "      <td>470.0</td>\n",
       "      <td>29.0</td>\n",
       "      <td>18446.070312</td>\n",
       "      <td>19.0</td>\n",
       "      <td>smart</td>\n",
       "      <td>1350.0</td>\n",
       "      <td>Москва</td>\n",
       "    </tr>\n",
       "    <tr>\n",
       "      <td>2922</td>\n",
       "      <td>1459</td>\n",
       "      <td>2018-11</td>\n",
       "      <td>82.0</td>\n",
       "      <td>662.0</td>\n",
       "      <td>29.0</td>\n",
       "      <td>15475.200195</td>\n",
       "      <td>16.0</td>\n",
       "      <td>smart</td>\n",
       "      <td>1236.0</td>\n",
       "      <td>Магнитогорск</td>\n",
       "    </tr>\n",
       "    <tr>\n",
       "      <td>1895</td>\n",
       "      <td>1302</td>\n",
       "      <td>2018-06</td>\n",
       "      <td>27.0</td>\n",
       "      <td>171.0</td>\n",
       "      <td>77.0</td>\n",
       "      <td>19664.109375</td>\n",
       "      <td>20.0</td>\n",
       "      <td>smart</td>\n",
       "      <td>1631.0</td>\n",
       "      <td>Уфа</td>\n",
       "    </tr>\n",
       "    <tr>\n",
       "      <td>161</td>\n",
       "      <td>1025</td>\n",
       "      <td>2018-03</td>\n",
       "      <td>45.0</td>\n",
       "      <td>323.0</td>\n",
       "      <td>14.0</td>\n",
       "      <td>7332.689941</td>\n",
       "      <td>8.0</td>\n",
       "      <td>smart</td>\n",
       "      <td>550.0</td>\n",
       "      <td>Уфа</td>\n",
       "    </tr>\n",
       "    <tr>\n",
       "      <td>255</td>\n",
       "      <td>1040</td>\n",
       "      <td>2018-11</td>\n",
       "      <td>54.0</td>\n",
       "      <td>437.0</td>\n",
       "      <td>0.0</td>\n",
       "      <td>19871.371094</td>\n",
       "      <td>20.0</td>\n",
       "      <td>smart</td>\n",
       "      <td>1550.0</td>\n",
       "      <td>Сочи</td>\n",
       "    </tr>\n",
       "  </tbody>\n",
       "</table>\n",
       "</div>"
      ],
      "text/plain": [
       "      user_id month_year  calls_quantity  sum_calls_duration  \\\n",
       "1719     1275    2018-10            77.0               470.0   \n",
       "2922     1459    2018-11            82.0               662.0   \n",
       "1895     1302    2018-06            27.0               171.0   \n",
       "161      1025    2018-03            45.0               323.0   \n",
       "255      1040    2018-11            54.0               437.0   \n",
       "\n",
       "      messages_quantity       mb_used  gb_used tariff    gain          city  \n",
       "1719               29.0  18446.070312     19.0  smart  1350.0        Москва  \n",
       "2922               29.0  15475.200195     16.0  smart  1236.0  Магнитогорск  \n",
       "1895               77.0  19664.109375     20.0  smart  1631.0           Уфа  \n",
       "161                14.0   7332.689941      8.0  smart   550.0           Уфа  \n",
       "255                 0.0  19871.371094     20.0  smart  1550.0          Сочи  "
      ]
     },
     "execution_count": 42,
     "metadata": {},
     "output_type": "execute_result"
    }
   ],
   "source": [
    "users_behavior['city'] = np.nan\n",
    "for i in users.index:\n",
    "    users_behavior.loc[users_behavior['user_id'] == users.loc[i, 'user_id'],'city'] = users_behavior.loc[users_behavior['user_id'] == users.loc[i, 'user_id'],'city'].fillna(users.loc[i, 'city'])\n",
    "users_behavior.sample(n=5, random_state=1)"
   ]
  },
  {
   "cell_type": "code",
   "execution_count": 43,
   "metadata": {},
   "outputs": [
    {
     "name": "stdout",
     "output_type": "stream",
     "text": [
      "Средняя выручка пользователей из Москвы: 1546.7135842880523\n",
      "Средняя выручка пользователей из других регионов: 1524.9362274298885\n"
     ]
    }
   ],
   "source": [
    "users_behavior_Moscow = users_behavior[users_behavior['city'] == 'Москва'].copy()\n",
    "users_behavior_other_city = users_behavior[users_behavior['city'] != 'Москва'].copy()\n",
    "\n",
    "print('Средняя выручка пользователей из Москвы:', users_behavior_Moscow['gain'].mean())\n",
    "print('Средняя выручка пользователей из других регионов:', users_behavior_other_city['gain'].mean())"
   ]
  },
  {
   "cell_type": "markdown",
   "metadata": {},
   "source": [
    "Выведем на экран дисперсию по столбцу `gain` для пользователей из Москвы и для остальных пользователей:"
   ]
  },
  {
   "cell_type": "code",
   "execution_count": 44,
   "metadata": {},
   "outputs": [
    {
     "name": "stdout",
     "output_type": "stream",
     "text": [
      "Дисперсия выручки пользователей из Москвы: 565636.467011886\n",
      "Дисперсия выручки пользователей из других регионов: 654137.6285218114\n"
     ]
    }
   ],
   "source": [
    "print('Дисперсия выручки пользователей из Москвы:', np.var(users_behavior_Moscow['gain'], ddof=1))\n",
    "print('Дисперсия выручки пользователей из других регионов:', np.var(users_behavior_other_city['gain'], ddof=1))"
   ]
  },
  {
   "cell_type": "markdown",
   "metadata": {},
   "source": [
    "Проверим, отличается ли средняя выручка пользователей из Москвы от выручки пользователей из других регионов. В таком случае формулировка гипотез будет такова:\n",
    "\n",
    "- Нулевая гипотеза: средняя выручка пользователей из Москвы и средняя вручка пользователей из других регионов равны;\n",
    "- Альтернативная гипотеза: средняя выручка пользователей из Москвы отличается от выручки пользователей из других регионов.\n",
    "\n",
    "Снова применим метод `.ttest_ind()` к столбцам с выручкой из выборок пользователей из Москвы и из других городов. Учитывая то, что дисперсии не равны, передадим в метод `equal_var = False`. Установим критический уровень статистической значимости `alpha` равным 5%."
   ]
  },
  {
   "cell_type": "code",
   "execution_count": 45,
   "metadata": {},
   "outputs": [
    {
     "name": "stdout",
     "output_type": "stream",
     "text": [
      "p-значение: 0.5257376663729298\n",
      "Не получилось отвергнуть нулевую гипотезу\n"
     ]
    }
   ],
   "source": [
    "alpha = 0.05\n",
    "\n",
    "results = st.ttest_ind(users_behavior_Moscow['gain'], users_behavior_other_city['gain'], equal_var = False)\n",
    "\n",
    "print('p-значение:', results.pvalue)\n",
    "\n",
    "if results.pvalue < alpha:\n",
    "    print('Отвергаем нулевую гипотезу')\n",
    "else:\n",
    "    print('Не получилось отвергнуть нулевую гипотезу') "
   ]
  },
  {
   "cell_type": "markdown",
   "metadata": {},
   "source": [
    "Теперь `pvalue` значительно выше, чем уровень статистической значимости, поэтому мы не можем отклонить нулевую гипотезу, что *средняя выручка пользователей из Москвы и средняя вручка пользователей из других регионов равны*. "
   ]
  },
  {
   "cell_type": "markdown",
   "metadata": {},
   "source": [
    "**Вывод**\n",
    "\n",
    "Проверка показала, что гипотеза о том, что средняя выручка пользователей тарифов «Ультра» и «Смарт» различаются, не может быть отвергнута. А гипотеза о том, что средняя выручка пользователей из Москвы отличается от выручки пользователей из других регионов, отвергается."
   ]
  },
  {
   "cell_type": "markdown",
   "metadata": {},
   "source": [
    "<div class=\"alert alert-success\">\n",
    "<b>Комментарий ревьюера v1:</b>\n",
    "    \n",
    "- Да, тут Москва и регионы платят примерно одинаково.    \n",
    "- Гипотезы сформулированы и протестированы верно. Если быть совсем точным, то формулировка \"принять нулевую гипотезу\" лучше заменить на \"мы не можем отклонить нулевую гипотезу\", так как в статистике нельзя что-то с 100% точностью принять :) \n",
    "- Здорово, что дополнительно проверила дисперсии выборок и средние значения данных.\n",
    "- Можно еще дополнительно сравнить дисперсии выборок c помощью стат.теста Левене (https://docs.scipy.org/doc/scipy/reference/generated/scipy.stats.levene.html) или теста Барлетта (https://docs.scipy.org/doc/scipy/reference/generated/scipy.stats.bartlett.html#scipy.stats.bartlett) чтобы понять какое значение параметера equal_var использовать.\n",
    "</div>"
   ]
  },
  {
   "cell_type": "markdown",
   "metadata": {},
   "source": [
    "<div class=\"alert alert-info\"> <b>Комментарий студента:</b><br>\n",
    "    \n",
    "- формулировку \"принять нулевую гипотезу\" исправила на \"мы не можем отклонить нулевую гипотезу\", благодарю за замечание!<br>\n",
    "- тест Барлетта применяется к нормально распределённым выборкам, а тест Левене там, где есть значимые отклонения от нормальности. Значит, в моём случае к \"выручке\" нужно применить тест Левене. Маленькое значение pvalue будет говорит о том, что дисперсии выборок не одинаковы.</div>"
   ]
  },
  {
   "cell_type": "markdown",
   "metadata": {},
   "source": [
    "<div class=\"alert alert-success\">\n",
    "<b>Комментарий ревьюера v2:</b>\n",
    "    \n",
    "Круто, что разобралась с новыми тестами. Все выполнено верно."
   ]
  },
  {
   "cell_type": "code",
   "execution_count": 46,
   "metadata": {},
   "outputs": [
    {
     "data": {
      "text/plain": [
       "LeveneResult(statistic=6.034372854341571, pvalue=0.014082487123270156)"
      ]
     },
     "execution_count": 46,
     "metadata": {},
     "output_type": "execute_result"
    }
   ],
   "source": [
    "from scipy.stats import levene\n",
    "levene(users_behavior_Moscow['gain'], users_behavior_other_city['gain'])"
   ]
  },
  {
   "cell_type": "markdown",
   "metadata": {},
   "source": [
    "<div class=\"alert alert-info\"> <b>Комментарий студента:</b> Получается, что если мы установим критический уровень статистической значимости в 5%, то результат теста Левене показывает: дисперсии выборок не одинаковы и использование `equal_var = False` оправдано. Напиши пожалуйста, правильны ли мои рассуждения? </div>"
   ]
  },
  {
   "cell_type": "markdown",
   "metadata": {},
   "source": [
    "<div class=\"alert alert-success\">\n",
    "<b>Комментарий ревьюера v2:</b>\n",
    "    \n",
    "Да, все правильно.  Маленькое значение p_value говорит о том, что дисперсии выборок можно принять за разные и провести двусторонний тест `.ttest_ind()` с параметром `equal_var = False`"
   ]
  },
  {
   "cell_type": "markdown",
   "metadata": {},
   "source": [
    "## Общий вывод"
   ]
  },
  {
   "cell_type": "markdown",
   "metadata": {},
   "source": [
    "На основании пяти датасетов, содержащих информацию 500 пользователей, мы получили одну сводную таблицу, в которой для каждого пользователя помесячно указано количество сделанных звонков и израсходованных минут, количество отправленных сообщений, объём изпользованного трафика, выручка. Проанализировав эту таблицу, мы смогли описать поведение клиентов каждого тарифа:\n",
    "- пользователи тарифа \"Смарт\" в 30% случаев перерасходуют лимит минут, в более чем половине случаев - объём интернета, и в примерно 25% случаев - лимит сообщений. При этом средняя выручка пользователей тарифа составляет 1289,97 руб.\n",
    "- пользователи тарифа \"Ультра\" допускают перерасход лишь по объёму интернет-трафика, но доля перерасходов относительно невелика - всего около 25% случаев. Из включенных минут и сообщений абоненты тратят менее половины количества. Средняя же выручка пользователей Ultra равна 2070,15 руб.\n",
    "\n",
    "Также была проведена проверка гипотезы по предоставленным нам выборкам о том, что средняя выручка генеральных совокупностей пользователей тарифов «Ультра» и «Смарт» различаются. Гипотеза подтвердилась.\n",
    "\n",
    "Учитывая то, что абоненты \"Ультра\" в основном тратят значительно меньше включенного в тариф количества минут разговора и смс, перерасход по интернету допускается редко, а средняя выручка по этому тарифу на 60% больше, чем по более бюджетному \"Смарт\", можно сделать вывод, что компании \"Мегалайн\" выгодно продвигать именно \"Ультра\" и предлагать новым абонентам в первую очередь его.\n",
    "\n",
    "Одновременно важно учитывать, что гипотеза о том, что средняя выручка пользователей из Москвы и средняя выручка абонентов из других регионов различается, была отвергнута (другими словами, средние выручки одинаковы). Поэтому делать для Москвы и для других регионов разные тарифные планы не имеет смысла."
   ]
  },
  {
   "cell_type": "markdown",
   "metadata": {},
   "source": [
    "<div class=\"alert alert-success\">\n",
    "<b>Комментарий ревьюера v1:</b>\n",
    "    \n",
    "Ты провела отличное исследование: чистый код, крутые графики, правильные промежуточные выводы. Здорово, что ты ответила на главный вопрос заказчика и добавила интересные наблюдения.\n",
    "</div>"
   ]
  }
 ],
 "metadata": {
  "ExecuteTimeLog": [
   {
    "duration": 1393,
    "start_time": "2021-10-26T17:51:51.482Z"
   },
   {
    "duration": 82,
    "start_time": "2021-10-26T17:54:09.286Z"
   },
   {
    "duration": 253,
    "start_time": "2021-10-26T17:56:14.649Z"
   },
   {
    "duration": 136,
    "start_time": "2021-10-26T18:00:28.349Z"
   },
   {
    "duration": 207,
    "start_time": "2021-10-26T18:02:26.953Z"
   },
   {
    "duration": 2939,
    "start_time": "2021-10-26T18:07:19.889Z"
   },
   {
    "duration": 29,
    "start_time": "2021-10-26T18:07:59.038Z"
   },
   {
    "duration": 8,
    "start_time": "2021-10-26T18:47:33.852Z"
   },
   {
    "duration": 9,
    "start_time": "2021-10-26T18:48:41.717Z"
   },
   {
    "duration": 7,
    "start_time": "2021-10-26T18:55:32.389Z"
   },
   {
    "duration": 28,
    "start_time": "2021-10-26T18:58:22.759Z"
   },
   {
    "duration": 8,
    "start_time": "2021-10-26T18:58:35.325Z"
   },
   {
    "duration": 26,
    "start_time": "2021-10-26T18:58:44.697Z"
   },
   {
    "duration": 19,
    "start_time": "2021-10-26T18:59:07.164Z"
   },
   {
    "duration": 27,
    "start_time": "2021-10-26T18:59:28.631Z"
   },
   {
    "duration": 1445,
    "start_time": "2021-10-27T09:04:59.991Z"
   },
   {
    "duration": 55,
    "start_time": "2021-10-27T09:05:01.439Z"
   },
   {
    "duration": 240,
    "start_time": "2021-10-27T09:05:01.498Z"
   },
   {
    "duration": 147,
    "start_time": "2021-10-27T09:05:01.741Z"
   },
   {
    "duration": 216,
    "start_time": "2021-10-27T09:05:01.890Z"
   },
   {
    "duration": 34,
    "start_time": "2021-10-27T09:05:02.109Z"
   },
   {
    "duration": 18,
    "start_time": "2021-10-27T09:05:02.145Z"
   },
   {
    "duration": 15,
    "start_time": "2021-10-27T09:05:02.166Z"
   },
   {
    "duration": 14,
    "start_time": "2021-10-27T09:05:02.185Z"
   },
   {
    "duration": 29,
    "start_time": "2021-10-27T09:05:02.223Z"
   },
   {
    "duration": 36,
    "start_time": "2021-10-27T09:05:02.255Z"
   },
   {
    "duration": 43,
    "start_time": "2021-10-27T09:05:02.295Z"
   },
   {
    "duration": 20,
    "start_time": "2021-10-27T09:05:02.340Z"
   },
   {
    "duration": 15,
    "start_time": "2021-10-27T09:05:58.206Z"
   },
   {
    "duration": 65,
    "start_time": "2021-10-27T09:13:53.533Z"
   },
   {
    "duration": 37,
    "start_time": "2021-10-27T09:17:30.706Z"
   },
   {
    "duration": 26,
    "start_time": "2021-10-27T09:24:02.078Z"
   },
   {
    "duration": 48,
    "start_time": "2021-10-27T09:25:59.961Z"
   },
   {
    "duration": 20,
    "start_time": "2021-10-27T09:34:25.007Z"
   },
   {
    "duration": 261,
    "start_time": "2021-10-27T09:43:14.725Z"
   },
   {
    "duration": 20,
    "start_time": "2021-10-27T09:56:16.523Z"
   },
   {
    "duration": 17,
    "start_time": "2021-10-27T10:03:20.489Z"
   },
   {
    "duration": 24,
    "start_time": "2021-10-27T10:07:35.462Z"
   },
   {
    "duration": 403,
    "start_time": "2021-10-27T10:10:38.529Z"
   },
   {
    "duration": 1433,
    "start_time": "2021-10-27T10:11:05.189Z"
   },
   {
    "duration": 55,
    "start_time": "2021-10-27T10:11:06.625Z"
   },
   {
    "duration": 250,
    "start_time": "2021-10-27T10:11:06.687Z"
   },
   {
    "duration": 151,
    "start_time": "2021-10-27T10:11:06.940Z"
   },
   {
    "duration": 222,
    "start_time": "2021-10-27T10:11:07.093Z"
   },
   {
    "duration": 32,
    "start_time": "2021-10-27T10:11:07.323Z"
   },
   {
    "duration": 9,
    "start_time": "2021-10-27T10:11:07.358Z"
   },
   {
    "duration": 7,
    "start_time": "2021-10-27T10:11:07.371Z"
   },
   {
    "duration": 10,
    "start_time": "2021-10-27T10:11:07.381Z"
   },
   {
    "duration": 27,
    "start_time": "2021-10-27T10:11:07.423Z"
   },
   {
    "duration": 19,
    "start_time": "2021-10-27T10:11:07.453Z"
   },
   {
    "duration": 50,
    "start_time": "2021-10-27T10:11:07.474Z"
   },
   {
    "duration": 19,
    "start_time": "2021-10-27T10:11:07.527Z"
   },
   {
    "duration": 95,
    "start_time": "2021-10-27T10:11:07.549Z"
   },
   {
    "duration": 40,
    "start_time": "2021-10-27T10:11:07.647Z"
   },
   {
    "duration": 66,
    "start_time": "2021-10-27T10:11:07.690Z"
   },
   {
    "duration": 20,
    "start_time": "2021-10-27T10:11:07.758Z"
   },
   {
    "duration": 303,
    "start_time": "2021-10-27T10:11:07.781Z"
   },
   {
    "duration": 35,
    "start_time": "2021-10-27T10:11:08.087Z"
   },
   {
    "duration": 17,
    "start_time": "2021-10-27T10:11:08.125Z"
   },
   {
    "duration": 25,
    "start_time": "2021-10-27T11:17:39.091Z"
   },
   {
    "duration": 14,
    "start_time": "2021-10-27T11:19:22.447Z"
   },
   {
    "duration": 17,
    "start_time": "2021-10-27T11:36:01.677Z"
   },
   {
    "duration": 18,
    "start_time": "2021-10-27T11:36:36.659Z"
   },
   {
    "duration": 426,
    "start_time": "2021-10-27T12:18:50.792Z"
   },
   {
    "duration": 321,
    "start_time": "2021-10-27T12:19:11.445Z"
   },
   {
    "duration": 281,
    "start_time": "2021-10-27T12:22:02.593Z"
   },
   {
    "duration": 12,
    "start_time": "2021-10-27T12:23:22.904Z"
   },
   {
    "duration": 29,
    "start_time": "2021-10-27T12:24:05.181Z"
   },
   {
    "duration": 27,
    "start_time": "2021-10-27T12:24:24.195Z"
   },
   {
    "duration": 30,
    "start_time": "2021-10-27T12:26:13.049Z"
   },
   {
    "duration": 73,
    "start_time": "2021-10-27T12:46:57.360Z"
   },
   {
    "duration": 768,
    "start_time": "2021-10-27T12:47:15.016Z"
   },
   {
    "duration": 71,
    "start_time": "2021-10-27T12:47:33.722Z"
   },
   {
    "duration": 77,
    "start_time": "2021-10-27T12:48:27.313Z"
   },
   {
    "duration": 30,
    "start_time": "2021-10-27T13:05:43.669Z"
   },
   {
    "duration": 43,
    "start_time": "2021-10-27T13:06:39.056Z"
   },
   {
    "duration": 16,
    "start_time": "2021-10-27T13:10:06.944Z"
   },
   {
    "duration": 12,
    "start_time": "2021-10-27T13:10:28.783Z"
   },
   {
    "duration": 12,
    "start_time": "2021-10-27T13:10:43.567Z"
   },
   {
    "duration": 13,
    "start_time": "2021-10-27T13:11:01.839Z"
   },
   {
    "duration": 13,
    "start_time": "2021-10-27T13:11:19.774Z"
   },
   {
    "duration": 37,
    "start_time": "2021-10-27T13:11:49.468Z"
   },
   {
    "duration": 11,
    "start_time": "2021-10-27T13:12:06.926Z"
   },
   {
    "duration": 58,
    "start_time": "2021-10-27T13:29:37.207Z"
   },
   {
    "duration": 1396,
    "start_time": "2021-10-28T10:52:45.381Z"
   },
   {
    "duration": 109,
    "start_time": "2021-10-28T10:52:46.780Z"
   },
   {
    "duration": 257,
    "start_time": "2021-10-28T10:52:46.893Z"
   },
   {
    "duration": 175,
    "start_time": "2021-10-28T10:52:47.152Z"
   },
   {
    "duration": 214,
    "start_time": "2021-10-28T10:52:47.329Z"
   },
   {
    "duration": 40,
    "start_time": "2021-10-28T10:52:47.546Z"
   },
   {
    "duration": 8,
    "start_time": "2021-10-28T10:52:47.588Z"
   },
   {
    "duration": 13,
    "start_time": "2021-10-28T10:52:47.601Z"
   },
   {
    "duration": 11,
    "start_time": "2021-10-28T10:52:47.618Z"
   },
   {
    "duration": 37,
    "start_time": "2021-10-28T10:52:47.662Z"
   },
   {
    "duration": 19,
    "start_time": "2021-10-28T10:52:47.701Z"
   },
   {
    "duration": 51,
    "start_time": "2021-10-28T10:52:47.722Z"
   },
   {
    "duration": 19,
    "start_time": "2021-10-28T10:52:47.776Z"
   },
   {
    "duration": 87,
    "start_time": "2021-10-28T10:52:47.797Z"
   },
   {
    "duration": 45,
    "start_time": "2021-10-28T10:52:47.887Z"
   },
   {
    "duration": 76,
    "start_time": "2021-10-28T10:52:47.934Z"
   },
   {
    "duration": 17,
    "start_time": "2021-10-28T10:52:48.012Z"
   },
   {
    "duration": 341,
    "start_time": "2021-10-28T10:52:48.032Z"
   },
   {
    "duration": 19,
    "start_time": "2021-10-28T10:52:48.377Z"
   },
   {
    "duration": 20,
    "start_time": "2021-10-28T10:52:48.399Z"
   },
   {
    "duration": 66,
    "start_time": "2021-10-28T10:52:48.421Z"
   },
   {
    "duration": 21,
    "start_time": "2021-10-28T10:52:48.490Z"
   },
   {
    "duration": 56,
    "start_time": "2021-10-28T10:52:48.517Z"
   },
   {
    "duration": 80,
    "start_time": "2021-10-28T10:52:48.577Z"
   },
   {
    "duration": 143,
    "start_time": "2021-10-28T10:52:48.660Z"
   },
   {
    "duration": 4336,
    "start_time": "2021-10-28T10:52:44.469Z"
   },
   {
    "duration": 76,
    "start_time": "2021-10-28T10:55:55.344Z"
   },
   {
    "duration": 522,
    "start_time": "2021-10-28T10:55:58.979Z"
   },
   {
    "duration": 23,
    "start_time": "2021-10-28T10:56:08.809Z"
   },
   {
    "duration": 1410,
    "start_time": "2021-10-28T14:25:07.476Z"
   },
   {
    "duration": 85,
    "start_time": "2021-10-28T14:25:08.889Z"
   },
   {
    "duration": 250,
    "start_time": "2021-10-28T14:25:08.977Z"
   },
   {
    "duration": 146,
    "start_time": "2021-10-28T14:25:09.230Z"
   },
   {
    "duration": 215,
    "start_time": "2021-10-28T14:25:09.379Z"
   },
   {
    "duration": 31,
    "start_time": "2021-10-28T14:25:09.596Z"
   },
   {
    "duration": 9,
    "start_time": "2021-10-28T14:25:09.630Z"
   },
   {
    "duration": 7,
    "start_time": "2021-10-28T14:25:09.660Z"
   },
   {
    "duration": 8,
    "start_time": "2021-10-28T14:25:09.670Z"
   },
   {
    "duration": 27,
    "start_time": "2021-10-28T14:25:09.680Z"
   },
   {
    "duration": 64,
    "start_time": "2021-10-28T14:25:09.709Z"
   },
   {
    "duration": 22,
    "start_time": "2021-10-28T14:25:09.776Z"
   },
   {
    "duration": 17,
    "start_time": "2021-10-28T14:25:09.801Z"
   },
   {
    "duration": 95,
    "start_time": "2021-10-28T14:25:09.821Z"
   },
   {
    "duration": 60,
    "start_time": "2021-10-28T14:25:09.918Z"
   },
   {
    "duration": 51,
    "start_time": "2021-10-28T14:25:09.980Z"
   },
   {
    "duration": 38,
    "start_time": "2021-10-28T14:25:10.034Z"
   },
   {
    "duration": 325,
    "start_time": "2021-10-28T14:25:10.075Z"
   },
   {
    "duration": 20,
    "start_time": "2021-10-28T14:25:10.402Z"
   },
   {
    "duration": 42,
    "start_time": "2021-10-28T14:25:10.424Z"
   },
   {
    "duration": 21,
    "start_time": "2021-10-28T14:25:10.469Z"
   },
   {
    "duration": 18,
    "start_time": "2021-10-28T14:25:10.492Z"
   },
   {
    "duration": 60,
    "start_time": "2021-10-28T14:25:10.516Z"
   },
   {
    "duration": 103,
    "start_time": "2021-10-28T14:25:10.579Z"
   },
   {
    "duration": 98,
    "start_time": "2021-10-28T14:25:10.685Z"
   },
   {
    "duration": 23,
    "start_time": "2021-10-28T14:25:10.786Z"
   },
   {
    "duration": 29,
    "start_time": "2021-10-28T14:47:53.647Z"
   },
   {
    "duration": 22,
    "start_time": "2021-10-28T14:48:12.166Z"
   },
   {
    "duration": 43,
    "start_time": "2021-10-28T14:51:33.480Z"
   },
   {
    "duration": 45,
    "start_time": "2021-10-28T14:52:45.498Z"
   },
   {
    "duration": 1556,
    "start_time": "2021-10-28T14:55:45.270Z"
   },
   {
    "duration": 84,
    "start_time": "2021-10-28T14:55:46.828Z"
   },
   {
    "duration": 240,
    "start_time": "2021-10-28T14:55:46.917Z"
   },
   {
    "duration": 148,
    "start_time": "2021-10-28T14:55:47.161Z"
   },
   {
    "duration": 217,
    "start_time": "2021-10-28T14:55:47.312Z"
   },
   {
    "duration": 35,
    "start_time": "2021-10-28T14:55:47.532Z"
   },
   {
    "duration": 8,
    "start_time": "2021-10-28T14:55:47.570Z"
   },
   {
    "duration": 14,
    "start_time": "2021-10-28T14:55:47.581Z"
   },
   {
    "duration": 14,
    "start_time": "2021-10-28T14:55:47.599Z"
   },
   {
    "duration": 56,
    "start_time": "2021-10-28T14:55:47.617Z"
   },
   {
    "duration": 18,
    "start_time": "2021-10-28T14:55:47.676Z"
   },
   {
    "duration": 25,
    "start_time": "2021-10-28T14:55:47.697Z"
   },
   {
    "duration": 46,
    "start_time": "2021-10-28T14:55:47.724Z"
   },
   {
    "duration": 70,
    "start_time": "2021-10-28T14:55:47.773Z"
   },
   {
    "duration": 37,
    "start_time": "2021-10-28T14:55:47.858Z"
   },
   {
    "duration": 70,
    "start_time": "2021-10-28T14:55:47.898Z"
   },
   {
    "duration": 23,
    "start_time": "2021-10-28T14:55:47.971Z"
   },
   {
    "duration": 374,
    "start_time": "2021-10-28T14:55:47.997Z"
   },
   {
    "duration": 24,
    "start_time": "2021-10-28T14:55:48.374Z"
   },
   {
    "duration": 17,
    "start_time": "2021-10-28T14:55:48.402Z"
   },
   {
    "duration": 49,
    "start_time": "2021-10-28T14:55:48.422Z"
   },
   {
    "duration": 17,
    "start_time": "2021-10-28T14:55:48.473Z"
   },
   {
    "duration": 17,
    "start_time": "2021-10-28T14:55:48.495Z"
   },
   {
    "duration": 102,
    "start_time": "2021-10-28T14:55:48.515Z"
   },
   {
    "duration": 70,
    "start_time": "2021-10-28T14:55:48.619Z"
   },
   {
    "duration": 46,
    "start_time": "2021-10-28T14:55:48.691Z"
   },
   {
    "duration": 24,
    "start_time": "2021-10-28T14:57:28.699Z"
   },
   {
    "duration": 32,
    "start_time": "2021-10-28T14:58:09.568Z"
   },
   {
    "duration": 46,
    "start_time": "2021-10-28T14:58:35.809Z"
   },
   {
    "duration": 468,
    "start_time": "2021-10-28T15:48:35.033Z"
   },
   {
    "duration": 5,
    "start_time": "2021-10-28T15:48:45.763Z"
   },
   {
    "duration": 11,
    "start_time": "2021-10-28T15:57:23.370Z"
   },
   {
    "duration": 470,
    "start_time": "2021-10-28T16:00:33.346Z"
   },
   {
    "duration": 11,
    "start_time": "2021-10-28T16:03:29.118Z"
   },
   {
    "duration": 13,
    "start_time": "2021-10-28T16:03:43.360Z"
   },
   {
    "duration": 13,
    "start_time": "2021-10-28T16:04:14.977Z"
   },
   {
    "duration": 1403,
    "start_time": "2021-10-28T16:08:31.144Z"
   },
   {
    "duration": 65,
    "start_time": "2021-10-28T16:08:32.549Z"
   },
   {
    "duration": 249,
    "start_time": "2021-10-28T16:08:32.618Z"
   },
   {
    "duration": 165,
    "start_time": "2021-10-28T16:08:32.871Z"
   },
   {
    "duration": 219,
    "start_time": "2021-10-28T16:08:33.039Z"
   },
   {
    "duration": 39,
    "start_time": "2021-10-28T16:08:33.260Z"
   },
   {
    "duration": 10,
    "start_time": "2021-10-28T16:08:33.302Z"
   },
   {
    "duration": 39,
    "start_time": "2021-10-28T16:08:33.317Z"
   },
   {
    "duration": 9,
    "start_time": "2021-10-28T16:08:33.361Z"
   },
   {
    "duration": 28,
    "start_time": "2021-10-28T16:08:33.373Z"
   },
   {
    "duration": 56,
    "start_time": "2021-10-28T16:08:33.404Z"
   },
   {
    "duration": 22,
    "start_time": "2021-10-28T16:08:33.462Z"
   },
   {
    "duration": 17,
    "start_time": "2021-10-28T16:08:33.486Z"
   },
   {
    "duration": 99,
    "start_time": "2021-10-28T16:08:33.506Z"
   },
   {
    "duration": 50,
    "start_time": "2021-10-28T16:08:33.607Z"
   },
   {
    "duration": 45,
    "start_time": "2021-10-28T16:08:33.660Z"
   },
   {
    "duration": 16,
    "start_time": "2021-10-28T16:08:33.708Z"
   },
   {
    "duration": 290,
    "start_time": "2021-10-28T16:08:33.759Z"
   },
   {
    "duration": 25,
    "start_time": "2021-10-28T16:08:34.051Z"
   },
   {
    "duration": 16,
    "start_time": "2021-10-28T16:08:34.078Z"
   },
   {
    "duration": 18,
    "start_time": "2021-10-28T16:08:34.097Z"
   },
   {
    "duration": 18,
    "start_time": "2021-10-28T16:08:34.158Z"
   },
   {
    "duration": 17,
    "start_time": "2021-10-28T16:08:34.181Z"
   },
   {
    "duration": 102,
    "start_time": "2021-10-28T16:08:34.201Z"
   },
   {
    "duration": 31,
    "start_time": "2021-10-28T16:08:34.305Z"
   },
   {
    "duration": 38,
    "start_time": "2021-10-28T16:08:34.339Z"
   },
   {
    "duration": 4,
    "start_time": "2021-10-28T16:08:34.379Z"
   },
   {
    "duration": 6,
    "start_time": "2021-10-28T16:08:34.385Z"
   },
   {
    "duration": 6,
    "start_time": "2021-10-28T16:08:53.330Z"
   },
   {
    "duration": 11,
    "start_time": "2021-10-28T16:10:23.796Z"
   },
   {
    "duration": 23,
    "start_time": "2021-10-28T16:15:59.454Z"
   },
   {
    "duration": 26,
    "start_time": "2021-10-28T16:29:54.704Z"
   },
   {
    "duration": 25,
    "start_time": "2021-10-28T16:34:28.267Z"
   },
   {
    "duration": 745,
    "start_time": "2021-10-28T16:35:34.855Z"
   },
   {
    "duration": 35,
    "start_time": "2021-10-28T16:35:45.183Z"
   },
   {
    "duration": 27,
    "start_time": "2021-10-28T16:35:56.717Z"
   },
   {
    "duration": 8,
    "start_time": "2021-10-28T16:40:53.319Z"
   },
   {
    "duration": 13,
    "start_time": "2021-10-28T16:49:23.289Z"
   },
   {
    "duration": 418,
    "start_time": "2021-10-28T17:06:35.307Z"
   },
   {
    "duration": 6,
    "start_time": "2021-10-28T17:06:49.769Z"
   },
   {
    "duration": 1343,
    "start_time": "2021-10-28T17:07:03.808Z"
   },
   {
    "duration": 82,
    "start_time": "2021-10-28T17:07:05.154Z"
   },
   {
    "duration": 241,
    "start_time": "2021-10-28T17:07:05.239Z"
   },
   {
    "duration": 143,
    "start_time": "2021-10-28T17:07:05.483Z"
   },
   {
    "duration": 209,
    "start_time": "2021-10-28T17:07:05.629Z"
   },
   {
    "duration": 31,
    "start_time": "2021-10-28T17:07:05.840Z"
   },
   {
    "duration": 8,
    "start_time": "2021-10-28T17:07:05.874Z"
   },
   {
    "duration": 8,
    "start_time": "2021-10-28T17:07:05.886Z"
   },
   {
    "duration": 12,
    "start_time": "2021-10-28T17:07:05.897Z"
   },
   {
    "duration": 68,
    "start_time": "2021-10-28T17:07:05.911Z"
   },
   {
    "duration": 19,
    "start_time": "2021-10-28T17:07:05.981Z"
   },
   {
    "duration": 26,
    "start_time": "2021-10-28T17:07:06.003Z"
   },
   {
    "duration": 41,
    "start_time": "2021-10-28T17:07:06.032Z"
   },
   {
    "duration": 82,
    "start_time": "2021-10-28T17:07:06.075Z"
   },
   {
    "duration": 37,
    "start_time": "2021-10-28T17:07:06.160Z"
   },
   {
    "duration": 66,
    "start_time": "2021-10-28T17:07:06.200Z"
   },
   {
    "duration": 17,
    "start_time": "2021-10-28T17:07:06.269Z"
   },
   {
    "duration": 286,
    "start_time": "2021-10-28T17:07:06.289Z"
   },
   {
    "duration": 18,
    "start_time": "2021-10-28T17:07:06.578Z"
   },
   {
    "duration": 15,
    "start_time": "2021-10-28T17:07:06.598Z"
   },
   {
    "duration": 51,
    "start_time": "2021-10-28T17:07:06.616Z"
   },
   {
    "duration": 17,
    "start_time": "2021-10-28T17:07:06.669Z"
   },
   {
    "duration": 17,
    "start_time": "2021-10-28T17:07:06.690Z"
   },
   {
    "duration": 99,
    "start_time": "2021-10-28T17:07:06.710Z"
   },
   {
    "duration": 6,
    "start_time": "2021-10-28T17:07:06.812Z"
   },
   {
    "duration": 54,
    "start_time": "2021-10-28T17:07:06.821Z"
   },
   {
    "duration": 10,
    "start_time": "2021-10-28T17:07:06.877Z"
   },
   {
    "duration": 35,
    "start_time": "2021-10-28T17:07:06.889Z"
   },
   {
    "duration": 38,
    "start_time": "2021-10-28T17:07:06.927Z"
   },
   {
    "duration": 14,
    "start_time": "2021-10-28T17:07:06.967Z"
   },
   {
    "duration": 9,
    "start_time": "2021-10-28T17:07:06.983Z"
   },
   {
    "duration": 16,
    "start_time": "2021-10-28T17:07:06.994Z"
   },
   {
    "duration": 27,
    "start_time": "2021-10-28T17:20:50.546Z"
   },
   {
    "duration": 27,
    "start_time": "2021-10-28T17:27:19.524Z"
   },
   {
    "duration": 23,
    "start_time": "2021-10-28T17:54:30.574Z"
   },
   {
    "duration": 513,
    "start_time": "2021-10-28T18:04:24.823Z"
   },
   {
    "duration": 9555,
    "start_time": "2021-10-28T18:11:48.006Z"
   },
   {
    "duration": 5,
    "start_time": "2021-10-28T18:30:20.176Z"
   },
   {
    "duration": 17,
    "start_time": "2021-10-28T18:30:25.758Z"
   },
   {
    "duration": 1664,
    "start_time": "2021-10-28T18:32:17.563Z"
   },
   {
    "duration": 1652,
    "start_time": "2021-10-28T18:32:49.508Z"
   },
   {
    "duration": 1394,
    "start_time": "2021-10-28T18:34:16.033Z"
   },
   {
    "duration": 64,
    "start_time": "2021-10-28T18:34:17.430Z"
   },
   {
    "duration": 233,
    "start_time": "2021-10-28T18:34:17.497Z"
   },
   {
    "duration": 146,
    "start_time": "2021-10-28T18:34:17.733Z"
   },
   {
    "duration": 209,
    "start_time": "2021-10-28T18:34:17.881Z"
   },
   {
    "duration": 32,
    "start_time": "2021-10-28T18:34:18.093Z"
   },
   {
    "duration": 8,
    "start_time": "2021-10-28T18:34:18.127Z"
   },
   {
    "duration": 7,
    "start_time": "2021-10-28T18:34:18.158Z"
   },
   {
    "duration": 27,
    "start_time": "2021-10-28T18:34:18.167Z"
   },
   {
    "duration": 53,
    "start_time": "2021-10-28T18:34:18.196Z"
   },
   {
    "duration": 18,
    "start_time": "2021-10-28T18:34:18.252Z"
   },
   {
    "duration": 38,
    "start_time": "2021-10-28T18:34:18.272Z"
   },
   {
    "duration": 19,
    "start_time": "2021-10-28T18:34:18.312Z"
   },
   {
    "duration": 79,
    "start_time": "2021-10-28T18:34:18.334Z"
   },
   {
    "duration": 54,
    "start_time": "2021-10-28T18:34:18.415Z"
   },
   {
    "duration": 46,
    "start_time": "2021-10-28T18:34:18.472Z"
   },
   {
    "duration": 37,
    "start_time": "2021-10-28T18:34:18.521Z"
   },
   {
    "duration": 266,
    "start_time": "2021-10-28T18:34:18.560Z"
   },
   {
    "duration": 35,
    "start_time": "2021-10-28T18:34:18.828Z"
   },
   {
    "duration": 14,
    "start_time": "2021-10-28T18:34:18.865Z"
   },
   {
    "duration": 19,
    "start_time": "2021-10-28T18:34:18.882Z"
   },
   {
    "duration": 16,
    "start_time": "2021-10-28T18:34:18.903Z"
   },
   {
    "duration": 49,
    "start_time": "2021-10-28T18:34:18.924Z"
   },
   {
    "duration": 89,
    "start_time": "2021-10-28T18:34:18.975Z"
   },
   {
    "duration": 5,
    "start_time": "2021-10-28T18:34:19.066Z"
   },
   {
    "duration": 39,
    "start_time": "2021-10-28T18:34:19.074Z"
   },
   {
    "duration": 9,
    "start_time": "2021-10-28T18:34:19.115Z"
   },
   {
    "duration": 66,
    "start_time": "2021-10-28T18:34:19.127Z"
   },
   {
    "duration": 13,
    "start_time": "2021-10-28T18:34:19.195Z"
   },
   {
    "duration": 14,
    "start_time": "2021-10-28T18:34:19.210Z"
   },
   {
    "duration": 35,
    "start_time": "2021-10-28T18:34:19.227Z"
   },
   {
    "duration": 14,
    "start_time": "2021-10-28T18:34:19.264Z"
   },
   {
    "duration": 11,
    "start_time": "2021-10-28T18:34:19.280Z"
   },
   {
    "duration": 2017,
    "start_time": "2021-10-28T18:34:19.293Z"
   },
   {
    "duration": 1865,
    "start_time": "2021-10-28T18:37:01.474Z"
   },
   {
    "duration": 22,
    "start_time": "2021-10-28T18:37:32.297Z"
   },
   {
    "duration": 16,
    "start_time": "2021-10-28T18:38:05.454Z"
   },
   {
    "duration": 21,
    "start_time": "2021-10-28T18:38:49.261Z"
   },
   {
    "duration": 16,
    "start_time": "2021-10-28T18:38:56.913Z"
   },
   {
    "duration": 19,
    "start_time": "2021-10-28T18:39:35.591Z"
   },
   {
    "duration": 20,
    "start_time": "2021-10-28T18:39:48.633Z"
   },
   {
    "duration": 1392,
    "start_time": "2021-10-29T08:53:09.106Z"
   },
   {
    "duration": 54,
    "start_time": "2021-10-29T08:53:10.501Z"
   },
   {
    "duration": 260,
    "start_time": "2021-10-29T08:53:10.558Z"
   },
   {
    "duration": 154,
    "start_time": "2021-10-29T08:53:10.821Z"
   },
   {
    "duration": 234,
    "start_time": "2021-10-29T08:53:10.977Z"
   },
   {
    "duration": 32,
    "start_time": "2021-10-29T08:53:11.213Z"
   },
   {
    "duration": 8,
    "start_time": "2021-10-29T08:53:11.248Z"
   },
   {
    "duration": 29,
    "start_time": "2021-10-29T08:53:11.258Z"
   },
   {
    "duration": 8,
    "start_time": "2021-10-29T08:53:11.291Z"
   },
   {
    "duration": 28,
    "start_time": "2021-10-29T08:53:11.302Z"
   },
   {
    "duration": 52,
    "start_time": "2021-10-29T08:53:11.332Z"
   },
   {
    "duration": 23,
    "start_time": "2021-10-29T08:53:11.387Z"
   },
   {
    "duration": 20,
    "start_time": "2021-10-29T08:53:11.412Z"
   },
   {
    "duration": 103,
    "start_time": "2021-10-29T08:53:11.435Z"
   },
   {
    "duration": 55,
    "start_time": "2021-10-29T08:53:11.540Z"
   },
   {
    "duration": 49,
    "start_time": "2021-10-29T08:53:11.598Z"
   },
   {
    "duration": 39,
    "start_time": "2021-10-29T08:53:11.650Z"
   },
   {
    "duration": 318,
    "start_time": "2021-10-29T08:53:11.692Z"
   },
   {
    "duration": 19,
    "start_time": "2021-10-29T08:53:12.012Z"
   },
   {
    "duration": 17,
    "start_time": "2021-10-29T08:53:12.033Z"
   },
   {
    "duration": 47,
    "start_time": "2021-10-29T08:53:12.052Z"
   },
   {
    "duration": 18,
    "start_time": "2021-10-29T08:53:12.102Z"
   },
   {
    "duration": 18,
    "start_time": "2021-10-29T08:53:12.122Z"
   },
   {
    "duration": 97,
    "start_time": "2021-10-29T08:53:12.143Z"
   },
   {
    "duration": 6,
    "start_time": "2021-10-29T08:53:12.243Z"
   },
   {
    "duration": 58,
    "start_time": "2021-10-29T08:53:12.251Z"
   },
   {
    "duration": 14,
    "start_time": "2021-10-29T08:53:12.316Z"
   },
   {
    "duration": 77,
    "start_time": "2021-10-29T08:53:12.334Z"
   },
   {
    "duration": 20,
    "start_time": "2021-10-29T08:53:12.414Z"
   },
   {
    "duration": 17,
    "start_time": "2021-10-29T08:53:12.437Z"
   },
   {
    "duration": 34,
    "start_time": "2021-10-29T08:53:12.457Z"
   },
   {
    "duration": 18,
    "start_time": "2021-10-29T08:53:12.494Z"
   },
   {
    "duration": 14,
    "start_time": "2021-10-29T08:53:12.515Z"
   },
   {
    "duration": 3114,
    "start_time": "2021-10-29T08:53:12.532Z"
   },
   {
    "duration": 99,
    "start_time": "2021-10-29T08:53:15.650Z"
   },
   {
    "duration": 136,
    "start_time": "2021-10-29T08:57:56.172Z"
   },
   {
    "duration": 96,
    "start_time": "2021-10-29T09:02:49.670Z"
   },
   {
    "duration": 436,
    "start_time": "2021-10-29T09:09:30.860Z"
   },
   {
    "duration": 296,
    "start_time": "2021-10-29T09:11:12.757Z"
   },
   {
    "duration": 6,
    "start_time": "2021-10-29T09:13:07.397Z"
   },
   {
    "duration": 3956,
    "start_time": "2021-10-29T09:14:12.745Z"
   },
   {
    "duration": 1849,
    "start_time": "2021-10-29T09:15:50.715Z"
   },
   {
    "duration": 4158,
    "start_time": "2021-10-29T09:31:24.765Z"
   },
   {
    "duration": 779,
    "start_time": "2021-10-29T10:33:50.952Z"
   },
   {
    "duration": 806,
    "start_time": "2021-10-29T10:35:19.561Z"
   },
   {
    "duration": 802,
    "start_time": "2021-10-29T10:35:52.035Z"
   },
   {
    "duration": 11,
    "start_time": "2021-10-29T13:10:53.173Z"
   },
   {
    "duration": 8,
    "start_time": "2021-10-29T13:18:55.451Z"
   },
   {
    "duration": 283,
    "start_time": "2021-10-29T13:55:09.699Z"
   },
   {
    "duration": 9,
    "start_time": "2021-10-29T13:55:22.713Z"
   },
   {
    "duration": 43,
    "start_time": "2021-10-29T14:00:45.572Z"
   },
   {
    "duration": 47,
    "start_time": "2021-10-29T14:03:24.645Z"
   },
   {
    "duration": 46,
    "start_time": "2021-10-29T14:05:09.644Z"
   },
   {
    "duration": 33,
    "start_time": "2021-10-29T19:27:43.708Z"
   },
   {
    "duration": 32,
    "start_time": "2021-10-29T19:28:24.627Z"
   },
   {
    "duration": 33,
    "start_time": "2021-10-29T19:31:34.548Z"
   },
   {
    "duration": 4876,
    "start_time": "2021-10-29T20:00:50.354Z"
   },
   {
    "duration": 4869,
    "start_time": "2021-10-29T20:02:21.472Z"
   },
   {
    "duration": 3606,
    "start_time": "2021-10-29T20:05:40.849Z"
   },
   {
    "duration": 1049,
    "start_time": "2021-10-30T15:55:34.525Z"
   },
   {
    "duration": 42,
    "start_time": "2021-10-30T15:55:35.576Z"
   },
   {
    "duration": 167,
    "start_time": "2021-10-30T15:55:35.620Z"
   },
   {
    "duration": 100,
    "start_time": "2021-10-30T15:55:35.789Z"
   },
   {
    "duration": 144,
    "start_time": "2021-10-30T15:55:35.891Z"
   },
   {
    "duration": 23,
    "start_time": "2021-10-30T15:55:36.037Z"
   },
   {
    "duration": 11,
    "start_time": "2021-10-30T15:55:36.062Z"
   },
   {
    "duration": 9,
    "start_time": "2021-10-30T15:55:36.076Z"
   },
   {
    "duration": 7,
    "start_time": "2021-10-30T15:55:36.087Z"
   },
   {
    "duration": 26,
    "start_time": "2021-10-30T15:55:36.095Z"
   },
   {
    "duration": 15,
    "start_time": "2021-10-30T15:55:36.122Z"
   },
   {
    "duration": 18,
    "start_time": "2021-10-30T15:55:36.139Z"
   },
   {
    "duration": 11,
    "start_time": "2021-10-30T15:55:36.159Z"
   },
   {
    "duration": 42,
    "start_time": "2021-10-30T15:55:36.171Z"
   },
   {
    "duration": 47,
    "start_time": "2021-10-30T15:55:36.214Z"
   },
   {
    "duration": 31,
    "start_time": "2021-10-30T15:55:36.263Z"
   },
   {
    "duration": 10,
    "start_time": "2021-10-30T15:55:36.296Z"
   },
   {
    "duration": 188,
    "start_time": "2021-10-30T15:55:36.308Z"
   },
   {
    "duration": 12,
    "start_time": "2021-10-30T15:55:36.498Z"
   },
   {
    "duration": 10,
    "start_time": "2021-10-30T15:55:36.511Z"
   },
   {
    "duration": 33,
    "start_time": "2021-10-30T15:55:36.523Z"
   },
   {
    "duration": 11,
    "start_time": "2021-10-30T15:55:36.558Z"
   },
   {
    "duration": 11,
    "start_time": "2021-10-30T15:55:36.572Z"
   },
   {
    "duration": 68,
    "start_time": "2021-10-30T15:55:36.585Z"
   },
   {
    "duration": 4,
    "start_time": "2021-10-30T15:55:36.654Z"
   },
   {
    "duration": 30,
    "start_time": "2021-10-30T15:55:36.659Z"
   },
   {
    "duration": 7,
    "start_time": "2021-10-30T15:55:36.690Z"
   },
   {
    "duration": 45,
    "start_time": "2021-10-30T15:55:36.699Z"
   },
   {
    "duration": 9,
    "start_time": "2021-10-30T15:55:36.746Z"
   },
   {
    "duration": 8,
    "start_time": "2021-10-30T15:55:36.757Z"
   },
   {
    "duration": 6,
    "start_time": "2021-10-30T15:55:36.766Z"
   },
   {
    "duration": 9,
    "start_time": "2021-10-30T15:55:36.773Z"
   },
   {
    "duration": 8,
    "start_time": "2021-10-30T15:55:36.783Z"
   },
   {
    "duration": 1077,
    "start_time": "2021-10-30T15:55:36.793Z"
   },
   {
    "duration": 396,
    "start_time": "2021-10-30T15:55:37.872Z"
   },
   {
    "duration": 6,
    "start_time": "2021-10-30T15:55:38.269Z"
   },
   {
    "duration": 29,
    "start_time": "2021-10-30T15:55:38.277Z"
   },
   {
    "duration": 47,
    "start_time": "2021-10-30T15:55:38.308Z"
   },
   {
    "duration": 22,
    "start_time": "2021-10-30T15:55:38.357Z"
   },
   {
    "duration": 2047,
    "start_time": "2021-10-30T15:55:38.381Z"
   },
   {
    "duration": 1994,
    "start_time": "2021-10-30T15:55:40.430Z"
   },
   {
    "duration": 8,
    "start_time": "2021-10-30T16:39:09.506Z"
   },
   {
    "duration": 1369,
    "start_time": "2021-11-04T14:31:28.881Z"
   },
   {
    "duration": 100,
    "start_time": "2021-11-04T14:31:30.253Z"
   },
   {
    "duration": 232,
    "start_time": "2021-11-04T14:31:30.356Z"
   },
   {
    "duration": 148,
    "start_time": "2021-11-04T14:31:30.590Z"
   },
   {
    "duration": 208,
    "start_time": "2021-11-04T14:31:30.740Z"
   },
   {
    "duration": 36,
    "start_time": "2021-11-04T14:31:30.959Z"
   },
   {
    "duration": 10,
    "start_time": "2021-11-04T14:31:30.999Z"
   },
   {
    "duration": 8,
    "start_time": "2021-11-04T14:31:31.014Z"
   },
   {
    "duration": 37,
    "start_time": "2021-11-04T14:31:31.026Z"
   },
   {
    "duration": 40,
    "start_time": "2021-11-04T14:31:31.066Z"
   },
   {
    "duration": 26,
    "start_time": "2021-11-04T14:31:31.109Z"
   },
   {
    "duration": 31,
    "start_time": "2021-11-04T14:31:31.161Z"
   },
   {
    "duration": 24,
    "start_time": "2021-11-04T14:31:31.196Z"
   },
   {
    "duration": 89,
    "start_time": "2021-11-04T14:31:31.224Z"
   },
   {
    "duration": 52,
    "start_time": "2021-11-04T14:31:31.316Z"
   },
   {
    "duration": 44,
    "start_time": "2021-11-04T14:31:31.371Z"
   },
   {
    "duration": 42,
    "start_time": "2021-11-04T14:31:31.418Z"
   },
   {
    "duration": 261,
    "start_time": "2021-11-04T14:31:31.462Z"
   },
   {
    "duration": 34,
    "start_time": "2021-11-04T14:31:31.725Z"
   },
   {
    "duration": 15,
    "start_time": "2021-11-04T14:31:31.762Z"
   },
   {
    "duration": 21,
    "start_time": "2021-11-04T14:31:31.780Z"
   },
   {
    "duration": 16,
    "start_time": "2021-11-04T14:31:31.804Z"
   },
   {
    "duration": 16,
    "start_time": "2021-11-04T14:31:31.864Z"
   },
   {
    "duration": 90,
    "start_time": "2021-11-04T14:31:31.883Z"
   },
   {
    "duration": 6,
    "start_time": "2021-11-04T14:31:31.975Z"
   },
   {
    "duration": 40,
    "start_time": "2021-11-04T14:31:31.983Z"
   },
   {
    "duration": 10,
    "start_time": "2021-11-04T14:31:32.025Z"
   },
   {
    "duration": 32,
    "start_time": "2021-11-04T14:31:32.060Z"
   },
   {
    "duration": 12,
    "start_time": "2021-11-04T14:31:32.095Z"
   },
   {
    "duration": 13,
    "start_time": "2021-11-04T14:31:32.110Z"
   },
   {
    "duration": 40,
    "start_time": "2021-11-04T14:31:32.125Z"
   },
   {
    "duration": 13,
    "start_time": "2021-11-04T14:31:32.167Z"
   },
   {
    "duration": 12,
    "start_time": "2021-11-04T14:31:32.182Z"
   },
   {
    "duration": 1849,
    "start_time": "2021-11-04T14:31:32.196Z"
   },
   {
    "duration": 759,
    "start_time": "2021-11-04T14:31:34.047Z"
   },
   {
    "duration": 9,
    "start_time": "2021-11-04T14:31:34.808Z"
   },
   {
    "duration": 65,
    "start_time": "2021-11-04T14:31:34.819Z"
   },
   {
    "duration": 43,
    "start_time": "2021-11-04T14:31:34.886Z"
   },
   {
    "duration": 58,
    "start_time": "2021-11-04T14:31:34.931Z"
   },
   {
    "duration": 3519,
    "start_time": "2021-11-04T14:31:34.992Z"
   },
   {
    "duration": 3449,
    "start_time": "2021-11-04T14:31:38.513Z"
   },
   {
    "duration": 1287,
    "start_time": "2021-11-06T14:08:35.548Z"
   },
   {
    "duration": 56,
    "start_time": "2021-11-06T14:08:36.838Z"
   },
   {
    "duration": 231,
    "start_time": "2021-11-06T14:08:36.898Z"
   },
   {
    "duration": 139,
    "start_time": "2021-11-06T14:08:37.132Z"
   },
   {
    "duration": 201,
    "start_time": "2021-11-06T14:08:37.274Z"
   },
   {
    "duration": 32,
    "start_time": "2021-11-06T14:08:37.477Z"
   },
   {
    "duration": 16,
    "start_time": "2021-11-06T14:08:37.512Z"
   },
   {
    "duration": 6,
    "start_time": "2021-11-06T14:08:37.532Z"
   },
   {
    "duration": 7,
    "start_time": "2021-11-06T14:08:37.541Z"
   },
   {
    "duration": 27,
    "start_time": "2021-11-06T14:08:37.550Z"
   },
   {
    "duration": 58,
    "start_time": "2021-11-06T14:08:37.579Z"
   },
   {
    "duration": 24,
    "start_time": "2021-11-06T14:08:37.639Z"
   },
   {
    "duration": 20,
    "start_time": "2021-11-06T14:08:37.666Z"
   },
   {
    "duration": 96,
    "start_time": "2021-11-06T14:08:37.688Z"
   },
   {
    "duration": 58,
    "start_time": "2021-11-06T14:08:37.786Z"
   },
   {
    "duration": 49,
    "start_time": "2021-11-06T14:08:37.846Z"
   },
   {
    "duration": 39,
    "start_time": "2021-11-06T14:08:37.898Z"
   },
   {
    "duration": 282,
    "start_time": "2021-11-06T14:08:37.940Z"
   },
   {
    "duration": 18,
    "start_time": "2021-11-06T14:08:38.225Z"
   },
   {
    "duration": 15,
    "start_time": "2021-11-06T14:08:38.245Z"
   },
   {
    "duration": 19,
    "start_time": "2021-11-06T14:08:38.262Z"
   },
   {
    "duration": 53,
    "start_time": "2021-11-06T14:08:38.283Z"
   },
   {
    "duration": 16,
    "start_time": "2021-11-06T14:08:38.340Z"
   },
   {
    "duration": 91,
    "start_time": "2021-11-06T14:08:38.359Z"
   },
   {
    "duration": 5,
    "start_time": "2021-11-06T14:08:38.453Z"
   },
   {
    "duration": 35,
    "start_time": "2021-11-06T14:08:38.461Z"
   },
   {
    "duration": 12,
    "start_time": "2021-11-06T14:08:38.523Z"
   },
   {
    "duration": 37,
    "start_time": "2021-11-06T14:08:38.538Z"
   },
   {
    "duration": 44,
    "start_time": "2021-11-06T14:08:38.578Z"
   },
   {
    "duration": 16,
    "start_time": "2021-11-06T14:08:38.625Z"
   },
   {
    "duration": 11,
    "start_time": "2021-11-06T14:08:38.643Z"
   },
   {
    "duration": 16,
    "start_time": "2021-11-06T14:08:38.657Z"
   },
   {
    "duration": 13,
    "start_time": "2021-11-06T14:08:38.723Z"
   },
   {
    "duration": 1878,
    "start_time": "2021-11-06T14:08:38.738Z"
   },
   {
    "duration": 830,
    "start_time": "2021-11-06T14:08:40.623Z"
   },
   {
    "duration": 10,
    "start_time": "2021-11-06T14:08:41.455Z"
   },
   {
    "duration": 65,
    "start_time": "2021-11-06T14:08:41.468Z"
   },
   {
    "duration": 48,
    "start_time": "2021-11-06T14:08:41.535Z"
   },
   {
    "duration": 62,
    "start_time": "2021-11-06T14:08:41.586Z"
   },
   {
    "duration": 3574,
    "start_time": "2021-11-06T14:08:41.651Z"
   },
   {
    "duration": 3428,
    "start_time": "2021-11-06T14:08:45.228Z"
   },
   {
    "duration": 421,
    "start_time": "2021-11-06T14:22:00.049Z"
   },
   {
    "duration": 4,
    "start_time": "2021-11-06T14:22:42.709Z"
   },
   {
    "duration": 2193,
    "start_time": "2021-11-06T14:22:48.133Z"
   },
   {
    "duration": 8,
    "start_time": "2021-11-06T14:23:19.646Z"
   },
   {
    "duration": 1868,
    "start_time": "2021-11-06T15:08:01.533Z"
   },
   {
    "duration": 10,
    "start_time": "2021-11-06T15:08:47.030Z"
   },
   {
    "duration": 7,
    "start_time": "2021-11-06T15:09:10.647Z"
   },
   {
    "duration": 6,
    "start_time": "2021-11-06T15:10:03.339Z"
   },
   {
    "duration": 12,
    "start_time": "2021-11-06T15:18:40.506Z"
   },
   {
    "duration": 7,
    "start_time": "2021-11-06T15:23:11.765Z"
   },
   {
    "duration": 8,
    "start_time": "2021-11-06T15:45:25.031Z"
   },
   {
    "duration": 6,
    "start_time": "2021-11-06T15:49:07.336Z"
   },
   {
    "duration": 7,
    "start_time": "2021-11-06T15:51:31.278Z"
   },
   {
    "duration": 1233,
    "start_time": "2021-11-06T16:35:58.662Z"
   },
   {
    "duration": 55,
    "start_time": "2021-11-06T16:35:59.897Z"
   },
   {
    "duration": 236,
    "start_time": "2021-11-06T16:35:59.955Z"
   },
   {
    "duration": 146,
    "start_time": "2021-11-06T16:36:00.194Z"
   },
   {
    "duration": 212,
    "start_time": "2021-11-06T16:36:00.343Z"
   },
   {
    "duration": 34,
    "start_time": "2021-11-06T16:36:00.557Z"
   },
   {
    "duration": 11,
    "start_time": "2021-11-06T16:36:00.593Z"
   },
   {
    "duration": 20,
    "start_time": "2021-11-06T16:36:00.608Z"
   },
   {
    "duration": 21,
    "start_time": "2021-11-06T16:36:00.631Z"
   },
   {
    "duration": 37,
    "start_time": "2021-11-06T16:36:00.655Z"
   },
   {
    "duration": 32,
    "start_time": "2021-11-06T16:36:00.695Z"
   },
   {
    "duration": 26,
    "start_time": "2021-11-06T16:36:00.730Z"
   },
   {
    "duration": 18,
    "start_time": "2021-11-06T16:36:00.759Z"
   },
   {
    "duration": 97,
    "start_time": "2021-11-06T16:36:00.780Z"
   },
   {
    "duration": 51,
    "start_time": "2021-11-06T16:36:00.879Z"
   },
   {
    "duration": 47,
    "start_time": "2021-11-06T16:36:00.933Z"
   },
   {
    "duration": 45,
    "start_time": "2021-11-06T16:36:00.982Z"
   },
   {
    "duration": 303,
    "start_time": "2021-11-06T16:36:01.029Z"
   },
   {
    "duration": 19,
    "start_time": "2021-11-06T16:36:01.334Z"
   },
   {
    "duration": 16,
    "start_time": "2021-11-06T16:36:01.356Z"
   },
   {
    "duration": 55,
    "start_time": "2021-11-06T16:36:01.375Z"
   },
   {
    "duration": 15,
    "start_time": "2021-11-06T16:36:01.433Z"
   },
   {
    "duration": 16,
    "start_time": "2021-11-06T16:36:01.453Z"
   },
   {
    "duration": 97,
    "start_time": "2021-11-06T16:36:01.472Z"
   },
   {
    "duration": 5,
    "start_time": "2021-11-06T16:36:01.571Z"
   },
   {
    "duration": 51,
    "start_time": "2021-11-06T16:36:01.578Z"
   },
   {
    "duration": 10,
    "start_time": "2021-11-06T16:36:01.632Z"
   },
   {
    "duration": 52,
    "start_time": "2021-11-06T16:36:01.644Z"
   },
   {
    "duration": 25,
    "start_time": "2021-11-06T16:36:01.699Z"
   },
   {
    "duration": 13,
    "start_time": "2021-11-06T16:36:01.726Z"
   },
   {
    "duration": 9,
    "start_time": "2021-11-06T16:36:01.741Z"
   },
   {
    "duration": 17,
    "start_time": "2021-11-06T16:36:01.753Z"
   },
   {
    "duration": 50,
    "start_time": "2021-11-06T16:36:01.772Z"
   },
   {
    "duration": 2167,
    "start_time": "2021-11-06T16:36:01.824Z"
   },
   {
    "duration": 809,
    "start_time": "2021-11-06T16:36:03.993Z"
   },
   {
    "duration": 18,
    "start_time": "2021-11-06T16:36:04.804Z"
   },
   {
    "duration": 45,
    "start_time": "2021-11-06T16:36:04.824Z"
   },
   {
    "duration": 75,
    "start_time": "2021-11-06T16:36:04.872Z"
   },
   {
    "duration": 41,
    "start_time": "2021-11-06T16:36:04.949Z"
   },
   {
    "duration": 4987,
    "start_time": "2021-11-06T16:36:04.992Z"
   },
   {
    "duration": 5070,
    "start_time": "2021-11-06T16:36:09.982Z"
   },
   {
    "duration": 7,
    "start_time": "2021-11-06T16:36:15.054Z"
   },
   {
    "duration": 2102,
    "start_time": "2021-11-06T16:36:15.063Z"
   },
   {
    "duration": 13,
    "start_time": "2021-11-06T16:36:17.167Z"
   },
   {
    "duration": 7,
    "start_time": "2021-11-06T16:36:17.182Z"
   },
   {
    "duration": 36,
    "start_time": "2021-11-06T16:36:17.191Z"
   },
   {
    "duration": 1379,
    "start_time": "2021-11-06T17:39:37.434Z"
   },
   {
    "duration": 61,
    "start_time": "2021-11-06T17:39:38.815Z"
   },
   {
    "duration": 241,
    "start_time": "2021-11-06T17:39:38.879Z"
   },
   {
    "duration": 149,
    "start_time": "2021-11-06T17:39:39.122Z"
   },
   {
    "duration": 212,
    "start_time": "2021-11-06T17:39:39.274Z"
   },
   {
    "duration": 30,
    "start_time": "2021-11-06T17:39:39.489Z"
   },
   {
    "duration": 8,
    "start_time": "2021-11-06T17:39:39.522Z"
   },
   {
    "duration": 7,
    "start_time": "2021-11-06T17:39:39.533Z"
   },
   {
    "duration": 9,
    "start_time": "2021-11-06T17:39:39.543Z"
   },
   {
    "duration": 69,
    "start_time": "2021-11-06T17:39:39.554Z"
   },
   {
    "duration": 18,
    "start_time": "2021-11-06T17:39:39.625Z"
   },
   {
    "duration": 22,
    "start_time": "2021-11-06T17:39:39.646Z"
   },
   {
    "duration": 46,
    "start_time": "2021-11-06T17:39:39.670Z"
   },
   {
    "duration": 84,
    "start_time": "2021-11-06T17:39:39.719Z"
   },
   {
    "duration": 38,
    "start_time": "2021-11-06T17:39:39.805Z"
   },
   {
    "duration": 81,
    "start_time": "2021-11-06T17:39:39.846Z"
   },
   {
    "duration": 19,
    "start_time": "2021-11-06T17:39:39.929Z"
   },
   {
    "duration": 321,
    "start_time": "2021-11-06T17:39:39.950Z"
   },
   {
    "duration": 26,
    "start_time": "2021-11-06T17:39:40.274Z"
   },
   {
    "duration": 14,
    "start_time": "2021-11-06T17:39:40.303Z"
   },
   {
    "duration": 20,
    "start_time": "2021-11-06T17:39:40.320Z"
   },
   {
    "duration": 16,
    "start_time": "2021-11-06T17:39:40.342Z"
   },
   {
    "duration": 18,
    "start_time": "2021-11-06T17:39:40.399Z"
   },
   {
    "duration": 88,
    "start_time": "2021-11-06T17:39:40.420Z"
   },
   {
    "duration": 6,
    "start_time": "2021-11-06T17:39:40.510Z"
   },
   {
    "duration": 42,
    "start_time": "2021-11-06T17:39:40.518Z"
   },
   {
    "duration": 37,
    "start_time": "2021-11-06T17:39:40.564Z"
   },
   {
    "duration": 38,
    "start_time": "2021-11-06T17:39:40.604Z"
   },
   {
    "duration": 13,
    "start_time": "2021-11-06T17:39:40.645Z"
   },
   {
    "duration": 42,
    "start_time": "2021-11-06T17:39:40.661Z"
   },
   {
    "duration": 8,
    "start_time": "2021-11-06T17:39:40.706Z"
   },
   {
    "duration": 15,
    "start_time": "2021-11-06T17:39:40.717Z"
   },
   {
    "duration": 7,
    "start_time": "2021-11-06T17:39:40.734Z"
   },
   {
    "duration": 2035,
    "start_time": "2021-11-06T17:39:40.743Z"
   },
   {
    "duration": 828,
    "start_time": "2021-11-06T17:39:42.780Z"
   },
   {
    "duration": 9,
    "start_time": "2021-11-06T17:39:43.610Z"
   },
   {
    "duration": 46,
    "start_time": "2021-11-06T17:39:43.621Z"
   },
   {
    "duration": 74,
    "start_time": "2021-11-06T17:39:43.669Z"
   },
   {
    "duration": 61,
    "start_time": "2021-11-06T17:39:43.746Z"
   },
   {
    "duration": 3650,
    "start_time": "2021-11-06T17:39:43.809Z"
   },
   {
    "duration": 3521,
    "start_time": "2021-11-06T17:39:47.461Z"
   },
   {
    "duration": 7,
    "start_time": "2021-11-06T17:39:50.984Z"
   },
   {
    "duration": 1920,
    "start_time": "2021-11-06T17:39:51.001Z"
   },
   {
    "duration": 13,
    "start_time": "2021-11-06T17:39:52.923Z"
   },
   {
    "duration": 7,
    "start_time": "2021-11-06T17:39:52.938Z"
   },
   {
    "duration": 8,
    "start_time": "2021-11-06T17:39:52.948Z"
   },
   {
    "duration": 1368,
    "start_time": "2021-11-06T17:42:10.720Z"
   },
   {
    "duration": 60,
    "start_time": "2021-11-06T17:42:12.091Z"
   },
   {
    "duration": 247,
    "start_time": "2021-11-06T17:42:12.154Z"
   },
   {
    "duration": 159,
    "start_time": "2021-11-06T17:42:12.405Z"
   },
   {
    "duration": 222,
    "start_time": "2021-11-06T17:42:12.568Z"
   },
   {
    "duration": 31,
    "start_time": "2021-11-06T17:42:12.793Z"
   },
   {
    "duration": 12,
    "start_time": "2021-11-06T17:42:12.827Z"
   },
   {
    "duration": 8,
    "start_time": "2021-11-06T17:42:12.844Z"
   },
   {
    "duration": 51,
    "start_time": "2021-11-06T17:42:12.856Z"
   },
   {
    "duration": 30,
    "start_time": "2021-11-06T17:42:12.910Z"
   },
   {
    "duration": 57,
    "start_time": "2021-11-06T17:42:12.943Z"
   },
   {
    "duration": 25,
    "start_time": "2021-11-06T17:42:13.003Z"
   },
   {
    "duration": 19,
    "start_time": "2021-11-06T17:42:13.032Z"
   },
   {
    "duration": 111,
    "start_time": "2021-11-06T17:42:13.054Z"
   },
   {
    "duration": 57,
    "start_time": "2021-11-06T17:42:13.167Z"
   },
   {
    "duration": 50,
    "start_time": "2021-11-06T17:42:13.228Z"
   },
   {
    "duration": 35,
    "start_time": "2021-11-06T17:42:13.281Z"
   },
   {
    "duration": 304,
    "start_time": "2021-11-06T17:42:13.318Z"
   },
   {
    "duration": 18,
    "start_time": "2021-11-06T17:42:13.624Z"
   },
   {
    "duration": 16,
    "start_time": "2021-11-06T17:42:13.645Z"
   },
   {
    "duration": 49,
    "start_time": "2021-11-06T17:42:13.664Z"
   },
   {
    "duration": 16,
    "start_time": "2021-11-06T17:42:13.716Z"
   },
   {
    "duration": 16,
    "start_time": "2021-11-06T17:42:13.738Z"
   },
   {
    "duration": 103,
    "start_time": "2021-11-06T17:42:13.757Z"
   },
   {
    "duration": 5,
    "start_time": "2021-11-06T17:42:13.862Z"
   },
   {
    "duration": 58,
    "start_time": "2021-11-06T17:42:13.870Z"
   },
   {
    "duration": 11,
    "start_time": "2021-11-06T17:42:13.930Z"
   },
   {
    "duration": 64,
    "start_time": "2021-11-06T17:42:13.943Z"
   },
   {
    "duration": 13,
    "start_time": "2021-11-06T17:42:14.010Z"
   },
   {
    "duration": 13,
    "start_time": "2021-11-06T17:42:14.025Z"
   },
   {
    "duration": 13,
    "start_time": "2021-11-06T17:42:14.041Z"
   },
   {
    "duration": 21,
    "start_time": "2021-11-06T17:42:14.056Z"
   },
   {
    "duration": 13,
    "start_time": "2021-11-06T17:42:14.101Z"
   },
   {
    "duration": 1940,
    "start_time": "2021-11-06T17:42:14.116Z"
   },
   {
    "duration": 860,
    "start_time": "2021-11-06T17:42:16.059Z"
   },
   {
    "duration": 9,
    "start_time": "2021-11-06T17:42:16.922Z"
   },
   {
    "duration": 69,
    "start_time": "2021-11-06T17:42:16.933Z"
   },
   {
    "duration": 46,
    "start_time": "2021-11-06T17:42:17.004Z"
   },
   {
    "duration": 52,
    "start_time": "2021-11-06T17:42:17.052Z"
   },
   {
    "duration": 3713,
    "start_time": "2021-11-06T17:42:17.114Z"
   },
   {
    "duration": 3689,
    "start_time": "2021-11-06T17:42:20.829Z"
   },
   {
    "duration": 8,
    "start_time": "2021-11-06T17:42:24.521Z"
   },
   {
    "duration": 1997,
    "start_time": "2021-11-06T17:42:24.531Z"
   },
   {
    "duration": 13,
    "start_time": "2021-11-06T17:42:26.530Z"
   },
   {
    "duration": 6,
    "start_time": "2021-11-06T17:42:26.546Z"
   },
   {
    "duration": 12,
    "start_time": "2021-11-06T17:42:26.554Z"
   },
   {
    "duration": 22,
    "start_time": "2021-11-06T17:52:32.335Z"
   },
   {
    "duration": 1472,
    "start_time": "2021-11-07T12:55:50.862Z"
   },
   {
    "duration": 95,
    "start_time": "2021-11-07T12:55:54.214Z"
   },
   {
    "duration": 239,
    "start_time": "2021-11-07T12:55:59.936Z"
   },
   {
    "duration": 142,
    "start_time": "2021-11-07T12:56:06.646Z"
   },
   {
    "duration": 217,
    "start_time": "2021-11-07T12:56:11.494Z"
   },
   {
    "duration": 30,
    "start_time": "2021-11-07T12:56:18.534Z"
   },
   {
    "duration": 1515,
    "start_time": "2021-11-07T13:49:39.638Z"
   },
   {
    "duration": 96,
    "start_time": "2021-11-07T13:49:41.156Z"
   },
   {
    "duration": 299,
    "start_time": "2021-11-07T13:49:41.255Z"
   },
   {
    "duration": 314,
    "start_time": "2021-11-07T13:49:41.572Z"
   },
   {
    "duration": 290,
    "start_time": "2021-11-07T13:49:41.904Z"
   },
   {
    "duration": 31,
    "start_time": "2021-11-07T13:49:42.196Z"
   },
   {
    "duration": 14,
    "start_time": "2021-11-07T13:49:42.230Z"
   },
   {
    "duration": 16,
    "start_time": "2021-11-07T13:49:42.247Z"
   },
   {
    "duration": 14,
    "start_time": "2021-11-07T13:49:42.265Z"
   },
   {
    "duration": 32,
    "start_time": "2021-11-07T13:49:42.281Z"
   },
   {
    "duration": 45,
    "start_time": "2021-11-07T13:49:42.315Z"
   },
   {
    "duration": 23,
    "start_time": "2021-11-07T13:49:42.363Z"
   },
   {
    "duration": 10623,
    "start_time": "2021-11-07T13:49:42.389Z"
   },
   {
    "duration": 1059,
    "start_time": "2021-11-07T13:49:51.959Z"
   },
   {
    "duration": 1053,
    "start_time": "2021-11-07T13:49:51.967Z"
   },
   {
    "duration": 1050,
    "start_time": "2021-11-07T13:49:51.972Z"
   },
   {
    "duration": 1046,
    "start_time": "2021-11-07T13:49:51.978Z"
   },
   {
    "duration": 1043,
    "start_time": "2021-11-07T13:49:51.983Z"
   },
   {
    "duration": 1039,
    "start_time": "2021-11-07T13:49:51.989Z"
   },
   {
    "duration": 1036,
    "start_time": "2021-11-07T13:49:51.994Z"
   },
   {
    "duration": 1031,
    "start_time": "2021-11-07T13:49:52.001Z"
   },
   {
    "duration": 1027,
    "start_time": "2021-11-07T13:49:52.007Z"
   },
   {
    "duration": 1023,
    "start_time": "2021-11-07T13:49:52.013Z"
   },
   {
    "duration": 1019,
    "start_time": "2021-11-07T13:49:52.018Z"
   },
   {
    "duration": 1016,
    "start_time": "2021-11-07T13:49:52.024Z"
   },
   {
    "duration": 1013,
    "start_time": "2021-11-07T13:49:52.029Z"
   },
   {
    "duration": 1001,
    "start_time": "2021-11-07T13:49:52.042Z"
   },
   {
    "duration": 997,
    "start_time": "2021-11-07T13:49:52.048Z"
   },
   {
    "duration": 993,
    "start_time": "2021-11-07T13:49:52.054Z"
   },
   {
    "duration": 989,
    "start_time": "2021-11-07T13:49:52.060Z"
   },
   {
    "duration": 985,
    "start_time": "2021-11-07T13:49:52.066Z"
   },
   {
    "duration": 981,
    "start_time": "2021-11-07T13:49:52.071Z"
   },
   {
    "duration": 981,
    "start_time": "2021-11-07T13:49:52.077Z"
   },
   {
    "duration": 978,
    "start_time": "2021-11-07T13:49:52.082Z"
   },
   {
    "duration": 974,
    "start_time": "2021-11-07T13:49:52.088Z"
   },
   {
    "duration": 970,
    "start_time": "2021-11-07T13:49:52.093Z"
   },
   {
    "duration": 966,
    "start_time": "2021-11-07T13:49:52.099Z"
   },
   {
    "duration": 962,
    "start_time": "2021-11-07T13:49:52.105Z"
   },
   {
    "duration": 959,
    "start_time": "2021-11-07T13:49:52.110Z"
   },
   {
    "duration": 956,
    "start_time": "2021-11-07T13:49:52.115Z"
   },
   {
    "duration": 952,
    "start_time": "2021-11-07T13:49:52.121Z"
   },
   {
    "duration": 950,
    "start_time": "2021-11-07T13:49:52.126Z"
   },
   {
    "duration": 946,
    "start_time": "2021-11-07T13:49:52.132Z"
   },
   {
    "duration": 943,
    "start_time": "2021-11-07T13:49:52.137Z"
   },
   {
    "duration": 930,
    "start_time": "2021-11-07T13:49:52.151Z"
   },
   {
    "duration": 7,
    "start_time": "2021-11-07T13:51:23.502Z"
   },
   {
    "duration": 7034,
    "start_time": "2021-11-07T13:51:29.610Z"
   },
   {
    "duration": 1387,
    "start_time": "2021-11-07T13:51:51.927Z"
   },
   {
    "duration": 69,
    "start_time": "2021-11-07T13:51:53.316Z"
   },
   {
    "duration": 240,
    "start_time": "2021-11-07T13:51:53.387Z"
   },
   {
    "duration": 144,
    "start_time": "2021-11-07T13:51:53.629Z"
   },
   {
    "duration": 223,
    "start_time": "2021-11-07T13:51:53.775Z"
   },
   {
    "duration": 29,
    "start_time": "2021-11-07T13:51:54.001Z"
   },
   {
    "duration": 8,
    "start_time": "2021-11-07T13:51:54.032Z"
   },
   {
    "duration": 20,
    "start_time": "2021-11-07T13:51:54.043Z"
   },
   {
    "duration": 11,
    "start_time": "2021-11-07T13:51:54.066Z"
   },
   {
    "duration": 26,
    "start_time": "2021-11-07T13:51:54.079Z"
   },
   {
    "duration": 18,
    "start_time": "2021-11-07T13:51:54.160Z"
   },
   {
    "duration": 20,
    "start_time": "2021-11-07T13:51:54.180Z"
   },
   {
    "duration": 17,
    "start_time": "2021-11-07T13:51:54.203Z"
   },
   {
    "duration": 91,
    "start_time": "2021-11-07T13:51:54.222Z"
   },
   {
    "duration": 52,
    "start_time": "2021-11-07T13:51:54.315Z"
   },
   {
    "duration": 43,
    "start_time": "2021-11-07T13:51:54.369Z"
   },
   {
    "duration": 17,
    "start_time": "2021-11-07T13:51:54.415Z"
   },
   {
    "duration": 247,
    "start_time": "2021-11-07T13:51:54.434Z"
   },
   {
    "duration": 18,
    "start_time": "2021-11-07T13:51:54.684Z"
   },
   {
    "duration": 15,
    "start_time": "2021-11-07T13:51:54.704Z"
   },
   {
    "duration": 46,
    "start_time": "2021-11-07T13:51:54.721Z"
   },
   {
    "duration": 66,
    "start_time": "2021-11-07T13:51:54.769Z"
   },
   {
    "duration": 19,
    "start_time": "2021-11-07T13:51:54.840Z"
   },
   {
    "duration": 33,
    "start_time": "2021-11-07T13:51:54.861Z"
   },
   {
    "duration": 10,
    "start_time": "2021-11-07T13:51:54.896Z"
   },
   {
    "duration": 63,
    "start_time": "2021-11-07T13:51:54.908Z"
   },
   {
    "duration": 12,
    "start_time": "2021-11-07T13:51:54.973Z"
   },
   {
    "duration": 23,
    "start_time": "2021-11-07T13:51:54.987Z"
   },
   {
    "duration": 9,
    "start_time": "2021-11-07T13:51:55.013Z"
   },
   {
    "duration": 37,
    "start_time": "2021-11-07T13:51:55.024Z"
   },
   {
    "duration": 12,
    "start_time": "2021-11-07T13:51:55.063Z"
   },
   {
    "duration": 1848,
    "start_time": "2021-11-07T13:51:55.077Z"
   },
   {
    "duration": 780,
    "start_time": "2021-11-07T13:51:56.928Z"
   },
   {
    "duration": 8,
    "start_time": "2021-11-07T13:51:57.711Z"
   },
   {
    "duration": 64,
    "start_time": "2021-11-07T13:51:57.721Z"
   },
   {
    "duration": 44,
    "start_time": "2021-11-07T13:51:57.788Z"
   },
   {
    "duration": 66,
    "start_time": "2021-11-07T13:51:57.834Z"
   },
   {
    "duration": 3850,
    "start_time": "2021-11-07T13:51:57.902Z"
   },
   {
    "duration": 3976,
    "start_time": "2021-11-07T13:52:01.756Z"
   },
   {
    "duration": 9,
    "start_time": "2021-11-07T13:52:05.735Z"
   },
   {
    "duration": 1952,
    "start_time": "2021-11-07T13:52:05.747Z"
   },
   {
    "duration": 16,
    "start_time": "2021-11-07T13:52:07.702Z"
   },
   {
    "duration": 6,
    "start_time": "2021-11-07T13:52:07.720Z"
   },
   {
    "duration": 34,
    "start_time": "2021-11-07T13:52:07.729Z"
   },
   {
    "duration": 12,
    "start_time": "2021-11-07T13:52:07.765Z"
   },
   {
    "duration": 1323,
    "start_time": "2021-11-07T14:05:40.101Z"
   },
   {
    "duration": 1262,
    "start_time": "2021-11-07T14:06:47.119Z"
   },
   {
    "duration": 1118,
    "start_time": "2021-11-07T14:19:08.213Z"
   },
   {
    "duration": 1352,
    "start_time": "2021-11-07T14:28:21.066Z"
   },
   {
    "duration": 59,
    "start_time": "2021-11-07T14:28:22.421Z"
   },
   {
    "duration": 220,
    "start_time": "2021-11-07T14:28:22.483Z"
   },
   {
    "duration": 133,
    "start_time": "2021-11-07T14:28:22.706Z"
   },
   {
    "duration": 201,
    "start_time": "2021-11-07T14:28:22.841Z"
   },
   {
    "duration": 31,
    "start_time": "2021-11-07T14:28:23.045Z"
   },
   {
    "duration": 26,
    "start_time": "2021-11-07T14:28:23.079Z"
   },
   {
    "duration": 9,
    "start_time": "2021-11-07T14:28:23.109Z"
   },
   {
    "duration": 18,
    "start_time": "2021-11-07T14:28:23.121Z"
   },
   {
    "duration": 45,
    "start_time": "2021-11-07T14:28:23.142Z"
   },
   {
    "duration": 19,
    "start_time": "2021-11-07T14:28:23.190Z"
   },
   {
    "duration": 46,
    "start_time": "2021-11-07T14:28:23.212Z"
   },
   {
    "duration": 19,
    "start_time": "2021-11-07T14:28:23.261Z"
   },
   {
    "duration": 85,
    "start_time": "2021-11-07T14:28:23.283Z"
   },
   {
    "duration": 39,
    "start_time": "2021-11-07T14:28:23.370Z"
   },
   {
    "duration": 73,
    "start_time": "2021-11-07T14:28:23.411Z"
   },
   {
    "duration": 16,
    "start_time": "2021-11-07T14:28:23.486Z"
   },
   {
    "duration": 231,
    "start_time": "2021-11-07T14:28:23.504Z"
   },
   {
    "duration": 26,
    "start_time": "2021-11-07T14:28:23.737Z"
   },
   {
    "duration": 15,
    "start_time": "2021-11-07T14:28:23.766Z"
   },
   {
    "duration": 15,
    "start_time": "2021-11-07T14:28:23.783Z"
   },
   {
    "duration": 102,
    "start_time": "2021-11-07T14:28:23.800Z"
   },
   {
    "duration": 6,
    "start_time": "2021-11-07T14:28:23.910Z"
   },
   {
    "duration": 52,
    "start_time": "2021-11-07T14:28:23.920Z"
   },
   {
    "duration": 10,
    "start_time": "2021-11-07T14:28:23.974Z"
   },
   {
    "duration": 36,
    "start_time": "2021-11-07T14:28:23.986Z"
   },
   {
    "duration": 35,
    "start_time": "2021-11-07T14:28:24.024Z"
   },
   {
    "duration": 14,
    "start_time": "2021-11-07T14:28:24.061Z"
   },
   {
    "duration": 9,
    "start_time": "2021-11-07T14:28:24.077Z"
   },
   {
    "duration": 18,
    "start_time": "2021-11-07T14:28:24.088Z"
   },
   {
    "duration": 12,
    "start_time": "2021-11-07T14:28:24.108Z"
   },
   {
    "duration": 2003,
    "start_time": "2021-11-07T14:28:24.159Z"
   },
   {
    "duration": 740,
    "start_time": "2021-11-07T14:28:26.165Z"
   },
   {
    "duration": 9,
    "start_time": "2021-11-07T14:28:26.908Z"
   },
   {
    "duration": 58,
    "start_time": "2021-11-07T14:28:26.919Z"
   },
   {
    "duration": 44,
    "start_time": "2021-11-07T14:28:26.980Z"
   },
   {
    "duration": 66,
    "start_time": "2021-11-07T14:28:27.027Z"
   },
   {
    "duration": 3731,
    "start_time": "2021-11-07T14:28:27.096Z"
   },
   {
    "duration": 3675,
    "start_time": "2021-11-07T14:28:30.830Z"
   },
   {
    "duration": 1135,
    "start_time": "2021-11-07T14:28:34.508Z"
   },
   {
    "duration": 16,
    "start_time": "2021-11-07T14:28:35.645Z"
   },
   {
    "duration": 1837,
    "start_time": "2021-11-07T14:28:35.663Z"
   },
   {
    "duration": 14,
    "start_time": "2021-11-07T14:28:37.502Z"
   },
   {
    "duration": 7,
    "start_time": "2021-11-07T14:28:37.518Z"
   },
   {
    "duration": 39,
    "start_time": "2021-11-07T14:28:37.528Z"
   },
   {
    "duration": 8,
    "start_time": "2021-11-07T14:28:37.570Z"
   },
   {
    "duration": 1360,
    "start_time": "2021-11-07T19:53:43.881Z"
   },
   {
    "duration": 50,
    "start_time": "2021-11-07T19:53:45.244Z"
   },
   {
    "duration": 225,
    "start_time": "2021-11-07T19:53:45.297Z"
   },
   {
    "duration": 145,
    "start_time": "2021-11-07T19:53:45.525Z"
   },
   {
    "duration": 206,
    "start_time": "2021-11-07T19:53:45.672Z"
   },
   {
    "duration": 30,
    "start_time": "2021-11-07T19:53:45.880Z"
   },
   {
    "duration": 7,
    "start_time": "2021-11-07T19:53:45.912Z"
   },
   {
    "duration": 8,
    "start_time": "2021-11-07T19:53:45.923Z"
   },
   {
    "duration": 8,
    "start_time": "2021-11-07T19:53:45.960Z"
   },
   {
    "duration": 29,
    "start_time": "2021-11-07T19:53:45.970Z"
   },
   {
    "duration": 20,
    "start_time": "2021-11-07T19:53:46.002Z"
   },
   {
    "duration": 24,
    "start_time": "2021-11-07T19:53:46.059Z"
   },
   {
    "duration": 19,
    "start_time": "2021-11-07T19:53:46.086Z"
   },
   {
    "duration": 108,
    "start_time": "2021-11-07T19:53:46.109Z"
   },
   {
    "duration": 47,
    "start_time": "2021-11-07T19:53:46.220Z"
   },
   {
    "duration": 49,
    "start_time": "2021-11-07T19:53:46.270Z"
   },
   {
    "duration": 43,
    "start_time": "2021-11-07T19:53:46.321Z"
   },
   {
    "duration": 240,
    "start_time": "2021-11-07T19:53:46.366Z"
   },
   {
    "duration": 20,
    "start_time": "2021-11-07T19:53:46.608Z"
   },
   {
    "duration": 43,
    "start_time": "2021-11-07T19:53:46.631Z"
   },
   {
    "duration": 18,
    "start_time": "2021-11-07T19:53:46.677Z"
   },
   {
    "duration": 101,
    "start_time": "2021-11-07T19:53:46.697Z"
   },
   {
    "duration": 5,
    "start_time": "2021-11-07T19:53:46.804Z"
   },
   {
    "duration": 48,
    "start_time": "2021-11-07T19:53:46.812Z"
   },
   {
    "duration": 9,
    "start_time": "2021-11-07T19:53:46.863Z"
   },
   {
    "duration": 43,
    "start_time": "2021-11-07T19:53:46.874Z"
   },
   {
    "duration": 13,
    "start_time": "2021-11-07T19:53:46.919Z"
   },
   {
    "duration": 34,
    "start_time": "2021-11-07T19:53:46.935Z"
   },
   {
    "duration": 9,
    "start_time": "2021-11-07T19:53:46.971Z"
   },
   {
    "duration": 13,
    "start_time": "2021-11-07T19:53:46.982Z"
   },
   {
    "duration": 11,
    "start_time": "2021-11-07T19:53:46.998Z"
   },
   {
    "duration": 1952,
    "start_time": "2021-11-07T19:53:47.011Z"
   },
   {
    "duration": 788,
    "start_time": "2021-11-07T19:53:48.966Z"
   },
   {
    "duration": 9,
    "start_time": "2021-11-07T19:53:49.760Z"
   },
   {
    "duration": 45,
    "start_time": "2021-11-07T19:53:49.772Z"
   },
   {
    "duration": 74,
    "start_time": "2021-11-07T19:53:49.819Z"
   },
   {
    "duration": 31,
    "start_time": "2021-11-07T19:53:49.896Z"
   },
   {
    "duration": 3957,
    "start_time": "2021-11-07T19:53:49.930Z"
   },
   {
    "duration": 4077,
    "start_time": "2021-11-07T19:53:53.890Z"
   },
   {
    "duration": 1336,
    "start_time": "2021-11-07T19:53:57.969Z"
   },
   {
    "duration": 7,
    "start_time": "2021-11-07T19:53:59.308Z"
   },
   {
    "duration": 1866,
    "start_time": "2021-11-07T19:53:59.318Z"
   },
   {
    "duration": 12,
    "start_time": "2021-11-07T19:54:01.187Z"
   },
   {
    "duration": 19,
    "start_time": "2021-11-07T19:54:01.201Z"
   },
   {
    "duration": 13,
    "start_time": "2021-11-07T19:54:01.222Z"
   },
   {
    "duration": 28,
    "start_time": "2021-11-07T19:54:01.238Z"
   }
  ],
  "kernelspec": {
   "display_name": "Python 3",
   "language": "python",
   "name": "python3"
  },
  "language_info": {
   "codemirror_mode": {
    "name": "ipython",
    "version": 3
   },
   "file_extension": ".py",
   "mimetype": "text/x-python",
   "name": "python",
   "nbconvert_exporter": "python",
   "pygments_lexer": "ipython3",
   "version": "3.7.8"
  },
  "toc": {
   "base_numbering": 1,
   "nav_menu": {},
   "number_sections": true,
   "sideBar": true,
   "skip_h1_title": true,
   "title_cell": "Table of Contents",
   "title_sidebar": "Contents",
   "toc_cell": false,
   "toc_position": {
    "height": "calc(100% - 180px)",
    "left": "10px",
    "top": "150px",
    "width": "174.391px"
   },
   "toc_section_display": true,
   "toc_window_display": true
  }
 },
 "nbformat": 4,
 "nbformat_minor": 2
}
